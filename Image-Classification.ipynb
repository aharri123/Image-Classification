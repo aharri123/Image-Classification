{
 "cells": [
  {
   "cell_type": "code",
   "execution_count": null,
   "metadata": {},
   "outputs": [],
   "source": []
  },
  {
   "cell_type": "code",
   "execution_count": 1,
   "metadata": {},
   "outputs": [],
   "source": [
    "from keras.preprocessing.image import ImageDataGenerator\n",
    "from keras_preprocessing.image import img_to_array, img_to_array, load_img\n",
    "from keras.models import Sequential\n",
    "from keras.layers import Dense\n",
    "import numpy as np\n",
    "import matplotlib.pyplot as plt\n",
    "import os"
   ]
  },
  {
   "cell_type": "code",
   "execution_count": 2,
   "metadata": {},
   "outputs": [],
   "source": [
    "#Create our directory paths to our images\n",
    "train_data_dir = 'data/train'\n",
    "test_data_dir = 'data/test'\n",
    "valid_data_dir = 'data/validation'"
   ]
  },
  {
   "cell_type": "code",
   "execution_count": 3,
   "metadata": {},
   "outputs": [],
   "source": [
    "#Let's plot the number of images in each classification directory\n",
    "\n",
    "def bar_plot(dir):\n",
    "  x=len(os.listdir(dir+'/NORMAL'))\n",
    "  y=len(os.listdir(dir+'/PNEUMONIA'))\n",
    "  category = ['NORMAL', 'PNEUMONIA']\n",
    "  count = [x, y]\n",
    "  plot = plt.bar(category,count) \n",
    "  plot[0].set_color('orange')\n",
    "  plt.title('Number of values for each category')\n",
    "  plt.show()"
   ]
  },
  {
   "cell_type": "code",
   "execution_count": 4,
   "metadata": {},
   "outputs": [
    {
     "name": "stdout",
     "output_type": "stream",
     "text": [
      "Training images:\n",
      "\n",
      "NORMAL: 1341\n",
      "PNEUMONIA: 3875\n",
      "Total Training images: 5216\n",
      "*************************************************\n"
     ]
    },
    {
     "data": {
      "image/png": "[encoded data removed]",
      "text/plain": [
       "<Figure size 432x288 with 1 Axes>"
      ]
     },
     "metadata": {
      "needs_background": "light"
     },
     "output_type": "display_data"
    }
   ],
   "source": [
    "#Number of training images\n",
    "print('Training images:\\n')\n",
    "print('NORMAL:', len(os.listdir(train_data_dir+'/NORMAL')))\n",
    "print('PNEUMONIA:', len(os.listdir(train_data_dir+'/PNEUMONIA')))\n",
    "print('Total Training images:', len(os.listdir(train_data_dir+'/NORMAL')) + len(os.listdir(train_data_dir+'/PNEUMONIA')))\n",
    "print('*'*49)\n",
    "bar_plot(train_data_dir)"
   ]
  },
  {
   "cell_type": "code",
   "execution_count": 5,
   "metadata": {},
   "outputs": [
    {
     "name": "stdout",
     "output_type": "stream",
     "text": [
      "Test images:\n",
      "\n",
      "NORMAL: 234\n",
      "PNEUMONIA: 390\n",
      "Total Test images: 624\n",
      "*************************************************\n"
     ]
    },
    {
     "data": {
      "image/png": "[encoded data removed]",
      "text/plain": [
       "<Figure size 432x288 with 1 Axes>"
      ]
     },
     "metadata": {
      "needs_background": "light"
     },
     "output_type": "display_data"
    }
   ],
   "source": [
    "#Number of test images\n",
    "print('Test images:\\n')\n",
    "print('NORMAL:', len(os.listdir(test_data_dir+'/NORMAL')))\n",
    "print('PNEUMONIA:', len(os.listdir(test_data_dir+'/PNEUMONIA')))\n",
    "print('Total Test images:', len(os.listdir(test_data_dir+'/NORMAL')) + len(os.listdir(test_data_dir+'/PNEUMONIA')))\n",
    "print('*'*49)\n",
    "bar_plot(test_data_dir)"
   ]
  },
  {
   "cell_type": "code",
   "execution_count": 6,
   "metadata": {},
   "outputs": [
    {
     "name": "stdout",
     "output_type": "stream",
     "text": [
      "Validation images:\n",
      "\n",
      "NORMAL: 8\n",
      "PNEUMONIA: 8\n",
      "Total Validation images: 16\n",
      "***********************************************\n"
     ]
    },
    {
     "data": {
      "image/png": "[encoded data removed]",
      "text/plain": [
       "<Figure size 432x288 with 1 Axes>"
      ]
     },
     "metadata": {
      "needs_background": "light"
     },
     "output_type": "display_data"
    }
   ],
   "source": [
    "#Number of validation images\n",
    "print('Validation images:\\n')\n",
    "print('NORMAL:', len(os.listdir(valid_data_dir+'/NORMAL')))\n",
    "print('PNEUMONIA:', len(os.listdir(valid_data_dir+'/PNEUMONIA')))\n",
    "print('Total Validation images:', len(os.listdir(valid_data_dir+'/NORMAL')) + len(os.listdir(valid_data_dir+'/PNEUMONIA')))\n",
    "print('*'*47)\n",
    "bar_plot(valid_data_dir)\n"
   ]
  },
  {
   "cell_type": "code",
   "execution_count": 7,
   "metadata": {},
   "outputs": [
    {
     "name": "stdout",
     "output_type": "stream",
     "text": [
      "Found 5216 images belonging to 2 classes.\n"
     ]
    }
   ],
   "source": [
    "# Get all the data in the directory data/train and reshape them\n",
    "\n",
    "train_generator = ImageDataGenerator().flow_from_directory(\n",
    "        train_data_dir, \n",
    "        target_size=(64, 64), \n",
    "        batch_size=5216)"
   ]
  },
  {
   "cell_type": "code",
   "execution_count": 8,
   "metadata": {},
   "outputs": [
    {
     "name": "stdout",
     "output_type": "stream",
     "text": [
      "Found 624 images belonging to 2 classes.\n"
     ]
    }
   ],
   "source": [
    "# Get all the data in the directory data/test and reshape them\n",
    "\n",
    "test_generator = ImageDataGenerator().flow_from_directory(\n",
    "        test_data_dir, \n",
    "        target_size=(64, 64), \n",
    "        batch_size=624)"
   ]
  },
  {
   "cell_type": "code",
   "execution_count": 9,
   "metadata": {},
   "outputs": [
    {
     "name": "stdout",
     "output_type": "stream",
     "text": [
      "Found 16 images belonging to 2 classes.\n"
     ]
    }
   ],
   "source": [
    "# Get all the data in the directory data/validation and reshape them\n",
    "\n",
    "val_generator = ImageDataGenerator().flow_from_directory(\n",
    "    valid_data_dir, \n",
    "    target_size=(64, 64), \n",
    "    batch_size=16)"
   ]
  },
  {
   "cell_type": "code",
   "execution_count": 10,
   "metadata": {},
   "outputs": [],
   "source": [
    "#Create our different data sets\n",
    "\n",
    "#Training set\n",
    "X_train, y_train = next(train_generator)\n",
    "\n",
    "#Test set\n",
    "X_test, y_test = next(test_generator)\n",
    "\n",
    "#Validation set\n",
    "X_val, y_val = next(val_generator)"
   ]
  },
  {
   "cell_type": "code",
   "execution_count": 11,
   "metadata": {},
   "outputs": [
    {
     "name": "stdout",
     "output_type": "stream",
     "text": [
      "(5216, 64, 64, 3)\n",
      "(5216, 2)\n",
      "(624, 64, 64, 3)\n",
      "(624, 2)\n"
     ]
    }
   ],
   "source": [
    "#Let's look at the shape of our data\n",
    "\n",
    "print(X_train.shape)\n",
    "print(y_train.shape)\n",
    "print(X_test.shape)\n",
    "print(y_test.shape)"
   ]
  },
  {
   "cell_type": "markdown",
   "metadata": {},
   "source": [
    "#### Let's reshape our data ####"
   ]
  },
  {
   "cell_type": "code",
   "execution_count": 12,
   "metadata": {
    "scrolled": true
   },
   "outputs": [
    {
     "data": {
      "text/plain": [
       "array([[[[  0.,   0.,   0.],\n",
       "         [  0.,   0.,   0.],\n",
       "         [  0.,   0.,   0.],\n",
       "         ...,\n",
       "         [ 48.,  48.,  48.],\n",
       "         [ 33.,  33.,  33.],\n",
       "         [  4.,   4.,   4.]],\n",
       "\n",
       "        [[  0.,   0.,   0.],\n",
       "         [  0.,   0.,   0.],\n",
       "         [  0.,   0.,   0.],\n",
       "         ...,\n",
       "         [ 50.,  50.,  50.],\n",
       "         [ 28.,  28.,  28.],\n",
       "         [  1.,   1.,   1.]],\n",
       "\n",
       "        [[  0.,   0.,   0.],\n",
       "         [  0.,   0.,   0.],\n",
       "         [  0.,   0.,   0.],\n",
       "         ...,\n",
       "         [ 42.,  42.,  42.],\n",
       "         [ 27.,  27.,  27.],\n",
       "         [  0.,   0.,   0.]],\n",
       "\n",
       "        ...,\n",
       "\n",
       "        [[  0.,   0.,   0.],\n",
       "         [  0.,   0.,   0.],\n",
       "         [  0.,   0.,   0.],\n",
       "         ...,\n",
       "         [  0.,   0.,   0.],\n",
       "         [  0.,   0.,   0.],\n",
       "         [  0.,   0.,   0.]],\n",
       "\n",
       "        [[  0.,   0.,   0.],\n",
       "         [  0.,   0.,   0.],\n",
       "         [  0.,   0.,   0.],\n",
       "         ...,\n",
       "         [  0.,   0.,   0.],\n",
       "         [  0.,   0.,   0.],\n",
       "         [  0.,   0.,   0.]],\n",
       "\n",
       "        [[  0.,   0.,   0.],\n",
       "         [  0.,   0.,   0.],\n",
       "         [  0.,   0.,   0.],\n",
       "         ...,\n",
       "         [  0.,   0.,   0.],\n",
       "         [  0.,   0.,   0.],\n",
       "         [  0.,   0.,   0.]]],\n",
       "\n",
       "\n",
       "       [[[ 44.,  44.,  44.],\n",
       "         [ 61.,  61.,  61.],\n",
       "         [ 46.,  46.,  46.],\n",
       "         ...,\n",
       "         [ 48.,  48.,  48.],\n",
       "         [ 48.,  48.,  48.],\n",
       "         [ 70.,  70.,  70.]],\n",
       "\n",
       "        [[ 45.,  45.,  45.],\n",
       "         [ 38.,  38.,  38.],\n",
       "         [ 38.,  38.,  38.],\n",
       "         ...,\n",
       "         [ 50.,  50.,  50.],\n",
       "         [ 51.,  51.,  51.],\n",
       "         [ 81.,  81.,  81.]],\n",
       "\n",
       "        [[ 50.,  50.,  50.],\n",
       "         [ 49.,  49.,  49.],\n",
       "         [ 47.,  47.,  47.],\n",
       "         ...,\n",
       "         [ 50.,  50.,  50.],\n",
       "         [ 59.,  59.,  59.],\n",
       "         [ 84.,  84.,  84.]],\n",
       "\n",
       "        ...,\n",
       "\n",
       "        [[ 17.,  17.,  17.],\n",
       "         [  6.,   6.,   6.],\n",
       "         [ 44.,  44.,  44.],\n",
       "         ...,\n",
       "         [ 94.,  94.,  94.],\n",
       "         [167., 167., 167.],\n",
       "         [199., 199., 199.]],\n",
       "\n",
       "        [[ 17.,  17.,  17.],\n",
       "         [  2.,   2.,   2.],\n",
       "         [ 43.,  43.,  43.],\n",
       "         ...,\n",
       "         [105., 105., 105.],\n",
       "         [176., 176., 176.],\n",
       "         [206., 206., 206.]],\n",
       "\n",
       "        [[ 16.,  16.,  16.],\n",
       "         [  0.,   0.,   0.],\n",
       "         [ 43.,  43.,  43.],\n",
       "         ...,\n",
       "         [115., 115., 115.],\n",
       "         [184., 184., 184.],\n",
       "         [207., 207., 207.]]],\n",
       "\n",
       "\n",
       "       [[[ 95.,  95.,  95.],\n",
       "         [ 94.,  94.,  94.],\n",
       "         [113., 113., 113.],\n",
       "         ...,\n",
       "         [150., 150., 150.],\n",
       "         [154., 154., 154.],\n",
       "         [149., 149., 149.]],\n",
       "\n",
       "        [[ 94.,  94.,  94.],\n",
       "         [100., 100., 100.],\n",
       "         [112., 112., 112.],\n",
       "         ...,\n",
       "         [159., 159., 159.],\n",
       "         [160., 160., 160.],\n",
       "         [154., 154., 154.]],\n",
       "\n",
       "        [[ 83.,  83.,  83.],\n",
       "         [ 99.,  99.,  99.],\n",
       "         [118., 118., 118.],\n",
       "         ...,\n",
       "         [152., 152., 152.],\n",
       "         [174., 174., 174.],\n",
       "         [101., 101., 101.]],\n",
       "\n",
       "        ...,\n",
       "\n",
       "        [[  0.,   0.,   0.],\n",
       "         [  0.,   0.,   0.],\n",
       "         [ 33.,  33.,  33.],\n",
       "         ...,\n",
       "         [ 55.,  55.,  55.],\n",
       "         [ 13.,  13.,  13.],\n",
       "         [  0.,   0.,   0.]],\n",
       "\n",
       "        [[  0.,   0.,   0.],\n",
       "         [  0.,   0.,   0.],\n",
       "         [ 39.,  39.,  39.],\n",
       "         ...,\n",
       "         [ 59.,  59.,  59.],\n",
       "         [ 19.,  19.,  19.],\n",
       "         [  0.,   0.,   0.]],\n",
       "\n",
       "        [[  0.,   0.,   0.],\n",
       "         [  0.,   0.,   0.],\n",
       "         [ 43.,  43.,  43.],\n",
       "         ...,\n",
       "         [ 70.,  70.,  70.],\n",
       "         [ 26.,  26.,  26.],\n",
       "         [  0.,   0.,   0.]]],\n",
       "\n",
       "\n",
       "       ...,\n",
       "\n",
       "\n",
       "       [[[ 56.,  56.,  56.],\n",
       "         [106., 106., 106.],\n",
       "         [102., 102., 102.],\n",
       "         ...,\n",
       "         [130., 130., 130.],\n",
       "         [140., 140., 140.],\n",
       "         [106., 106., 106.]],\n",
       "\n",
       "        [[114., 114., 114.],\n",
       "         [117., 117., 117.],\n",
       "         [102., 102., 102.],\n",
       "         ...,\n",
       "         [110., 110., 110.],\n",
       "         [142., 142., 142.],\n",
       "         [133., 133., 133.]],\n",
       "\n",
       "        [[133., 133., 133.],\n",
       "         [109., 109., 109.],\n",
       "         [115., 115., 115.],\n",
       "         ...,\n",
       "         [ 94.,  94.,  94.],\n",
       "         [ 92.,  92.,  92.],\n",
       "         [180., 180., 180.]],\n",
       "\n",
       "        ...,\n",
       "\n",
       "        [[  0.,   0.,   0.],\n",
       "         [  0.,   0.,   0.],\n",
       "         [  0.,   0.,   0.],\n",
       "         ...,\n",
       "         [  8.,   8.,   8.],\n",
       "         [  0.,   0.,   0.],\n",
       "         [  0.,   0.,   0.]],\n",
       "\n",
       "        [[  0.,   0.,   0.],\n",
       "         [  0.,   0.,   0.],\n",
       "         [  1.,   1.,   1.],\n",
       "         ...,\n",
       "         [  3.,   3.,   3.],\n",
       "         [  0.,   0.,   0.],\n",
       "         [  0.,   0.,   0.]],\n",
       "\n",
       "        [[  0.,   0.,   0.],\n",
       "         [  0.,   0.,   0.],\n",
       "         [  0.,   0.,   0.],\n",
       "         ...,\n",
       "         [  1.,   1.,   1.],\n",
       "         [  0.,   0.,   0.],\n",
       "         [  0.,   0.,   0.]]],\n",
       "\n",
       "\n",
       "       [[[ 96.,  96.,  96.],\n",
       "         [129., 129., 129.],\n",
       "         [176., 176., 176.],\n",
       "         ...,\n",
       "         [ 57.,  57.,  57.],\n",
       "         [ 54.,  54.,  54.],\n",
       "         [ 79.,  79.,  79.]],\n",
       "\n",
       "        [[ 78.,  78.,  78.],\n",
       "         [116., 116., 116.],\n",
       "         [144., 144., 144.],\n",
       "         ...,\n",
       "         [ 45.,  45.,  45.],\n",
       "         [ 54.,  54.,  54.],\n",
       "         [232., 232., 232.]],\n",
       "\n",
       "        [[ 77.,  77.,  77.],\n",
       "         [112., 112., 112.],\n",
       "         [134., 134., 134.],\n",
       "         ...,\n",
       "         [ 61.,  61.,  61.],\n",
       "         [ 58.,  58.,  58.],\n",
       "         [113., 113., 113.]],\n",
       "\n",
       "        ...,\n",
       "\n",
       "        [[ 21.,  21.,  21.],\n",
       "         [ 19.,  19.,  19.],\n",
       "         [ 62.,  62.,  62.],\n",
       "         ...,\n",
       "         [  0.,   0.,   0.],\n",
       "         [ 23.,  23.,  23.],\n",
       "         [113., 113., 113.]],\n",
       "\n",
       "        [[ 21.,  21.,  21.],\n",
       "         [199., 199., 199.],\n",
       "         [ 16.,  16.,  16.],\n",
       "         ...,\n",
       "         [  0.,   0.,   0.],\n",
       "         [ 26.,  26.,  26.],\n",
       "         [116., 116., 116.]],\n",
       "\n",
       "        [[ 13.,  13.,  13.],\n",
       "         [  3.,   3.,   3.],\n",
       "         [ 15.,  15.,  15.],\n",
       "         ...,\n",
       "         [  0.,   0.,   0.],\n",
       "         [ 27.,  27.,  27.],\n",
       "         [119., 119., 119.]]],\n",
       "\n",
       "\n",
       "       [[[101., 101., 101.],\n",
       "         [110., 110., 110.],\n",
       "         [125., 125., 125.],\n",
       "         ...,\n",
       "         [ 80.,  80.,  80.],\n",
       "         [ 72.,  72.,  72.],\n",
       "         [ 66.,  66.,  66.]],\n",
       "\n",
       "        [[ 99.,  99.,  99.],\n",
       "         [108., 108., 108.],\n",
       "         [126., 126., 126.],\n",
       "         ...,\n",
       "         [ 76.,  76.,  76.],\n",
       "         [ 74.,  74.,  74.],\n",
       "         [ 62.,  62.,  62.]],\n",
       "\n",
       "        [[100., 100., 100.],\n",
       "         [103., 103., 103.],\n",
       "         [120., 120., 120.],\n",
       "         ...,\n",
       "         [ 65.,  65.,  65.],\n",
       "         [ 65.,  65.,  65.],\n",
       "         [ 64.,  64.,  64.]],\n",
       "\n",
       "        ...,\n",
       "\n",
       "        [[ 68.,  68.,  68.],\n",
       "         [ 93.,  93.,  93.],\n",
       "         [142., 142., 142.],\n",
       "         ...,\n",
       "         [124., 124., 124.],\n",
       "         [ 76.,  76.,  76.],\n",
       "         [ 57.,  57.,  57.]],\n",
       "\n",
       "        [[ 70.,  70.,  70.],\n",
       "         [ 89.,  89.,  89.],\n",
       "         [147., 147., 147.],\n",
       "         ...,\n",
       "         [122., 122., 122.],\n",
       "         [ 81.,  81.,  81.],\n",
       "         [ 55.,  55.,  55.]],\n",
       "\n",
       "        [[ 69.,  69.,  69.],\n",
       "         [ 94.,  94.,  94.],\n",
       "         [142., 142., 142.],\n",
       "         ...,\n",
       "         [119., 119., 119.],\n",
       "         [ 78.,  78.,  78.],\n",
       "         [ 54.,  54.,  54.]]]], dtype=float32)"
      ]
     },
     "execution_count": 12,
     "metadata": {},
     "output_type": "execute_result"
    }
   ],
   "source": [
    "X_train"
   ]
  },
  {
   "cell_type": "code",
   "execution_count": 13,
   "metadata": {},
   "outputs": [
    {
     "data": {
      "text/plain": [
       "(5216, 12288)"
      ]
     },
     "execution_count": 13,
     "metadata": {},
     "output_type": "execute_result"
    }
   ],
   "source": [
    "X_train_unrow = X_train.reshape(5216, -1)\n",
    "X_train_unrow.shape"
   ]
  },
  {
   "cell_type": "code",
   "execution_count": 14,
   "metadata": {},
   "outputs": [
    {
     "data": {
      "text/plain": [
       "array([[  0.,   0.,   0., ...,   0.,   0.,   0.],\n",
       "       [ 44.,  44.,  44., ..., 207., 207., 207.],\n",
       "       [ 95.,  95.,  95., ...,   0.,   0.,   0.],\n",
       "       ...,\n",
       "       [ 56.,  56.,  56., ...,   0.,   0.,   0.],\n",
       "       [ 96.,  96.,  96., ..., 119., 119., 119.],\n",
       "       [101., 101., 101., ...,  54.,  54.,  54.]], dtype=float32)"
      ]
     },
     "execution_count": 14,
     "metadata": {},
     "output_type": "execute_result"
    }
   ],
   "source": [
    "X_train_unrow"
   ]
  },
  {
   "cell_type": "code",
   "execution_count": 15,
   "metadata": {},
   "outputs": [
    {
     "data": {
      "text/plain": [
       "array([[[[ 58.,  58.,  58.],\n",
       "         [ 65.,  65.,  65.],\n",
       "         [ 66.,  66.,  66.],\n",
       "         ...,\n",
       "         [ 62.,  62.,  62.],\n",
       "         [ 62.,  62.,  62.],\n",
       "         [ 59.,  59.,  59.]],\n",
       "\n",
       "        [[ 57.,  57.,  57.],\n",
       "         [ 64.,  64.,  64.],\n",
       "         [ 81.,  81.,  81.],\n",
       "         ...,\n",
       "         [ 62.,  62.,  62.],\n",
       "         [ 61.,  61.,  61.],\n",
       "         [ 59.,  59.,  59.]],\n",
       "\n",
       "        [[ 70.,  70.,  70.],\n",
       "         [ 78.,  78.,  78.],\n",
       "         [ 86.,  86.,  86.],\n",
       "         ...,\n",
       "         [ 72.,  72.,  72.],\n",
       "         [ 59.,  59.,  59.],\n",
       "         [ 59.,  59.,  59.]],\n",
       "\n",
       "        ...,\n",
       "\n",
       "        [[ 27.,  27.,  27.],\n",
       "         [ 26.,  26.,  26.],\n",
       "         [ 23.,  23.,  23.],\n",
       "         ...,\n",
       "         [ 23.,  23.,  23.],\n",
       "         [ 24.,  24.,  24.],\n",
       "         [ 24.,  24.,  24.]],\n",
       "\n",
       "        [[ 31.,  31.,  31.],\n",
       "         [ 26.,  26.,  26.],\n",
       "         [ 24.,  24.,  24.],\n",
       "         ...,\n",
       "         [ 23.,  23.,  23.],\n",
       "         [ 23.,  23.,  23.],\n",
       "         [ 30.,  30.,  30.]],\n",
       "\n",
       "        [[ 27.,  27.,  27.],\n",
       "         [ 26.,  26.,  26.],\n",
       "         [ 24.,  24.,  24.],\n",
       "         ...,\n",
       "         [ 23.,  23.,  23.],\n",
       "         [ 23.,  23.,  23.],\n",
       "         [ 24.,  24.,  24.]]],\n",
       "\n",
       "\n",
       "       [[[  0.,   0.,   0.],\n",
       "         [  0.,   0.,   0.],\n",
       "         [  0.,   0.,   0.],\n",
       "         ...,\n",
       "         [ 93.,  93.,  93.],\n",
       "         [ 61.,  61.,  61.],\n",
       "         [  0.,   0.,   0.]],\n",
       "\n",
       "        [[  0.,   0.,   0.],\n",
       "         [  0.,   0.,   0.],\n",
       "         [  0.,   0.,   0.],\n",
       "         ...,\n",
       "         [152., 152., 152.],\n",
       "         [ 86.,  86.,  86.],\n",
       "         [  0.,   0.,   0.]],\n",
       "\n",
       "        [[  0.,   0.,   0.],\n",
       "         [  0.,   0.,   0.],\n",
       "         [  0.,   0.,   0.],\n",
       "         ...,\n",
       "         [143., 143., 143.],\n",
       "         [ 42.,  42.,  42.],\n",
       "         [  0.,   0.,   0.]],\n",
       "\n",
       "        ...,\n",
       "\n",
       "        [[  0.,   0.,   0.],\n",
       "         [  0.,   0.,   0.],\n",
       "         [  0.,   0.,   0.],\n",
       "         ...,\n",
       "         [  0.,   0.,   0.],\n",
       "         [  0.,   0.,   0.],\n",
       "         [  0.,   0.,   0.]],\n",
       "\n",
       "        [[  0.,   0.,   0.],\n",
       "         [  0.,   0.,   0.],\n",
       "         [  0.,   0.,   0.],\n",
       "         ...,\n",
       "         [  0.,   0.,   0.],\n",
       "         [  0.,   0.,   0.],\n",
       "         [  0.,   0.,   0.]],\n",
       "\n",
       "        [[  0.,   0.,   0.],\n",
       "         [  0.,   0.,   0.],\n",
       "         [  0.,   0.,   0.],\n",
       "         ...,\n",
       "         [  0.,   0.,   0.],\n",
       "         [  0.,   0.,   0.],\n",
       "         [  0.,   0.,   0.]]],\n",
       "\n",
       "\n",
       "       [[[ 31.,  31.,  31.],\n",
       "         [ 30.,  30.,  30.],\n",
       "         [ 30.,  30.,  30.],\n",
       "         ...,\n",
       "         [ 34.,  34.,  34.],\n",
       "         [ 24.,  24.,  24.],\n",
       "         [ 12.,  12.,  12.]],\n",
       "\n",
       "        [[ 30.,  30.,  30.],\n",
       "         [ 29.,  29.,  29.],\n",
       "         [ 29.,  29.,  29.],\n",
       "         ...,\n",
       "         [ 41.,  41.,  41.],\n",
       "         [ 35.,  35.,  35.],\n",
       "         [ 28.,  28.,  28.]],\n",
       "\n",
       "        [[ 28.,  28.,  28.],\n",
       "         [ 28.,  28.,  28.],\n",
       "         [ 26.,  26.,  26.],\n",
       "         ...,\n",
       "         [ 42.,  42.,  42.],\n",
       "         [ 40.,  40.,  40.],\n",
       "         [ 34.,  34.,  34.]],\n",
       "\n",
       "        ...,\n",
       "\n",
       "        [[ 34.,  34.,  34.],\n",
       "         [ 33.,  33.,  33.],\n",
       "         [ 32.,  32.,  32.],\n",
       "         ...,\n",
       "         [ 30.,  30.,  30.],\n",
       "         [ 31.,  31.,  31.],\n",
       "         [ 31.,  31.,  31.]],\n",
       "\n",
       "        [[ 34.,  34.,  34.],\n",
       "         [ 34.,  34.,  34.],\n",
       "         [ 32.,  32.,  32.],\n",
       "         ...,\n",
       "         [ 30.,  30.,  30.],\n",
       "         [ 31.,  31.,  31.],\n",
       "         [ 30.,  30.,  30.]],\n",
       "\n",
       "        [[ 35.,  35.,  35.],\n",
       "         [ 33.,  33.,  33.],\n",
       "         [ 32.,  32.,  32.],\n",
       "         ...,\n",
       "         [ 30.,  30.,  30.],\n",
       "         [ 30.,  30.,  30.],\n",
       "         [ 31.,  31.,  31.]]],\n",
       "\n",
       "\n",
       "       ...,\n",
       "\n",
       "\n",
       "       [[[ 83.,  83.,  83.],\n",
       "         [173., 173., 173.],\n",
       "         [122., 122., 122.],\n",
       "         ...,\n",
       "         [ 88.,  88.,  88.],\n",
       "         [ 79.,  79.,  79.],\n",
       "         [ 64.,  64.,  64.]],\n",
       "\n",
       "        [[ 81.,  81.,  81.],\n",
       "         [ 83.,  83.,  83.],\n",
       "         [145., 145., 145.],\n",
       "         ...,\n",
       "         [ 83.,  83.,  83.],\n",
       "         [ 76.,  76.,  76.],\n",
       "         [ 61.,  61.,  61.]],\n",
       "\n",
       "        [[ 80.,  80.,  80.],\n",
       "         [ 88.,  88.,  88.],\n",
       "         [ 94.,  94.,  94.],\n",
       "         ...,\n",
       "         [ 84.,  84.,  84.],\n",
       "         [ 73.,  73.,  73.],\n",
       "         [ 55.,  55.,  55.]],\n",
       "\n",
       "        ...,\n",
       "\n",
       "        [[  0.,   0.,   0.],\n",
       "         [  0.,   0.,   0.],\n",
       "         [  0.,   0.,   0.],\n",
       "         ...,\n",
       "         [  0.,   0.,   0.],\n",
       "         [  0.,   0.,   0.],\n",
       "         [  0.,   0.,   0.]],\n",
       "\n",
       "        [[  0.,   0.,   0.],\n",
       "         [  0.,   0.,   0.],\n",
       "         [  0.,   0.,   0.],\n",
       "         ...,\n",
       "         [  0.,   0.,   0.],\n",
       "         [  0.,   0.,   0.],\n",
       "         [  0.,   0.,   0.]],\n",
       "\n",
       "        [[  0.,   0.,   0.],\n",
       "         [  0.,   0.,   0.],\n",
       "         [  0.,   0.,   0.],\n",
       "         ...,\n",
       "         [  0.,   0.,   0.],\n",
       "         [  0.,   0.,   0.],\n",
       "         [  0.,   0.,   0.]]],\n",
       "\n",
       "\n",
       "       [[[ 67.,  67.,  67.],\n",
       "         [ 71.,  71.,  71.],\n",
       "         [ 96.,  96.,  96.],\n",
       "         ...,\n",
       "         [ 67.,  67.,  67.],\n",
       "         [ 57.,  57.,  57.],\n",
       "         [ 46.,  46.,  46.]],\n",
       "\n",
       "        [[ 77.,  77.,  77.],\n",
       "         [107., 107., 107.],\n",
       "         [110., 110., 110.],\n",
       "         ...,\n",
       "         [201., 201., 201.],\n",
       "         [138., 138., 138.],\n",
       "         [105., 105., 105.]],\n",
       "\n",
       "        [[108., 108., 108.],\n",
       "         [120., 120., 120.],\n",
       "         [129., 129., 129.],\n",
       "         ...,\n",
       "         [173., 173., 173.],\n",
       "         [146., 146., 146.],\n",
       "         [132., 132., 132.]],\n",
       "\n",
       "        ...,\n",
       "\n",
       "        [[  9.,   9.,   9.],\n",
       "         [ 10.,  10.,  10.],\n",
       "         [  9.,   9.,   9.],\n",
       "         ...,\n",
       "         [ 13.,  13.,  13.],\n",
       "         [ 11.,  11.,  11.],\n",
       "         [ 12.,  12.,  12.]],\n",
       "\n",
       "        [[  9.,   9.,   9.],\n",
       "         [  9.,   9.,   9.],\n",
       "         [  9.,   9.,   9.],\n",
       "         ...,\n",
       "         [ 12.,  12.,  12.],\n",
       "         [ 10.,  10.,  10.],\n",
       "         [ 11.,  11.,  11.]],\n",
       "\n",
       "        [[  9.,   9.,   9.],\n",
       "         [  8.,   8.,   8.],\n",
       "         [  8.,   8.,   8.],\n",
       "         ...,\n",
       "         [  9.,   9.,   9.],\n",
       "         [ 10.,  10.,  10.],\n",
       "         [ 11.,  11.,  11.]]],\n",
       "\n",
       "\n",
       "       [[[ 30.,  30.,  30.],\n",
       "         [ 25.,  25.,  25.],\n",
       "         [ 18.,  18.,  18.],\n",
       "         ...,\n",
       "         [146., 146., 146.],\n",
       "         [148., 148., 148.],\n",
       "         [190., 190., 190.]],\n",
       "\n",
       "        [[ 37.,  37.,  37.],\n",
       "         [ 18.,  18.,  18.],\n",
       "         [ 18.,  18.,  18.],\n",
       "         ...,\n",
       "         [151., 151., 151.],\n",
       "         [159., 159., 159.],\n",
       "         [184., 184., 184.]],\n",
       "\n",
       "        [[ 18.,  18.,  18.],\n",
       "         [ 19.,  19.,  19.],\n",
       "         [ 15.,  15.,  15.],\n",
       "         ...,\n",
       "         [171., 171., 171.],\n",
       "         [158., 158., 158.],\n",
       "         [185., 185., 185.]],\n",
       "\n",
       "        ...,\n",
       "\n",
       "        [[ 31.,  31.,  31.],\n",
       "         [ 28.,  28.,  28.],\n",
       "         [ 23.,  23.,  23.],\n",
       "         ...,\n",
       "         [ 28.,  28.,  28.],\n",
       "         [ 29.,  29.,  29.],\n",
       "         [ 29.,  29.,  29.]],\n",
       "\n",
       "        [[ 30.,  30.,  30.],\n",
       "         [ 28.,  28.,  28.],\n",
       "         [ 23.,  23.,  23.],\n",
       "         ...,\n",
       "         [ 30.,  30.,  30.],\n",
       "         [ 31.,  31.,  31.],\n",
       "         [ 31.,  31.,  31.]],\n",
       "\n",
       "        [[ 29.,  29.,  29.],\n",
       "         [ 28.,  28.,  28.],\n",
       "         [ 25.,  25.,  25.],\n",
       "         ...,\n",
       "         [ 31.,  31.,  31.],\n",
       "         [ 31.,  31.,  31.],\n",
       "         [ 32.,  32.,  32.]]]], dtype=float32)"
      ]
     },
     "execution_count": 15,
     "metadata": {},
     "output_type": "execute_result"
    }
   ],
   "source": [
    "X_test"
   ]
  },
  {
   "cell_type": "code",
   "execution_count": 16,
   "metadata": {
    "scrolled": true
   },
   "outputs": [
    {
     "data": {
      "text/plain": [
       "(624, 12288)"
      ]
     },
     "execution_count": 16,
     "metadata": {},
     "output_type": "execute_result"
    }
   ],
   "source": [
    "X_test_unrow = X_test.reshape(624, -1)\n",
    "X_test_unrow.shape"
   ]
  },
  {
   "cell_type": "code",
   "execution_count": 17,
   "metadata": {},
   "outputs": [],
   "source": [
    "#X_test_unrow"
   ]
  },
  {
   "cell_type": "code",
   "execution_count": 18,
   "metadata": {},
   "outputs": [
    {
     "data": {
      "text/plain": [
       "array([[1., 0.],\n",
       "       [0., 1.],\n",
       "       [1., 0.],\n",
       "       ...,\n",
       "       [0., 1.],\n",
       "       [0., 1.],\n",
       "       [0., 1.]], dtype=float32)"
      ]
     },
     "execution_count": 18,
     "metadata": {},
     "output_type": "execute_result"
    }
   ],
   "source": [
    "#Taking a look at our y_train data\n",
    "y_train"
   ]
  },
  {
   "cell_type": "code",
   "execution_count": 19,
   "metadata": {},
   "outputs": [
    {
     "data": {
      "text/plain": [
       "{'normal': 0, 'pneumonia': 1}"
      ]
     },
     "execution_count": 19,
     "metadata": {},
     "output_type": "execute_result"
    }
   ],
   "source": [
    "#Let's take a look at which index represents what class\n",
    "train_generator.class_indices"
   ]
  },
  {
   "cell_type": "code",
   "execution_count": 20,
   "metadata": {},
   "outputs": [
    {
     "data": {
      "text/plain": [
       "(1, 5216)"
      ]
     },
     "execution_count": 20,
     "metadata": {},
     "output_type": "execute_result"
    }
   ],
   "source": [
    "y_train_final = y_train.T[[1]]\n",
    "#y_train_final[:20]\n",
    "y_train_final.shape"
   ]
  },
  {
   "cell_type": "code",
   "execution_count": 21,
   "metadata": {},
   "outputs": [],
   "source": [
    "y_train_final = y_train_final.reshape(5216, 1)"
   ]
  },
  {
   "cell_type": "code",
   "execution_count": 22,
   "metadata": {},
   "outputs": [],
   "source": [
    "#y_train_final = y_train.reshape(2, -1)"
   ]
  },
  {
   "cell_type": "code",
   "execution_count": 23,
   "metadata": {},
   "outputs": [
    {
     "data": {
      "text/plain": [
       "(5216, 1)"
      ]
     },
     "execution_count": 23,
     "metadata": {},
     "output_type": "execute_result"
    }
   ],
   "source": [
    "y_train_final.shape"
   ]
  },
  {
   "cell_type": "code",
   "execution_count": 24,
   "metadata": {},
   "outputs": [
    {
     "data": {
      "text/plain": [
       "array([[0.],\n",
       "       [1.],\n",
       "       [0.],\n",
       "       ...,\n",
       "       [1.],\n",
       "       [1.],\n",
       "       [1.]], dtype=float32)"
      ]
     },
     "execution_count": 24,
     "metadata": {},
     "output_type": "execute_result"
    }
   ],
   "source": [
    "y_train_final"
   ]
  },
  {
   "cell_type": "code",
   "execution_count": 25,
   "metadata": {},
   "outputs": [],
   "source": [
    "#Let's take a look at our y_test data\n",
    "#y_test"
   ]
  },
  {
   "cell_type": "code",
   "execution_count": 26,
   "metadata": {},
   "outputs": [],
   "source": [
    "y_test_final = y_test.T[[1]]\n",
    "#y_test_final[:20]"
   ]
  },
  {
   "cell_type": "code",
   "execution_count": 27,
   "metadata": {},
   "outputs": [
    {
     "data": {
      "text/plain": [
       "(1, 624)"
      ]
     },
     "execution_count": 27,
     "metadata": {},
     "output_type": "execute_result"
    }
   ],
   "source": [
    "y_test_final.shape"
   ]
  },
  {
   "cell_type": "code",
   "execution_count": 28,
   "metadata": {},
   "outputs": [],
   "source": [
    "y_test_final = y_test_final.reshape(624, 1)"
   ]
  },
  {
   "cell_type": "code",
   "execution_count": 29,
   "metadata": {},
   "outputs": [
    {
     "data": {
      "text/plain": [
       "(624, 1)"
      ]
     },
     "execution_count": 29,
     "metadata": {},
     "output_type": "execute_result"
    }
   ],
   "source": [
    "y_test_final.shape"
   ]
  },
  {
   "cell_type": "markdown",
   "metadata": {},
   "source": [
    "#### Let's take a look at a pneumonia image vs a normal image ####"
   ]
  },
  {
   "cell_type": "code",
   "execution_count": 30,
   "metadata": {},
   "outputs": [],
   "source": [
    "#plt.imshow(X_train_unrow[0])\n",
    "#plt.axis('off')\n",
    "#plt.title('Normal X-Ray')\n",
    "#plt.show()"
   ]
  },
  {
   "cell_type": "code",
   "execution_count": 31,
   "metadata": {},
   "outputs": [],
   "source": [
    "#Lastly let's normalize our data\n",
    "X_train_final = X_train_unrow / 255\n",
    "X_test_final = X_test_unrow / 255\n"
   ]
  },
  {
   "cell_type": "code",
   "execution_count": 32,
   "metadata": {},
   "outputs": [
    {
     "name": "stdout",
     "output_type": "stream",
     "text": [
      "(5216, 12288)\n",
      "(624, 12288)\n",
      "(5216, 1)\n",
      "(624, 1)\n"
     ]
    }
   ],
   "source": [
    "print(X_train_final.shape)\n",
    "print(X_test_final.shape)\n",
    "print(y_train_final.shape)\n",
    "print(y_test_final.shape)\n",
    "#print(X_val.shape)\n",
    "#print(y_val.shape)"
   ]
  },
  {
   "cell_type": "markdown",
   "metadata": {},
   "source": [
    "### Building Our Initial Model ###"
   ]
  },
  {
   "cell_type": "code",
   "execution_count": 33,
   "metadata": {},
   "outputs": [],
   "source": [
    "model_1 = Sequential()\n",
    "model_1.add(Dense(50, activation = 'relu', input_shape = (12288,)))\n",
    "model_1.add(Dense(1, activation = 'sigmoid'))"
   ]
  },
  {
   "cell_type": "code",
   "execution_count": 34,
   "metadata": {},
   "outputs": [],
   "source": [
    "model_1.compile(loss = 'binary_crossentropy', optimizer = 'sgd', metrics = ['acc'])"
   ]
  },
  {
   "cell_type": "code",
   "execution_count": 35,
   "metadata": {},
   "outputs": [
    {
     "name": "stdout",
     "output_type": "stream",
     "text": [
      "Model: \"sequential\"\n",
      "_________________________________________________________________\n",
      "Layer (type)                 Output Shape              Param #   \n",
      "=================================================================\n",
      "dense (Dense)                (None, 50)                614450    \n",
      "_________________________________________________________________\n",
      "dense_1 (Dense)              (None, 1)                 51        \n",
      "=================================================================\n",
      "Total params: 614,501\n",
      "Trainable params: 614,501\n",
      "Non-trainable params: 0\n",
      "_________________________________________________________________\n"
     ]
    }
   ],
   "source": [
    "model_1.summary()"
   ]
  },
  {
   "cell_type": "code",
   "execution_count": 36,
   "metadata": {
    "scrolled": false
   },
   "outputs": [
    {
     "name": "stdout",
     "output_type": "stream",
     "text": [
      "Epoch 1/5\n",
      "105/105 [==============================] - 1s 7ms/step - loss: 0.4860 - acc: 0.7757 - val_loss: 0.4826 - val_acc: 0.7324\n",
      "Epoch 2/5\n",
      "105/105 [==============================] - 1s 7ms/step - loss: 0.3254 - acc: 0.8691 - val_loss: 0.7191 - val_acc: 0.6538\n",
      "Epoch 3/5\n",
      "105/105 [==============================] - 1s 6ms/step - loss: 0.2660 - acc: 0.8928 - val_loss: 0.6971 - val_acc: 0.6811\n",
      "Epoch 4/5\n",
      "105/105 [==============================] - 1s 6ms/step - loss: 0.2088 - acc: 0.9178 - val_loss: 0.6935 - val_acc: 0.7035\n",
      "Epoch 5/5\n",
      "105/105 [==============================] - 1s 5ms/step - loss: 0.2295 - acc: 0.9055 - val_loss: 0.5258 - val_acc: 0.7628\n"
     ]
    }
   ],
   "source": [
    "results_1 = model_1.fit(X_train_final, y_train_final, epochs = 5, batch_size = 50, validation_data= (X_test_final, y_test_final))"
   ]
  },
  {
   "cell_type": "markdown",
   "metadata": {},
   "source": [
    "#### Loss and Accuracy Curves ####"
   ]
  },
  {
   "cell_type": "code",
   "execution_count": 37,
   "metadata": {},
   "outputs": [],
   "source": [
    "def visualize_training_results(results):\n",
    "    history = results.history\n",
    "    plt.figure()\n",
    "    plt.plot(history['val_loss'])\n",
    "    plt.plot(history['loss'])\n",
    "    plt.legend(['val_loss', 'loss'])\n",
    "    plt.title('Loss')\n",
    "    plt.xlabel('Epochs')\n",
    "    plt.ylabel('Loss')\n",
    "    plt.show()\n",
    "    \n",
    "    plt.figure()\n",
    "    plt.plot(history['val_acc'])\n",
    "    plt.plot(history['acc'])\n",
    "    plt.legend(['val_acc', 'acc'])\n",
    "    plt.title('Accuracy')\n",
    "    plt.xlabel('Epochs')\n",
    "    plt.ylabel('Accuracy')\n",
    "    plt.show()\n",
    "    "
   ]
  },
  {
   "cell_type": "code",
   "execution_count": 38,
   "metadata": {
    "scrolled": false
   },
   "outputs": [
    {
     "data": {
      "image/png": "[encoded data removed]",
      "text/plain": [
       "<Figure size 432x288 with 1 Axes>"
      ]
     },
     "metadata": {
      "needs_background": "light"
     },
     "output_type": "display_data"
    },
    {
     "data": {
      "image/png": "[encoded data removed]",
      "text/plain": [
       "<Figure size 432x288 with 1 Axes>"
      ]
     },
     "metadata": {
      "needs_background": "light"
     },
     "output_type": "display_data"
    }
   ],
   "source": [
    "visualize_training_results(results_1)"
   ]
  },
  {
   "cell_type": "markdown",
   "metadata": {},
   "source": [
    "### Model with More Layers ###"
   ]
  },
  {
   "cell_type": "code",
   "execution_count": 39,
   "metadata": {},
   "outputs": [],
   "source": [
    "model_2 = Sequential()\n",
    "model_2.add(Dense(50, activation = 'relu', input_shape = (12288,)))\n",
    "model_2.add(Dense(35, activation = 'relu'))\n",
    "model_2.add(Dense(25, activation = 'relu'))\n",
    "model_2.add(Dense(15, activation = 'relu'))\n",
    "model_2.add(Dense(1, activation = 'sigmoid'))"
   ]
  },
  {
   "cell_type": "code",
   "execution_count": 40,
   "metadata": {},
   "outputs": [],
   "source": [
    "model_2.compile(loss = 'binary_crossentropy', optimizer = 'sgd', metrics = ['acc'])"
   ]
  },
  {
   "cell_type": "code",
   "execution_count": 41,
   "metadata": {},
   "outputs": [
    {
     "name": "stdout",
     "output_type": "stream",
     "text": [
      "Model: \"sequential_1\"\n",
      "_________________________________________________________________\n",
      "Layer (type)                 Output Shape              Param #   \n",
      "=================================================================\n",
      "dense_2 (Dense)              (None, 50)                614450    \n",
      "_________________________________________________________________\n",
      "dense_3 (Dense)              (None, 35)                1785      \n",
      "_________________________________________________________________\n",
      "dense_4 (Dense)              (None, 25)                900       \n",
      "_________________________________________________________________\n",
      "dense_5 (Dense)              (None, 15)                390       \n",
      "_________________________________________________________________\n",
      "dense_6 (Dense)              (None, 1)                 16        \n",
      "=================================================================\n",
      "Total params: 617,541\n",
      "Trainable params: 617,541\n",
      "Non-trainable params: 0\n",
      "_________________________________________________________________\n"
     ]
    }
   ],
   "source": [
    "model_2.summary()"
   ]
  },
  {
   "cell_type": "code",
   "execution_count": 42,
   "metadata": {},
   "outputs": [
    {
     "name": "stdout",
     "output_type": "stream",
     "text": [
      "Epoch 1/5\n",
      "105/105 [==============================] - 1s 8ms/step - loss: 0.1746 - acc: 0.9302 - val_loss: 0.9807 - val_acc: 0.6779\n",
      "Epoch 2/5\n",
      "105/105 [==============================] - 1s 7ms/step - loss: 0.1758 - acc: 0.9348 - val_loss: 0.6164 - val_acc: 0.7468\n",
      "Epoch 3/5\n",
      "105/105 [==============================] - 1s 6ms/step - loss: 0.1608 - acc: 0.9387 - val_loss: 0.5165 - val_acc: 0.7869\n",
      "Epoch 4/5\n",
      "105/105 [==============================] - 1s 6ms/step - loss: 0.1697 - acc: 0.9350 - val_loss: 0.6958 - val_acc: 0.7420\n",
      "Epoch 5/5\n",
      "105/105 [==============================] - 1s 6ms/step - loss: 0.1473 - acc: 0.9429 - val_loss: 0.4150 - val_acc: 0.8013\n"
     ]
    }
   ],
   "source": [
    "results_2 = model_1.fit(X_train_final, y_train_final, epochs = 5, batch_size = 50, validation_data= (X_test_final, y_test_final))"
   ]
  },
  {
   "cell_type": "code",
   "execution_count": 43,
   "metadata": {},
   "outputs": [
    {
     "data": {
      "image/png": "[encoded data removed]",
      "text/plain": [
       "<Figure size 432x288 with 1 Axes>"
      ]
     },
     "metadata": {
      "needs_background": "light"
     },
     "output_type": "display_data"
    },
    {
     "data": {
      "image/png": "[encoded data removed]",
      "text/plain": [
       "<Figure size 432x288 with 1 Axes>"
      ]
     },
     "metadata": {
      "needs_background": "light"
     },
     "output_type": "display_data"
    }
   ],
   "source": [
    "visualize_training_results(results_2)"
   ]
  },
  {
   "cell_type": "markdown",
   "metadata": {},
   "source": [
    "### Model with more epochs ###"
   ]
  },
  {
   "cell_type": "code",
   "execution_count": 44,
   "metadata": {},
   "outputs": [],
   "source": [
    "model_3 = Sequential()\n",
    "model_3.add(Dense(50, activation = 'relu', input_shape = (12288,)))\n",
    "model_3.add(Dense(35, activation = 'relu'))\n",
    "model_3.add(Dense(25, activation = 'relu'))\n",
    "model_3.add(Dense(15, activation = 'relu'))\n",
    "model_3.add(Dense(1, activation = 'sigmoid'))"
   ]
  },
  {
   "cell_type": "code",
   "execution_count": 45,
   "metadata": {},
   "outputs": [],
   "source": [
    "model_3.compile(loss = 'binary_crossentropy', optimizer = 'sgd', metrics = ['acc'])"
   ]
  },
  {
   "cell_type": "code",
   "execution_count": 46,
   "metadata": {},
   "outputs": [
    {
     "name": "stdout",
     "output_type": "stream",
     "text": [
      "Model: \"sequential_2\"\n",
      "_________________________________________________________________\n",
      "Layer (type)                 Output Shape              Param #   \n",
      "=================================================================\n",
      "dense_7 (Dense)              (None, 50)                614450    \n",
      "_________________________________________________________________\n",
      "dense_8 (Dense)              (None, 35)                1785      \n",
      "_________________________________________________________________\n",
      "dense_9 (Dense)              (None, 25)                900       \n",
      "_________________________________________________________________\n",
      "dense_10 (Dense)             (None, 15)                390       \n",
      "_________________________________________________________________\n",
      "dense_11 (Dense)             (None, 1)                 16        \n",
      "=================================================================\n",
      "Total params: 617,541\n",
      "Trainable params: 617,541\n",
      "Non-trainable params: 0\n",
      "_________________________________________________________________\n"
     ]
    }
   ],
   "source": [
    "model_3.summary()"
   ]
  },
  {
   "cell_type": "code",
   "execution_count": 47,
   "metadata": {},
   "outputs": [
    {
     "name": "stdout",
     "output_type": "stream",
     "text": [
      "Epoch 1/10\n",
      "105/105 [==============================] - 1s 8ms/step - loss: 0.4818 - acc: 0.7766 - val_loss: 0.4926 - val_acc: 0.7003\n",
      "Epoch 2/10\n",
      "105/105 [==============================] - 1s 5ms/step - loss: 0.3807 - acc: 0.8324 - val_loss: 0.4099 - val_acc: 0.8109\n",
      "Epoch 3/10\n",
      "105/105 [==============================] - 1s 8ms/step - loss: 0.2983 - acc: 0.8834 - val_loss: 1.5884 - val_acc: 0.6250\n",
      "Epoch 4/10\n",
      "105/105 [==============================] - 1s 7ms/step - loss: 0.2501 - acc: 0.8930 - val_loss: 0.3809 - val_acc: 0.8173\n",
      "Epoch 5/10\n",
      "105/105 [==============================] - 1s 5ms/step - loss: 0.2459 - acc: 0.8978 - val_loss: 0.6124 - val_acc: 0.7420\n",
      "Epoch 6/10\n",
      "105/105 [==============================] - 1s 5ms/step - loss: 0.1947 - acc: 0.9225 - val_loss: 0.5505 - val_acc: 0.7821\n",
      "Epoch 7/10\n",
      "105/105 [==============================] - 1s 5ms/step - loss: 0.2034 - acc: 0.9229 - val_loss: 0.5721 - val_acc: 0.7676\n",
      "Epoch 8/10\n",
      "105/105 [==============================] - 1s 6ms/step - loss: 0.1710 - acc: 0.9317 - val_loss: 1.2868 - val_acc: 0.6699\n",
      "Epoch 9/10\n",
      "105/105 [==============================] - 1s 6ms/step - loss: 0.1651 - acc: 0.9363 - val_loss: 0.5870 - val_acc: 0.7772\n",
      "Epoch 10/10\n",
      "105/105 [==============================] - 1s 5ms/step - loss: 0.1594 - acc: 0.9354 - val_loss: 0.9380 - val_acc: 0.7131\n"
     ]
    }
   ],
   "source": [
    "results_3 = model_3.fit(X_train_final, y_train_final, epochs = 10, batch_size = 50, validation_data= (X_test_final, y_test_final))"
   ]
  },
  {
   "cell_type": "code",
   "execution_count": 48,
   "metadata": {},
   "outputs": [
    {
     "data": {
      "image/png": "[encoded data removed]",
      "text/plain": [
       "<Figure size 432x288 with 1 Axes>"
      ]
     },
     "metadata": {
      "needs_background": "light"
     },
     "output_type": "display_data"
    },
    {
     "data": {
      "image/png": "[encoded data removed]",
      "text/plain": [
       "<Figure size 432x288 with 1 Axes>"
      ]
     },
     "metadata": {
      "needs_background": "light"
     },
     "output_type": "display_data"
    }
   ],
   "source": [
    "visualize_training_results(results_3)"
   ]
  },
  {
   "cell_type": "code",
   "execution_count": null,
   "metadata": {},
   "outputs": [],
   "source": []
  },
  {
   "cell_type": "code",
   "execution_count": null,
   "metadata": {},
   "outputs": [],
   "source": []
  }
 ],
 "metadata": {
  "kernelspec": {
   "display_name": "Python 3",
   "language": "python",
   "name": "python3"
  },
  "language_info": {
   "codemirror_mode": {
    "name": "ipython",
    "version": 3
   },
   "file_extension": ".py",
   "mimetype": "text/x-python",
   "name": "python",
   "nbconvert_exporter": "python",
   "pygments_lexer": "ipython3",
   "version": "3.8.5"
  }
 },
 "nbformat": 4,
 "nbformat_minor": 4
}
