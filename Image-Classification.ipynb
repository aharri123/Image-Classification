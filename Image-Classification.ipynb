{
 "cells": [
  {
   "cell_type": "code",
   "execution_count": null,
   "metadata": {},
   "outputs": [],
   "source": []
  },
  {
   "cell_type": "code",
   "execution_count": 1,
   "metadata": {},
   "outputs": [],
   "source": [
    "import tensorflow as tf\n",
    "from tensorflow import keras\n",
    "from keras import models\n",
    "from keras import layers\n",
    "from keras.preprocessing.image import ImageDataGenerator\n",
    "from keras_preprocessing.image import img_to_array, img_to_array, load_img\n",
    "from keras.models import Sequential\n",
    "from keras.layers import Dense\n",
    "from keras.layers import Dropout\n",
    "\n",
    "import numpy as np\n",
    "import matplotlib.pyplot as plt\n",
    "import os\n",
    "\n",
    "\n",
    "from numpy.random import seed\n",
    "seed(1)\n",
    "tf.random.set_seed(1) "
   ]
  },
  {
   "cell_type": "code",
   "execution_count": 2,
   "metadata": {},
   "outputs": [],
   "source": [
    "#Create our directory paths to our images\n",
    "train_data_dir = 'data/train'\n",
    "test_data_dir = 'data/test'\n",
    "valid_data_dir = 'data/validation'"
   ]
  },
  {
   "cell_type": "code",
   "execution_count": 3,
   "metadata": {},
   "outputs": [],
   "source": [
    "#Let's plot the number of images in each classification directory\n",
    "\n",
    "def bar_plot(dir):\n",
    "  x=len(os.listdir(dir+'/NORMAL'))\n",
    "  y=len(os.listdir(dir+'/PNEUMONIA'))\n",
    "  category = ['NORMAL', 'PNEUMONIA']\n",
    "  count = [x, y]\n",
    "  plot = plt.bar(category,count) \n",
    "  plot[0].set_color('orange')\n",
    "  plt.title('Number of values for each category')\n",
    "  plt.show()"
   ]
  },
  {
   "cell_type": "code",
   "execution_count": 4,
   "metadata": {},
   "outputs": [
    {
     "name": "stdout",
     "output_type": "stream",
     "text": [
      "Training images:\n",
      "\n",
      "NORMAL: 1341\n",
      "PNEUMONIA: 3875\n",
      "Total Training images: 5216\n",
      "*************************************************\n"
     ]
    },
    {
     "data": {
      "image/png": "[encoded data removed]",
      "text/plain": [
       "<Figure size 432x288 with 1 Axes>"
      ]
     },
     "metadata": {
      "needs_background": "light"
     },
     "output_type": "display_data"
    }
   ],
   "source": [
    "#Number of training images\n",
    "print('Training images:\\n')\n",
    "print('NORMAL:', len(os.listdir(train_data_dir+'/NORMAL')))\n",
    "print('PNEUMONIA:', len(os.listdir(train_data_dir+'/PNEUMONIA')))\n",
    "print('Total Training images:', len(os.listdir(train_data_dir+'/NORMAL')) + len(os.listdir(train_data_dir+'/PNEUMONIA')))\n",
    "print('*'*49)\n",
    "bar_plot(train_data_dir)"
   ]
  },
  {
   "cell_type": "code",
   "execution_count": 5,
   "metadata": {},
   "outputs": [
    {
     "name": "stdout",
     "output_type": "stream",
     "text": [
      "Test images:\n",
      "\n",
      "NORMAL: 234\n",
      "PNEUMONIA: 390\n",
      "Total Test images: 624\n",
      "*************************************************\n"
     ]
    },
    {
     "data": {
      "image/png": "[encoded data removed]",
      "text/plain": [
       "<Figure size 432x288 with 1 Axes>"
      ]
     },
     "metadata": {
      "needs_background": "light"
     },
     "output_type": "display_data"
    }
   ],
   "source": [
    "#Number of test images\n",
    "print('Test images:\\n')\n",
    "print('NORMAL:', len(os.listdir(test_data_dir+'/NORMAL')))\n",
    "print('PNEUMONIA:', len(os.listdir(test_data_dir+'/PNEUMONIA')))\n",
    "print('Total Test images:', len(os.listdir(test_data_dir+'/NORMAL')) + len(os.listdir(test_data_dir+'/PNEUMONIA')))\n",
    "print('*'*49)\n",
    "bar_plot(test_data_dir)"
   ]
  },
  {
   "cell_type": "code",
   "execution_count": 6,
   "metadata": {},
   "outputs": [
    {
     "name": "stdout",
     "output_type": "stream",
     "text": [
      "Validation images:\n",
      "\n",
      "NORMAL: 8\n",
      "PNEUMONIA: 8\n",
      "Total Validation images: 16\n",
      "***********************************************\n"
     ]
    },
    {
     "data": {
      "image/png": "[encoded data removed]",
      "text/plain": [
       "<Figure size 432x288 with 1 Axes>"
      ]
     },
     "metadata": {
      "needs_background": "light"
     },
     "output_type": "display_data"
    }
   ],
   "source": [
    "#Number of validation images\n",
    "print('Validation images:\\n')\n",
    "print('NORMAL:', len(os.listdir(valid_data_dir+'/NORMAL')))\n",
    "print('PNEUMONIA:', len(os.listdir(valid_data_dir+'/PNEUMONIA')))\n",
    "print('Total Validation images:', len(os.listdir(valid_data_dir+'/NORMAL')) + len(os.listdir(valid_data_dir+'/PNEUMONIA')))\n",
    "print('*'*47)\n",
    "bar_plot(valid_data_dir)\n"
   ]
  },
  {
   "cell_type": "code",
   "execution_count": 7,
   "metadata": {},
   "outputs": [
    {
     "name": "stdout",
     "output_type": "stream",
     "text": [
      "Found 5216 images belonging to 2 classes.\n"
     ]
    }
   ],
   "source": [
    "# Get all the data in the directory data/train and reshape them\n",
    "\n",
    "train_generator = ImageDataGenerator().flow_from_directory(\n",
    "        train_data_dir, \n",
    "        target_size=(64, 64), \n",
    "        batch_size=5216)"
   ]
  },
  {
   "cell_type": "code",
   "execution_count": 8,
   "metadata": {},
   "outputs": [
    {
     "name": "stdout",
     "output_type": "stream",
     "text": [
      "Found 624 images belonging to 2 classes.\n"
     ]
    }
   ],
   "source": [
    "# Get all the data in the directory data/test and reshape them\n",
    "\n",
    "test_generator = ImageDataGenerator().flow_from_directory(\n",
    "        test_data_dir, \n",
    "        target_size=(64, 64), \n",
    "        batch_size=624)"
   ]
  },
  {
   "cell_type": "code",
   "execution_count": 9,
   "metadata": {},
   "outputs": [
    {
     "name": "stdout",
     "output_type": "stream",
     "text": [
      "Found 16 images belonging to 2 classes.\n"
     ]
    }
   ],
   "source": [
    "# Get all the data in the directory data/validation and reshape them\n",
    "\n",
    "val_generator = ImageDataGenerator().flow_from_directory(\n",
    "    valid_data_dir, \n",
    "    target_size=(64, 64), \n",
    "    batch_size=16)"
   ]
  },
  {
   "cell_type": "code",
   "execution_count": 10,
   "metadata": {},
   "outputs": [],
   "source": [
    "#Create our different data sets\n",
    "\n",
    "#Training set\n",
    "X_train, y_train = next(train_generator)\n",
    "\n",
    "#Test set\n",
    "X_test, y_test = next(test_generator)\n",
    "\n",
    "#Validation set\n",
    "X_val, y_val = next(val_generator)"
   ]
  },
  {
   "cell_type": "code",
   "execution_count": 11,
   "metadata": {},
   "outputs": [
    {
     "name": "stdout",
     "output_type": "stream",
     "text": [
      "(5216, 64, 64, 3)\n",
      "(5216, 2)\n",
      "(624, 64, 64, 3)\n",
      "(624, 2)\n",
      "(16, 64, 64, 3)\n",
      "(16, 2)\n"
     ]
    }
   ],
   "source": [
    "#Let's look at the shape of our data\n",
    "\n",
    "print(X_train.shape)\n",
    "print(y_train.shape)\n",
    "print(X_test.shape)\n",
    "print(y_test.shape)\n",
    "print(X_val.shape)\n",
    "print(y_val.shape)"
   ]
  },
  {
   "cell_type": "markdown",
   "metadata": {},
   "source": [
    "#### Let's reshape our data ####"
   ]
  },
  {
   "cell_type": "code",
   "execution_count": 12,
   "metadata": {
    "scrolled": true
   },
   "outputs": [],
   "source": [
    "#X_train"
   ]
  },
  {
   "cell_type": "code",
   "execution_count": 13,
   "metadata": {},
   "outputs": [
    {
     "data": {
      "text/plain": [
       "(5216, 12288)"
      ]
     },
     "execution_count": 13,
     "metadata": {},
     "output_type": "execute_result"
    }
   ],
   "source": [
    "#Reshaping our X_train data\n",
    "X_train_unrow = X_train.reshape(5216, -1)\n",
    "X_train_unrow.shape"
   ]
  },
  {
   "cell_type": "code",
   "execution_count": 14,
   "metadata": {
    "scrolled": true
   },
   "outputs": [
    {
     "data": {
      "text/plain": [
       "(624, 12288)"
      ]
     },
     "execution_count": 14,
     "metadata": {},
     "output_type": "execute_result"
    }
   ],
   "source": [
    "#Reshaping our X_test data\n",
    "X_test_unrow = X_test.reshape(624, -1)\n",
    "X_test_unrow.shape"
   ]
  },
  {
   "cell_type": "code",
   "execution_count": 15,
   "metadata": {},
   "outputs": [
    {
     "data": {
      "text/plain": [
       "array([[1., 0.],\n",
       "       [0., 1.],\n",
       "       [0., 1.],\n",
       "       ...,\n",
       "       [0., 1.],\n",
       "       [1., 0.],\n",
       "       [0., 1.]], dtype=float32)"
      ]
     },
     "execution_count": 15,
     "metadata": {},
     "output_type": "execute_result"
    }
   ],
   "source": [
    "#Taking a look at our y_train data\n",
    "y_train"
   ]
  },
  {
   "cell_type": "code",
   "execution_count": 16,
   "metadata": {},
   "outputs": [
    {
     "data": {
      "text/plain": [
       "{'normal': 0, 'pneumonia': 1}"
      ]
     },
     "execution_count": 16,
     "metadata": {},
     "output_type": "execute_result"
    }
   ],
   "source": [
    "#Let's take a look at which index represents what class\n",
    "train_generator.class_indices"
   ]
  },
  {
   "cell_type": "code",
   "execution_count": 17,
   "metadata": {},
   "outputs": [
    {
     "data": {
      "text/plain": [
       "(1, 5216)"
      ]
     },
     "execution_count": 17,
     "metadata": {},
     "output_type": "execute_result"
    }
   ],
   "source": [
    "y_train_final = y_train.T[[1]]\n",
    "y_train_final.shape"
   ]
  },
  {
   "cell_type": "code",
   "execution_count": 18,
   "metadata": {},
   "outputs": [
    {
     "data": {
      "text/plain": [
       "(5216, 1)"
      ]
     },
     "execution_count": 18,
     "metadata": {},
     "output_type": "execute_result"
    }
   ],
   "source": [
    "y_train_final = y_train_final.reshape(5216, 1)\n",
    "y_train_final.shape"
   ]
  },
  {
   "cell_type": "code",
   "execution_count": 19,
   "metadata": {},
   "outputs": [
    {
     "data": {
      "text/plain": [
       "(624, 1)"
      ]
     },
     "execution_count": 19,
     "metadata": {},
     "output_type": "execute_result"
    }
   ],
   "source": [
    "#Let's reshape our y_test data\n",
    "y_test_final = y_test.T[[1]]\n",
    "y_test_final = y_test_final.reshape(624, 1)\n",
    "y_test_final.shape"
   ]
  },
  {
   "cell_type": "code",
   "execution_count": 20,
   "metadata": {},
   "outputs": [
    {
     "data": {
      "text/plain": [
       "(16, 12288)"
      ]
     },
     "execution_count": 20,
     "metadata": {},
     "output_type": "execute_result"
    }
   ],
   "source": [
    "#Reshaping our X_val and y_val data\n",
    "X_val_final = X_val.reshape(16, -1)\n",
    "X_val_final.shape"
   ]
  },
  {
   "cell_type": "code",
   "execution_count": 21,
   "metadata": {},
   "outputs": [
    {
     "data": {
      "text/plain": [
       "(16, 1)"
      ]
     },
     "execution_count": 21,
     "metadata": {},
     "output_type": "execute_result"
    }
   ],
   "source": [
    "y_val_final = y_val.T[[1]]\n",
    "y_val_final = y_val_final.reshape(16,1)\n",
    "y_val_final.shape"
   ]
  },
  {
   "cell_type": "code",
   "execution_count": 22,
   "metadata": {},
   "outputs": [],
   "source": [
    "#Lastly let's normalize our data\n",
    "X_train_final = X_train_unrow / 255\n",
    "X_test_final = X_test_unrow / 255"
   ]
  },
  {
   "cell_type": "code",
   "execution_count": 23,
   "metadata": {},
   "outputs": [
    {
     "name": "stdout",
     "output_type": "stream",
     "text": [
      "(5216, 12288)\n",
      "(5216, 1)\n",
      "(624, 12288)\n",
      "(624, 1)\n",
      "(16, 12288)\n",
      "(16, 1)\n"
     ]
    }
   ],
   "source": [
    "print(X_train_final.shape)\n",
    "print(y_train_final.shape)\n",
    "print(X_test_final.shape)\n",
    "print(y_test_final.shape)\n",
    "print(X_val_final.shape)\n",
    "print(y_val_final.shape)"
   ]
  },
  {
   "cell_type": "markdown",
   "metadata": {},
   "source": [
    "### Building Our Initial Model ###"
   ]
  },
  {
   "cell_type": "code",
   "execution_count": 24,
   "metadata": {},
   "outputs": [],
   "source": [
    "model_1 = Sequential()\n",
    "model_1.add(Dense(50, activation = 'relu', input_shape = (12288,)))\n",
    "model_1.add(Dense(1, activation = 'sigmoid'))"
   ]
  },
  {
   "cell_type": "code",
   "execution_count": 25,
   "metadata": {},
   "outputs": [],
   "source": [
    "model_1.compile(loss = 'binary_crossentropy', optimizer = 'sgd', metrics = ['acc'])"
   ]
  },
  {
   "cell_type": "code",
   "execution_count": 26,
   "metadata": {},
   "outputs": [
    {
     "name": "stdout",
     "output_type": "stream",
     "text": [
      "Model: \"sequential\"\n",
      "_________________________________________________________________\n",
      "Layer (type)                 Output Shape              Param #   \n",
      "=================================================================\n",
      "dense (Dense)                (None, 50)                614450    \n",
      "_________________________________________________________________\n",
      "dense_1 (Dense)              (None, 1)                 51        \n",
      "=================================================================\n",
      "Total params: 614,501\n",
      "Trainable params: 614,501\n",
      "Non-trainable params: 0\n",
      "_________________________________________________________________\n"
     ]
    }
   ],
   "source": [
    "model_1.summary()"
   ]
  },
  {
   "cell_type": "code",
   "execution_count": 27,
   "metadata": {
    "scrolled": false
   },
   "outputs": [
    {
     "name": "stdout",
     "output_type": "stream",
     "text": [
      "Epoch 1/5\n",
      "105/105 [==============================] - 1s 6ms/step - loss: 0.4905 - acc: 0.7678 - val_loss: 33.5508 - val_acc: 0.7500\n",
      "Epoch 2/5\n",
      "105/105 [==============================] - 0s 5ms/step - loss: 0.3346 - acc: 0.8641 - val_loss: 84.2330 - val_acc: 0.7500\n",
      "Epoch 3/5\n",
      "105/105 [==============================] - 0s 5ms/step - loss: 0.2689 - acc: 0.8923 - val_loss: 122.6993 - val_acc: 0.6875\n",
      "Epoch 4/5\n",
      "105/105 [==============================] - 0s 5ms/step - loss: 0.2280 - acc: 0.9107 - val_loss: 427.3762 - val_acc: 0.5000\n",
      "Epoch 5/5\n",
      "105/105 [==============================] - 0s 5ms/step - loss: 0.1984 - acc: 0.9237 - val_loss: 57.0925 - val_acc: 0.8750\n"
     ]
    }
   ],
   "source": [
    "results_1 = model_1.fit(X_train_final, y_train_final, epochs = 5, batch_size = 50, validation_data= (X_val_final, y_val_final))"
   ]
  },
  {
   "cell_type": "code",
   "execution_count": 28,
   "metadata": {},
   "outputs": [
    {
     "name": "stdout",
     "output_type": "stream",
     "text": [
      "163/163 [==============================] - 0s 2ms/step - loss: 0.1559 - acc: 0.9436\n",
      "Train Loss: 0.1558886170387268\n",
      "Train Acc: 0.9436349868774414\n"
     ]
    }
   ],
   "source": [
    "train_loss, train_acc = model_1.evaluate(X_train_final, y_train_final)\n",
    "print(f'Train Loss: {train_loss}')\n",
    "print(f'Train Acc: {train_acc}')"
   ]
  },
  {
   "cell_type": "code",
   "execution_count": 29,
   "metadata": {},
   "outputs": [
    {
     "name": "stdout",
     "output_type": "stream",
     "text": [
      "20/20 [==============================] - 0s 2ms/step - loss: 0.4760 - acc: 0.7756\n",
      "Test Loss: 0.476045697927475\n",
      "Test Acc: 0.7756410241127014\n"
     ]
    }
   ],
   "source": [
    "test_loss, test_acc = model_1.evaluate(X_test_final, y_test_final)\n",
    "print(f'Test Loss: {test_loss}')\n",
    "print(f'Test Acc: {test_acc}')"
   ]
  },
  {
   "cell_type": "markdown",
   "metadata": {},
   "source": [
    "#### Loss and Accuracy Curves ####"
   ]
  },
  {
   "cell_type": "code",
   "execution_count": 30,
   "metadata": {},
   "outputs": [],
   "source": [
    "def visualize_training_results(results):\n",
    "    history = results.history\n",
    "    plt.figure()\n",
    "    plt.plot(history['val_loss'])\n",
    "    plt.plot(history['loss'])\n",
    "    plt.legend(['val_loss', 'loss'])\n",
    "    plt.title('Loss')\n",
    "    plt.xlabel('Epochs')\n",
    "    plt.ylabel('Loss')\n",
    "    plt.show()\n",
    "    \n",
    "    plt.figure()\n",
    "    plt.plot(history['val_acc'])\n",
    "    plt.plot(history['acc'])\n",
    "    plt.legend(['val_acc', 'acc'])\n",
    "    plt.title('Accuracy')\n",
    "    plt.xlabel('Epochs')\n",
    "    plt.ylabel('Accuracy')\n",
    "    plt.show()\n",
    "    "
   ]
  },
  {
   "cell_type": "code",
   "execution_count": 31,
   "metadata": {
    "scrolled": false
   },
   "outputs": [
    {
     "data": {
      "image/png": "[encoded data removed]",
      "text/plain": [
       "<Figure size 432x288 with 1 Axes>"
      ]
     },
     "metadata": {
      "needs_background": "light"
     },
     "output_type": "display_data"
    },
    {
     "data": {
      "image/png": "[encoded data removed]",
      "text/plain": [
       "<Figure size 432x288 with 1 Axes>"
      ]
     },
     "metadata": {
      "needs_background": "light"
     },
     "output_type": "display_data"
    }
   ],
   "source": [
    "visualize_training_results(results_1)"
   ]
  },
  {
   "cell_type": "markdown",
   "metadata": {},
   "source": [
    "### Model with More Layers ###"
   ]
  },
  {
   "cell_type": "code",
   "execution_count": 32,
   "metadata": {},
   "outputs": [],
   "source": [
    "model_2 = Sequential()\n",
    "model_2.add(Dense(50, activation = 'relu', input_shape = (12288,)))\n",
    "model_2.add(Dense(35, activation = 'relu'))\n",
    "model_2.add(Dense(25, activation = 'relu'))\n",
    "model_2.add(Dense(15, activation = 'relu'))\n",
    "model_2.add(Dense(1, activation = 'sigmoid'))"
   ]
  },
  {
   "cell_type": "code",
   "execution_count": 33,
   "metadata": {},
   "outputs": [],
   "source": [
    "model_2.compile(loss = 'binary_crossentropy', optimizer = 'sgd', metrics = ['acc'])"
   ]
  },
  {
   "cell_type": "code",
   "execution_count": 34,
   "metadata": {},
   "outputs": [
    {
     "name": "stdout",
     "output_type": "stream",
     "text": [
      "Model: \"sequential_1\"\n",
      "_________________________________________________________________\n",
      "Layer (type)                 Output Shape              Param #   \n",
      "=================================================================\n",
      "dense_2 (Dense)              (None, 50)                614450    \n",
      "_________________________________________________________________\n",
      "dense_3 (Dense)              (None, 35)                1785      \n",
      "_________________________________________________________________\n",
      "dense_4 (Dense)              (None, 25)                900       \n",
      "_________________________________________________________________\n",
      "dense_5 (Dense)              (None, 15)                390       \n",
      "_________________________________________________________________\n",
      "dense_6 (Dense)              (None, 1)                 16        \n",
      "=================================================================\n",
      "Total params: 617,541\n",
      "Trainable params: 617,541\n",
      "Non-trainable params: 0\n",
      "_________________________________________________________________\n"
     ]
    }
   ],
   "source": [
    "model_2.summary()"
   ]
  },
  {
   "cell_type": "code",
   "execution_count": 35,
   "metadata": {},
   "outputs": [
    {
     "name": "stdout",
     "output_type": "stream",
     "text": [
      "Epoch 1/5\n",
      "105/105 [==============================] - 1s 5ms/step - loss: 0.1958 - acc: 0.9227 - val_loss: 23.2553 - val_acc: 0.8125\n",
      "Epoch 2/5\n",
      "105/105 [==============================] - 1s 5ms/step - loss: 0.1689 - acc: 0.9331 - val_loss: 32.1544 - val_acc: 0.9375\n",
      "Epoch 3/5\n",
      "105/105 [==============================] - 1s 5ms/step - loss: 0.1787 - acc: 0.9304 - val_loss: 74.4096 - val_acc: 0.8125\n",
      "Epoch 4/5\n",
      "105/105 [==============================] - 1s 5ms/step - loss: 0.1581 - acc: 0.9408 - val_loss: 311.4004 - val_acc: 0.5625\n",
      "Epoch 5/5\n",
      "105/105 [==============================] - 0s 5ms/step - loss: 0.1426 - acc: 0.9446 - val_loss: 71.0697 - val_acc: 0.8125\n"
     ]
    }
   ],
   "source": [
    "results_2 = model_1.fit(X_train_final, y_train_final, epochs = 5, batch_size = 50, validation_data= (X_val_final, y_val_final))"
   ]
  },
  {
   "cell_type": "code",
   "execution_count": 36,
   "metadata": {},
   "outputs": [
    {
     "name": "stdout",
     "output_type": "stream",
     "text": [
      "163/163 [==============================] - 0s 2ms/step - loss: 0.6272 - acc: 0.7429\n",
      "Test Loss: 0.6272055506706238\n",
      "Test Acc: 0.7429064512252808\n"
     ]
    }
   ],
   "source": [
    "train_loss, train_acc = model_2.evaluate(X_train_final, y_train_final)\n",
    "print(f'Test Loss: {train_loss}')\n",
    "print(f'Test Acc: {train_acc}')"
   ]
  },
  {
   "cell_type": "code",
   "execution_count": 37,
   "metadata": {},
   "outputs": [
    {
     "name": "stdout",
     "output_type": "stream",
     "text": [
      "20/20 [==============================] - 0s 2ms/step - loss: 0.6722 - acc: 0.6250\n",
      "Test Loss: 0.6721673011779785\n",
      "Test Acc: 0.625\n"
     ]
    }
   ],
   "source": [
    "test_loss, test_acc = model_2.evaluate(X_test_final, y_test_final)\n",
    "print(f'Test Loss: {test_loss}')\n",
    "print(f'Test Acc: {test_acc}')"
   ]
  },
  {
   "cell_type": "markdown",
   "metadata": {},
   "source": [
    "#### Loss and Accuracy Curves ####"
   ]
  },
  {
   "cell_type": "code",
   "execution_count": 38,
   "metadata": {},
   "outputs": [
    {
     "data": {
      "image/png": "[encoded data removed]",
      "text/plain": [
       "<Figure size 432x288 with 1 Axes>"
      ]
     },
     "metadata": {
      "needs_background": "light"
     },
     "output_type": "display_data"
    },
    {
     "data": {
      "image/png": "[encoded data removed]",
      "text/plain": [
       "<Figure size 432x288 with 1 Axes>"
      ]
     },
     "metadata": {
      "needs_background": "light"
     },
     "output_type": "display_data"
    }
   ],
   "source": [
    "visualize_training_results(results_2)"
   ]
  },
  {
   "cell_type": "markdown",
   "metadata": {},
   "source": [
    "### Model with more epochs ###"
   ]
  },
  {
   "cell_type": "code",
   "execution_count": 39,
   "metadata": {},
   "outputs": [],
   "source": [
    "model_3 = Sequential()\n",
    "model_3.add(Dense(50, activation = 'relu', input_shape = (12288,)))\n",
    "model_3.add(Dense(35, activation = 'relu'))\n",
    "model_3.add(Dense(25, activation = 'relu'))\n",
    "model_3.add(Dense(15, activation = 'relu'))\n",
    "model_3.add(Dense(1, activation = 'sigmoid'))"
   ]
  },
  {
   "cell_type": "code",
   "execution_count": 40,
   "metadata": {},
   "outputs": [],
   "source": [
    "model_3.compile(loss = 'binary_crossentropy', optimizer = 'sgd', metrics = ['acc'])"
   ]
  },
  {
   "cell_type": "code",
   "execution_count": 41,
   "metadata": {},
   "outputs": [
    {
     "name": "stdout",
     "output_type": "stream",
     "text": [
      "Model: \"sequential_2\"\n",
      "_________________________________________________________________\n",
      "Layer (type)                 Output Shape              Param #   \n",
      "=================================================================\n",
      "dense_7 (Dense)              (None, 50)                614450    \n",
      "_________________________________________________________________\n",
      "dense_8 (Dense)              (None, 35)                1785      \n",
      "_________________________________________________________________\n",
      "dense_9 (Dense)              (None, 25)                900       \n",
      "_________________________________________________________________\n",
      "dense_10 (Dense)             (None, 15)                390       \n",
      "_________________________________________________________________\n",
      "dense_11 (Dense)             (None, 1)                 16        \n",
      "=================================================================\n",
      "Total params: 617,541\n",
      "Trainable params: 617,541\n",
      "Non-trainable params: 0\n",
      "_________________________________________________________________\n"
     ]
    }
   ],
   "source": [
    "model_3.summary()"
   ]
  },
  {
   "cell_type": "code",
   "execution_count": 42,
   "metadata": {},
   "outputs": [
    {
     "name": "stdout",
     "output_type": "stream",
     "text": [
      "Epoch 1/10\n",
      "105/105 [==============================] - 1s 6ms/step - loss: 0.5123 - acc: 0.7356 - val_loss: 0.5175 - val_acc: 0.6314\n",
      "Epoch 2/10\n",
      "105/105 [==============================] - 1s 5ms/step - loss: 0.3965 - acc: 0.8267 - val_loss: 0.4305 - val_acc: 0.7949\n",
      "Epoch 3/10\n",
      "105/105 [==============================] - 1s 5ms/step - loss: 0.3271 - acc: 0.8664 - val_loss: 0.6671 - val_acc: 0.6923\n",
      "Epoch 4/10\n",
      "105/105 [==============================] - 1s 5ms/step - loss: 0.2936 - acc: 0.8790 - val_loss: 1.2557 - val_acc: 0.6362\n",
      "Epoch 5/10\n",
      "105/105 [==============================] - 1s 5ms/step - loss: 0.2395 - acc: 0.9039 - val_loss: 0.4976 - val_acc: 0.7708\n",
      "Epoch 6/10\n",
      "105/105 [==============================] - 1s 5ms/step - loss: 0.2289 - acc: 0.9109 - val_loss: 0.3775 - val_acc: 0.8253\n",
      "Epoch 7/10\n",
      "105/105 [==============================] - 1s 5ms/step - loss: 0.1922 - acc: 0.9256 - val_loss: 0.6984 - val_acc: 0.7372\n",
      "Epoch 8/10\n",
      "105/105 [==============================] - 1s 5ms/step - loss: 0.1921 - acc: 0.9216 - val_loss: 0.6613 - val_acc: 0.7548\n",
      "Epoch 9/10\n",
      "105/105 [==============================] - 1s 5ms/step - loss: 0.1816 - acc: 0.9298 - val_loss: 0.3968 - val_acc: 0.8205\n",
      "Epoch 10/10\n",
      "105/105 [==============================] - 1s 5ms/step - loss: 0.1594 - acc: 0.9381 - val_loss: 0.4691 - val_acc: 0.8061\n"
     ]
    }
   ],
   "source": [
    "results_3 = model_3.fit(X_train_final, y_train_final, epochs = 10, batch_size = 50, validation_data= (X_test_final, y_test_final))"
   ]
  },
  {
   "cell_type": "code",
   "execution_count": 43,
   "metadata": {},
   "outputs": [
    {
     "name": "stdout",
     "output_type": "stream",
     "text": [
      "163/163 [==============================] - 0s 2ms/step - loss: 0.1474 - acc: 0.9434\n",
      "Train Loss: 0.1474204957485199\n",
      "Train Acc: 0.943443238735199\n"
     ]
    }
   ],
   "source": [
    "train_loss, train_acc = model_3.evaluate(X_train_final, y_train_final)\n",
    "print(f'Train Loss: {train_loss}')\n",
    "print(f'Train Acc: {train_acc}')"
   ]
  },
  {
   "cell_type": "code",
   "execution_count": 71,
   "metadata": {
    "scrolled": true
   },
   "outputs": [
    {
     "name": "stdout",
     "output_type": "stream",
     "text": [
      "20/20 [==============================] - 0s 2ms/step - loss: 0.4691 - acc: 0.8061\n",
      "Test Loss: 0.4691232144832611\n",
      "Test Acc: 0.8060897588729858\n"
     ]
    }
   ],
   "source": [
    "test_loss, test_acc = model_3.evaluate(X_test_final, y_test_final)\n",
    "print(f'Test Loss: {test_loss}')\n",
    "print(f'Test Acc: {test_acc}')"
   ]
  },
  {
   "cell_type": "markdown",
   "metadata": {},
   "source": [
    "#### Loss and Accuracy Curves ####"
   ]
  },
  {
   "cell_type": "code",
   "execution_count": 45,
   "metadata": {},
   "outputs": [
    {
     "data": {
      "image/png": "[encoded data removed]",
      "text/plain": [
       "<Figure size 432x288 with 1 Axes>"
      ]
     },
     "metadata": {
      "needs_background": "light"
     },
     "output_type": "display_data"
    },
    {
     "data": {
      "image/png": "[encoded data removed]",
      "text/plain": [
       "<Figure size 432x288 with 1 Axes>"
      ]
     },
     "metadata": {
      "needs_background": "light"
     },
     "output_type": "display_data"
    }
   ],
   "source": [
    "visualize_training_results(results_3)"
   ]
  },
  {
   "cell_type": "markdown",
   "metadata": {},
   "source": [
    "### Model with Dropout Regularization ###"
   ]
  },
  {
   "cell_type": "code",
   "execution_count": 65,
   "metadata": {},
   "outputs": [],
   "source": [
    "model_4 = Sequential()\n",
    "model_4.add(Dense(50, activation = 'relu', input_shape = (12288,)))\n",
    "\n",
    "model.add(layers.Dropout(0.3))\n",
    "model_4.add(Dense(35, activation = 'relu'))\n",
    "\n",
    "model.add(layers.Dropout(0.3))\n",
    "model_4.add(Dense(25, activation = 'relu'))\n",
    "\n",
    "model.add(layers.Dropout(0.3))\n",
    "model_4.add(Dense(15, activation = 'relu'))\n",
    "\n",
    "model.add(layers.Dropout(0.3))\n",
    "model_4.add(Dense(1, activation = 'sigmoid'))\n",
    "\n",
    "model_4.compile(loss = 'binary_crossentropy', optimizer = 'sgd', metrics = ['acc'])"
   ]
  },
  {
   "cell_type": "code",
   "execution_count": 66,
   "metadata": {
    "scrolled": true
   },
   "outputs": [
    {
     "name": "stdout",
     "output_type": "stream",
     "text": [
      "Model: \"sequential_7\"\n",
      "_________________________________________________________________\n",
      "Layer (type)                 Output Shape              Param #   \n",
      "=================================================================\n",
      "dense_23 (Dense)             (None, 50)                614450    \n",
      "_________________________________________________________________\n",
      "dense_24 (Dense)             (None, 35)                1785      \n",
      "_________________________________________________________________\n",
      "dense_25 (Dense)             (None, 25)                900       \n",
      "_________________________________________________________________\n",
      "dense_26 (Dense)             (None, 15)                390       \n",
      "_________________________________________________________________\n",
      "dense_27 (Dense)             (None, 1)                 16        \n",
      "=================================================================\n",
      "Total params: 617,541\n",
      "Trainable params: 617,541\n",
      "Non-trainable params: 0\n",
      "_________________________________________________________________\n"
     ]
    }
   ],
   "source": [
    "model_4.summary()"
   ]
  },
  {
   "cell_type": "code",
   "execution_count": 67,
   "metadata": {
    "scrolled": true
   },
   "outputs": [
    {
     "name": "stdout",
     "output_type": "stream",
     "text": [
      "Epoch 1/10\n",
      "105/105 [==============================] - 1s 6ms/step - loss: 0.5303 - acc: 0.7393 - val_loss: 0.5439 - val_acc: 0.7196\n",
      "Epoch 2/10\n",
      "105/105 [==============================] - 1s 5ms/step - loss: 0.4092 - acc: 0.8253 - val_loss: 0.4157 - val_acc: 0.8109\n",
      "Epoch 3/10\n",
      "105/105 [==============================] - 1s 5ms/step - loss: 0.3270 - acc: 0.8658 - val_loss: 0.6576 - val_acc: 0.7083\n",
      "Epoch 4/10\n",
      "105/105 [==============================] - 1s 5ms/step - loss: 0.2799 - acc: 0.8855 - val_loss: 1.3051 - val_acc: 0.6314\n",
      "Epoch 5/10\n",
      "105/105 [==============================] - 1s 5ms/step - loss: 0.2366 - acc: 0.9026 - val_loss: 0.5190 - val_acc: 0.7724\n",
      "Epoch 6/10\n",
      "105/105 [==============================] - 1s 5ms/step - loss: 0.2201 - acc: 0.9139 - val_loss: 0.3481 - val_acc: 0.8397\n",
      "Epoch 7/10\n",
      "105/105 [==============================] - 1s 5ms/step - loss: 0.1921 - acc: 0.9235 - val_loss: 0.6466 - val_acc: 0.7580\n",
      "Epoch 8/10\n",
      "105/105 [==============================] - 1s 5ms/step - loss: 0.1800 - acc: 0.9266 - val_loss: 0.6912 - val_acc: 0.7596\n",
      "Epoch 9/10\n",
      "105/105 [==============================] - 1s 5ms/step - loss: 0.1871 - acc: 0.9279 - val_loss: 0.4121 - val_acc: 0.8077\n",
      "Epoch 10/10\n",
      "105/105 [==============================] - 1s 5ms/step - loss: 0.1582 - acc: 0.9383 - val_loss: 0.5188 - val_acc: 0.7917\n"
     ]
    }
   ],
   "source": [
    "results_4 = model_4.fit(X_train_final, y_train_final, epochs = 10, batch_size = 50, validation_data= (X_test_final, y_test_final))"
   ]
  },
  {
   "cell_type": "code",
   "execution_count": 68,
   "metadata": {},
   "outputs": [
    {
     "name": "stdout",
     "output_type": "stream",
     "text": [
      "163/163 [==============================] - 0s 2ms/step - loss: 0.1369 - acc: 0.9463\n",
      "Train Loss: 0.13691724836826324\n",
      "Train Acc: 0.946319043636322\n"
     ]
    }
   ],
   "source": [
    "train_loss, train_acc = model_4.evaluate(X_train_final, y_train_final)\n",
    "print(f'Train Loss: {train_loss}')\n",
    "print(f'Train Acc: {train_acc}')"
   ]
  },
  {
   "cell_type": "code",
   "execution_count": 69,
   "metadata": {},
   "outputs": [
    {
     "name": "stdout",
     "output_type": "stream",
     "text": [
      "20/20 [==============================] - 0s 2ms/step - loss: 0.5188 - acc: 0.7917\n",
      "Test Loss: 0.5187613368034363\n",
      "Test Acc: 0.7916666865348816\n"
     ]
    }
   ],
   "source": [
    "test_loss, test_acc = model_4.evaluate(X_test_final, y_test_final)\n",
    "print(f'Test Loss: {test_loss}')\n",
    "print(f'Test Acc: {test_acc}')"
   ]
  },
  {
   "cell_type": "code",
   "execution_count": 70,
   "metadata": {},
   "outputs": [
    {
     "data": {
      "image/png": "[encoded data removed]",
      "text/plain": [
       "<Figure size 432x288 with 1 Axes>"
      ]
     },
     "metadata": {
      "needs_background": "light"
     },
     "output_type": "display_data"
    },
    {
     "data": {
      "image/png": "[encoded data removed]",
      "text/plain": [
       "<Figure size 432x288 with 1 Axes>"
      ]
     },
     "metadata": {
      "needs_background": "light"
     },
     "output_type": "display_data"
    }
   ],
   "source": [
    "visualize_training_results(results_4)"
   ]
  },
  {
   "cell_type": "markdown",
   "metadata": {},
   "source": [
    "### Let's Try a Different Approach and Build a CNN ###"
   ]
  },
  {
   "cell_type": "code",
   "execution_count": 46,
   "metadata": {},
   "outputs": [
    {
     "name": "stdout",
     "output_type": "stream",
     "text": [
      "Found 5216 images belonging to 2 classes.\n",
      "Found 5216 images belonging to 2 classes.\n",
      "Found 16 images belonging to 2 classes.\n"
     ]
    }
   ],
   "source": [
    "# get all the data in the train directory \n",
    "train_generator = ImageDataGenerator(rescale=1./255).flow_from_directory(\n",
    "        train_data_dir, \n",
    "        target_size=(64, 64), \n",
    "        batch_size = 5216, \n",
    "        class_mode='binary')\n",
    "\n",
    "# get all the data in the test directory\n",
    "test_generator = ImageDataGenerator(rescale=1./255).flow_from_directory(\n",
    "        train_data_dir, \n",
    "        target_size=(64, 64), \n",
    "        batch_size = 624,\n",
    "        class_mode='binary') \n",
    "\n",
    "\n",
    "# get all the data in the val directory \n",
    "val_generator = ImageDataGenerator(rescale=1./255).flow_from_directory(\n",
    "        valid_data_dir, \n",
    "        target_size=(64, 64),\n",
    "        batch_size = 16,\n",
    "        class_mode='binary')\n",
    "\n"
   ]
  },
  {
   "cell_type": "code",
   "execution_count": 47,
   "metadata": {},
   "outputs": [],
   "source": [
    "X_train, y_train = next(train_generator)\n",
    "X_test, y_test = next(test_generator)\n",
    "X_val, y_val = next(val_generator)"
   ]
  },
  {
   "cell_type": "code",
   "execution_count": 48,
   "metadata": {},
   "outputs": [],
   "source": [
    "model = models.Sequential()\n",
    "model.add(layers.Conv2D(32, (3, 3), activation='relu',\n",
    "                        input_shape=(64 ,64,  3)))\n",
    "\n",
    "model.add(layers.MaxPooling2D((2, 2)))\n",
    "\n",
    "model.add(layers.Conv2D(32, (4, 4), activation='relu'))\n",
    "model.add(layers.MaxPooling2D((2, 2)))\n",
    "\n",
    "model.add(layers.Conv2D(64, (3, 3), activation='relu'))\n",
    "model.add(layers.MaxPooling2D((2, 2)))\n",
    "\n",
    "model.add(layers.Flatten())\n",
    "\n",
    "model.add(layers.Dense(64, activation='relu'))\n",
    "model.add(layers.Dense(1, activation='sigmoid'))\n",
    "\n",
    "model.compile(loss='binary_crossentropy',\n",
    "              optimizer=\"sgd\",\n",
    "              metrics=['acc'])"
   ]
  },
  {
   "cell_type": "code",
   "execution_count": 49,
   "metadata": {},
   "outputs": [
    {
     "name": "stdout",
     "output_type": "stream",
     "text": [
      "Epoch 1/20\n",
      "163/163 [==============================] - 16s 96ms/step - loss: 0.5676 - acc: 0.7408 - val_loss: 0.8662 - val_acc: 0.5000\n",
      "Epoch 2/20\n",
      "163/163 [==============================] - 15s 94ms/step - loss: 0.4948 - acc: 0.7573 - val_loss: 0.7752 - val_acc: 0.5625\n",
      "Epoch 3/20\n",
      "163/163 [==============================] - 15s 95ms/step - loss: 0.3635 - acc: 0.8466 - val_loss: 1.0313 - val_acc: 0.5625\n",
      "Epoch 4/20\n",
      "163/163 [==============================] - 15s 94ms/step - loss: 0.2539 - acc: 0.8924 - val_loss: 0.5717 - val_acc: 0.7500\n",
      "Epoch 5/20\n",
      "163/163 [==============================] - 15s 95ms/step - loss: 0.1922 - acc: 0.9239 - val_loss: 0.6136 - val_acc: 0.6250\n",
      "Epoch 6/20\n",
      "163/163 [==============================] - 15s 92ms/step - loss: 0.1699 - acc: 0.9308 - val_loss: 0.7932 - val_acc: 0.5625\n",
      "Epoch 7/20\n",
      "163/163 [==============================] - 15s 94ms/step - loss: 0.1467 - acc: 0.9440 - val_loss: 0.6881 - val_acc: 0.6250\n",
      "Epoch 8/20\n",
      "163/163 [==============================] - 15s 93ms/step - loss: 0.1414 - acc: 0.9463 - val_loss: 0.5901 - val_acc: 0.6875\n",
      "Epoch 9/20\n",
      "163/163 [==============================] - 15s 92ms/step - loss: 0.1280 - acc: 0.9505 - val_loss: 0.4417 - val_acc: 0.7500\n",
      "Epoch 10/20\n",
      "163/163 [==============================] - 15s 92ms/step - loss: 0.1249 - acc: 0.9507 - val_loss: 0.5554 - val_acc: 0.6875\n",
      "Epoch 11/20\n",
      "163/163 [==============================] - 15s 92ms/step - loss: 0.1219 - acc: 0.9515 - val_loss: 0.3620 - val_acc: 0.9375\n",
      "Epoch 12/20\n",
      "163/163 [==============================] - 15s 91ms/step - loss: 0.1151 - acc: 0.9569 - val_loss: 0.6097 - val_acc: 0.7500\n",
      "Epoch 13/20\n",
      "163/163 [==============================] - 15s 94ms/step - loss: 0.1079 - acc: 0.9563 - val_loss: 0.5729 - val_acc: 0.7500\n",
      "Epoch 14/20\n",
      "163/163 [==============================] - 16s 95ms/step - loss: 0.1051 - acc: 0.9595 - val_loss: 0.6106 - val_acc: 0.7500\n",
      "Epoch 15/20\n",
      "163/163 [==============================] - 15s 95ms/step - loss: 0.1040 - acc: 0.9609 - val_loss: 0.6785 - val_acc: 0.7500\n",
      "Epoch 16/20\n",
      "163/163 [==============================] - 15s 95ms/step - loss: 0.0928 - acc: 0.9647 - val_loss: 0.5459 - val_acc: 0.7500\n",
      "Epoch 17/20\n",
      "163/163 [==============================] - 16s 95ms/step - loss: 0.0956 - acc: 0.9640 - val_loss: 0.2999 - val_acc: 0.8750\n",
      "Epoch 18/20\n",
      "163/163 [==============================] - 16s 96ms/step - loss: 0.0932 - acc: 0.9653 - val_loss: 0.5297 - val_acc: 0.7500\n",
      "Epoch 19/20\n",
      "163/163 [==============================] - 15s 94ms/step - loss: 0.0904 - acc: 0.9666 - val_loss: 0.6082 - val_acc: 0.7500\n",
      "Epoch 20/20\n",
      "163/163 [==============================] - 16s 95ms/step - loss: 0.0871 - acc: 0.9672 - val_loss: 0.7114 - val_acc: 0.6875\n"
     ]
    }
   ],
   "source": [
    "history = model.fit(X_train, y_train,\n",
    "                    epochs=20,\n",
    "                    batch_size=32,\n",
    "                    validation_data=(X_val, y_val))"
   ]
  },
  {
   "cell_type": "code",
   "execution_count": 50,
   "metadata": {},
   "outputs": [
    {
     "name": "stdout",
     "output_type": "stream",
     "text": [
      "163/163 [==============================] - 3s 19ms/step - loss: 0.0821 - acc: 0.9680\n",
      "Train Loss: 0.08207037299871445\n",
      "Train Acc: 0.9679831266403198\n"
     ]
    }
   ],
   "source": [
    "train_loss, train_acc = model.evaluate(X_train, y_train)\n",
    "print(f'Train Loss: {train_loss}')\n",
    "print(f'Train Acc: {train_acc}')"
   ]
  },
  {
   "cell_type": "code",
   "execution_count": 51,
   "metadata": {},
   "outputs": [
    {
     "name": "stdout",
     "output_type": "stream",
     "text": [
      "20/20 [==============================] - 0s 19ms/step - loss: 0.0776 - acc: 0.9663\n",
      "Test Loss: 0.07758916169404984\n",
      "Test Acc: 0.9663461446762085\n"
     ]
    }
   ],
   "source": [
    "test_loss, test_acc = model.evaluate(X_test, y_test)\n",
    "print(f'Test Loss: {test_loss}')\n",
    "print(f'Test Acc: {test_acc}')"
   ]
  },
  {
   "cell_type": "code",
   "execution_count": 52,
   "metadata": {},
   "outputs": [
    {
     "data": {
      "image/png": "[encoded data removed]",
      "text/plain": [
       "<Figure size 432x288 with 1 Axes>"
      ]
     },
     "metadata": {
      "needs_background": "light"
     },
     "output_type": "display_data"
    },
    {
     "data": {
      "image/png": "[encoded data removed]",
      "text/plain": [
       "<Figure size 432x288 with 1 Axes>"
      ]
     },
     "metadata": {
      "needs_background": "light"
     },
     "output_type": "display_data"
    }
   ],
   "source": [
    "visualize_training_results(history)"
   ]
  },
  {
   "cell_type": "markdown",
   "metadata": {},
   "source": [
    "#### Let's add dropout regularization ####"
   ]
  },
  {
   "cell_type": "code",
   "execution_count": 53,
   "metadata": {},
   "outputs": [],
   "source": [
    "model2 = models.Sequential()\n",
    "model2.add(layers.Conv2D(32, (3, 3), activation='relu',\n",
    "                        input_shape=(64 ,64,  3)))\n",
    "\n",
    "model2.add(layers.MaxPooling2D((2, 2)))\n",
    "\n",
    "\n",
    "model2.add(Dropout(0.4))\n",
    "model2.add(layers.Conv2D(32, (4, 4), activation='relu'))\n",
    "model2.add(layers.MaxPooling2D((2, 2)))\n",
    "\n",
    "model2.add(Dropout(0.4))\n",
    "model2.add(layers.Conv2D(64, (3, 3), activation='relu'))\n",
    "model2.add(layers.MaxPooling2D((2, 2)))\n",
    "\n",
    "\n",
    "model2.add(layers.Flatten())\n",
    "model2.add(layers.Dense(64, activation='relu'))\n",
    "model2.add(Dropout(0.2))\n",
    "model2.add(layers.Dense(1, activation='sigmoid'))\n",
    "\n",
    "model2.compile(loss='binary_crossentropy',\n",
    "              optimizer=\"sgd\",\n",
    "              metrics=['acc'])"
   ]
  },
  {
   "cell_type": "code",
   "execution_count": 54,
   "metadata": {},
   "outputs": [
    {
     "name": "stdout",
     "output_type": "stream",
     "text": [
      "Epoch 1/20\n",
      "163/163 [==============================] - 17s 107ms/step - loss: 0.5626 - acc: 0.7396 - val_loss: 0.6999 - val_acc: 0.5000\n",
      "Epoch 2/20\n",
      "163/163 [==============================] - 17s 102ms/step - loss: 0.5004 - acc: 0.7592 - val_loss: 0.6855 - val_acc: 0.5625\n",
      "Epoch 3/20\n",
      "163/163 [==============================] - 17s 103ms/step - loss: 0.4300 - acc: 0.8066 - val_loss: 0.6308 - val_acc: 0.6250\n",
      "Epoch 4/20\n",
      "163/163 [==============================] - 17s 103ms/step - loss: 0.3751 - acc: 0.8292 - val_loss: 0.5974 - val_acc: 0.6875\n",
      "Epoch 5/20\n",
      "163/163 [==============================] - 17s 103ms/step - loss: 0.3132 - acc: 0.8658 - val_loss: 0.5672 - val_acc: 0.7500\n",
      "Epoch 6/20\n",
      "163/163 [==============================] - 17s 103ms/step - loss: 0.2955 - acc: 0.8729 - val_loss: 0.5726 - val_acc: 0.6875\n",
      "Epoch 7/20\n",
      "163/163 [==============================] - 17s 103ms/step - loss: 0.2702 - acc: 0.8840 - val_loss: 0.5178 - val_acc: 0.7500\n",
      "Epoch 8/20\n",
      "163/163 [==============================] - 17s 103ms/step - loss: 0.2528 - acc: 0.8965 - val_loss: 0.5257 - val_acc: 0.7500\n",
      "Epoch 9/20\n",
      "163/163 [==============================] - 17s 103ms/step - loss: 0.2312 - acc: 0.9032 - val_loss: 0.4921 - val_acc: 0.8125\n",
      "Epoch 10/20\n",
      "163/163 [==============================] - 17s 105ms/step - loss: 0.2214 - acc: 0.9105 - val_loss: 0.4862 - val_acc: 0.8750\n",
      "Epoch 11/20\n",
      "163/163 [==============================] - 17s 105ms/step - loss: 0.2092 - acc: 0.9178 - val_loss: 0.5014 - val_acc: 0.8125\n",
      "Epoch 12/20\n",
      "163/163 [==============================] - 17s 103ms/step - loss: 0.2006 - acc: 0.9227 - val_loss: 0.4830 - val_acc: 0.7500\n",
      "Epoch 13/20\n",
      "163/163 [==============================] - 17s 102ms/step - loss: 0.1926 - acc: 0.9271 - val_loss: 0.4951 - val_acc: 0.8125\n",
      "Epoch 14/20\n",
      "163/163 [==============================] - 17s 102ms/step - loss: 0.1920 - acc: 0.9243 - val_loss: 0.4806 - val_acc: 0.8125\n",
      "Epoch 15/20\n",
      "163/163 [==============================] - 17s 103ms/step - loss: 0.1910 - acc: 0.9260 - val_loss: 0.4708 - val_acc: 0.8125\n",
      "Epoch 16/20\n",
      "163/163 [==============================] - 17s 103ms/step - loss: 0.1779 - acc: 0.9293 - val_loss: 0.4919 - val_acc: 0.7500\n",
      "Epoch 17/20\n",
      "163/163 [==============================] - 18s 113ms/step - loss: 0.1748 - acc: 0.9346 - val_loss: 0.4911 - val_acc: 0.8125\n",
      "Epoch 18/20\n",
      "163/163 [==============================] - 18s 111ms/step - loss: 0.1721 - acc: 0.9354 - val_loss: 0.4668 - val_acc: 0.8125\n",
      "Epoch 19/20\n",
      "163/163 [==============================] - 17s 104ms/step - loss: 0.1623 - acc: 0.9427 - val_loss: 0.4676 - val_acc: 0.8125\n",
      "Epoch 20/20\n",
      "163/163 [==============================] - 19s 115ms/step - loss: 0.1650 - acc: 0.9396 - val_loss: 0.5006 - val_acc: 0.8125\n"
     ]
    }
   ],
   "source": [
    "history = model2.fit(X_train, y_train,\n",
    "                    epochs=20,\n",
    "                    batch_size=32,\n",
    "                    validation_data=(X_val, y_val))"
   ]
  },
  {
   "cell_type": "code",
   "execution_count": 55,
   "metadata": {},
   "outputs": [
    {
     "name": "stdout",
     "output_type": "stream",
     "text": [
      "163/163 [==============================] - 4s 25ms/step - loss: 0.2252 - acc: 0.9294\n",
      "Train Loss: 0.2252132147550583\n",
      "Train Acc: 0.9294478297233582\n"
     ]
    }
   ],
   "source": [
    "train_loss, train_acc = model2.evaluate(X_train, y_train)\n",
    "print(f'Train Loss: {train_loss}')\n",
    "print(f'Train Acc: {train_acc}')"
   ]
  },
  {
   "cell_type": "code",
   "execution_count": 56,
   "metadata": {},
   "outputs": [
    {
     "name": "stdout",
     "output_type": "stream",
     "text": [
      "20/20 [==============================] - 0s 21ms/step - loss: 0.2141 - acc: 0.9423\n",
      "Test Loss: 0.21410831809043884\n",
      "Test Acc: 0.942307710647583\n"
     ]
    }
   ],
   "source": [
    "test_loss, test_acc = model2.evaluate(X_test, y_test)\n",
    "print(f'Test Loss: {test_loss}')\n",
    "print(f'Test Acc: {test_acc}')"
   ]
  },
  {
   "cell_type": "code",
   "execution_count": 57,
   "metadata": {},
   "outputs": [
    {
     "data": {
      "image/png": "[encoded data removed]",
      "text/plain": [
       "<Figure size 432x288 with 1 Axes>"
      ]
     },
     "metadata": {
      "needs_background": "light"
     },
     "output_type": "display_data"
    },
    {
     "data": {
      "image/png": "[encoded data removed]",
      "text/plain": [
       "<Figure size 432x288 with 1 Axes>"
      ]
     },
     "metadata": {
      "needs_background": "light"
     },
     "output_type": "display_data"
    }
   ],
   "source": [
    "visualize_training_results(history)"
   ]
  },
  {
   "cell_type": "markdown",
   "metadata": {},
   "source": [
    "#### Let's decrease the number of epochs to 10 ####"
   ]
  },
  {
   "cell_type": "code",
   "execution_count": 58,
   "metadata": {},
   "outputs": [],
   "source": [
    "model3 = models.Sequential()\n",
    "model3.add(layers.Conv2D(32, (3, 3), activation='relu',\n",
    "                        input_shape=(64 ,64,  3)))\n",
    "\n",
    "model3.add(layers.MaxPooling2D((2, 2)))\n",
    "\n",
    "\n",
    "model3.add(Dropout(0.4))\n",
    "model3.add(layers.Conv2D(32, (4, 4), activation='relu'))\n",
    "model3.add(layers.MaxPooling2D((2, 2)))\n",
    "\n",
    "model3.add(Dropout(0.4))\n",
    "model3.add(layers.Conv2D(64, (3, 3), activation='relu'))\n",
    "model3.add(layers.MaxPooling2D((2, 2)))\n",
    "\n",
    "\n",
    "model3.add(layers.Flatten())\n",
    "model3.add(layers.Dense(64, activation='relu'))\n",
    "model3.add(Dropout(0.2))\n",
    "model3.add(layers.Dense(1, activation='sigmoid'))\n",
    "\n",
    "model3.compile(loss='binary_crossentropy',\n",
    "              optimizer=\"sgd\",\n",
    "              metrics=['acc'])"
   ]
  },
  {
   "cell_type": "code",
   "execution_count": 59,
   "metadata": {},
   "outputs": [
    {
     "name": "stdout",
     "output_type": "stream",
     "text": [
      "Epoch 1/10\n",
      "163/163 [==============================] - 18s 111ms/step - loss: 0.5672 - acc: 0.7412 - val_loss: 0.7197 - val_acc: 0.5000\n",
      "Epoch 2/10\n",
      "163/163 [==============================] - 17s 104ms/step - loss: 0.5052 - acc: 0.7546 - val_loss: 0.6944 - val_acc: 0.5625\n",
      "Epoch 3/10\n",
      "163/163 [==============================] - 17s 102ms/step - loss: 0.4250 - acc: 0.8096 - val_loss: 0.6593 - val_acc: 0.6250\n",
      "Epoch 4/10\n",
      "163/163 [==============================] - 17s 103ms/step - loss: 0.3555 - acc: 0.8390 - val_loss: 0.6085 - val_acc: 0.5625\n",
      "Epoch 5/10\n",
      "163/163 [==============================] - 21s 127ms/step - loss: 0.3012 - acc: 0.8658 - val_loss: 0.5544 - val_acc: 0.8125\n",
      "Epoch 6/10\n",
      "163/163 [==============================] - 18s 109ms/step - loss: 0.2796 - acc: 0.8775 - val_loss: 0.5654 - val_acc: 0.7500\n",
      "Epoch 7/10\n",
      "163/163 [==============================] - 19s 115ms/step - loss: 0.2469 - acc: 0.8955 - val_loss: 0.5074 - val_acc: 0.8125\n",
      "Epoch 8/10\n",
      "163/163 [==============================] - 17s 104ms/step - loss: 0.2377 - acc: 0.9034 - val_loss: 0.5253 - val_acc: 0.7500\n",
      "Epoch 9/10\n",
      "163/163 [==============================] - 17s 106ms/step - loss: 0.2229 - acc: 0.9041 - val_loss: 0.5126 - val_acc: 0.8125\n",
      "Epoch 10/10\n",
      "163/163 [==============================] - 17s 103ms/step - loss: 0.2174 - acc: 0.9112 - val_loss: 0.5016 - val_acc: 0.8125\n"
     ]
    }
   ],
   "source": [
    "history = model3.fit(X_train, y_train,\n",
    "                    epochs=10,\n",
    "                    batch_size=32,\n",
    "                    validation_data=(X_val, y_val))"
   ]
  },
  {
   "cell_type": "code",
   "execution_count": 60,
   "metadata": {},
   "outputs": [
    {
     "name": "stdout",
     "output_type": "stream",
     "text": [
      "163/163 [==============================] - 3s 18ms/step - loss: 0.3093 - acc: 0.8848\n",
      "Train Loss: 0.3092534840106964\n",
      "Train Acc: 0.8847776055335999\n"
     ]
    }
   ],
   "source": [
    "train_loss, train_acc = model3.evaluate(X_train, y_train)\n",
    "print(f'Train Loss: {train_loss}')\n",
    "print(f'Train Acc: {train_acc}')"
   ]
  },
  {
   "cell_type": "code",
   "execution_count": 61,
   "metadata": {},
   "outputs": [
    {
     "name": "stdout",
     "output_type": "stream",
     "text": [
      "20/20 [==============================] - 0s 16ms/step - loss: 0.2980 - acc: 0.9022\n",
      "Test Loss: 0.29798752069473267\n",
      "Test Acc: 0.9022436141967773\n"
     ]
    }
   ],
   "source": [
    "test_loss, test_acc = model3.evaluate(X_test, y_test)\n",
    "print(f'Test Loss: {test_loss}')\n",
    "print(f'Test Acc: {test_acc}')"
   ]
  },
  {
   "cell_type": "code",
   "execution_count": 62,
   "metadata": {},
   "outputs": [
    {
     "data": {
      "image/png": "[encoded data removed]",
      "text/plain": [
       "<Figure size 432x288 with 1 Axes>"
      ]
     },
     "metadata": {
      "needs_background": "light"
     },
     "output_type": "display_data"
    },
    {
     "data": {
      "image/png": "[encoded data removed]",
      "text/plain": [
       "<Figure size 432x288 with 1 Axes>"
      ]
     },
     "metadata": {
      "needs_background": "light"
     },
     "output_type": "display_data"
    }
   ],
   "source": [
    "visualize_training_results(history)"
   ]
  },
  {
   "cell_type": "code",
   "execution_count": null,
   "metadata": {},
   "outputs": [],
   "source": []
  }
 ],
 "metadata": {
  "kernelspec": {
   "display_name": "Python 3",
   "language": "python",
   "name": "python3"
  },
  "language_info": {
   "codemirror_mode": {
    "name": "ipython",
    "version": 3
   },
   "file_extension": ".py",
   "mimetype": "text/x-python",
   "name": "python",
   "nbconvert_exporter": "python",
   "pygments_lexer": "ipython3",
   "version": "3.8.5"
  }
 },
 "nbformat": 4,
 "nbformat_minor": 4
}
