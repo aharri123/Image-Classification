{
 "cells": [
  {
   "cell_type": "code",
   "execution_count": null,
   "metadata": {},
   "outputs": [],
   "source": []
  },
  {
   "cell_type": "code",
   "execution_count": 1,
   "metadata": {},
   "outputs": [],
   "source": [
    "import tensorflow as tf\n",
    "from tensorflow import keras\n",
    "from keras import models\n",
    "from keras import layers\n",
    "from keras.preprocessing.image import ImageDataGenerator\n",
    "from keras_preprocessing.image import img_to_array, img_to_array, load_img\n",
    "from keras.models import Sequential\n",
    "from keras.layers import Dense\n",
    "from keras.layers import Dropout\n",
    "\n",
    "import numpy as np\n",
    "import matplotlib.pyplot as plt\n",
    "import os\n",
    "\n",
    "from numpy.random import seed\n",
    "seed(1)\n",
    "tf.random.set_seed(123) "
   ]
  },
  {
   "cell_type": "code",
   "execution_count": 2,
   "metadata": {},
   "outputs": [],
   "source": [
    "#Create our directory paths to our images\n",
    "train_data_dir = 'data/train'\n",
    "test_data_dir = 'data/test'\n",
    "valid_data_dir = 'data/validation'"
   ]
  },
  {
   "cell_type": "code",
   "execution_count": 3,
   "metadata": {},
   "outputs": [],
   "source": [
    "#Let's plot the number of images in each classification directory\n",
    "\n",
    "def bar_plot(dir):\n",
    "  x=len(os.listdir(dir+'/NORMAL'))\n",
    "  y=len(os.listdir(dir+'/PNEUMONIA'))\n",
    "  category = ['NORMAL', 'PNEUMONIA']\n",
    "  count = [x, y]\n",
    "  plot = plt.bar(category,count) \n",
    "  plot[0].set_color('orange')\n",
    "  plt.title('Number of values for each category')\n",
    "  plt.show()"
   ]
  },
  {
   "cell_type": "code",
   "execution_count": 4,
   "metadata": {},
   "outputs": [
    {
     "name": "stdout",
     "output_type": "stream",
     "text": [
      "Training images:\n",
      "\n",
      "NORMAL: 1341\n",
      "PNEUMONIA: 3875\n",
      "Total Training images: 5216\n",
      "*************************************************\n"
     ]
    },
    {
     "data": {
      "image/png": "[encoded data removed]",
      "text/plain": [
       "<Figure size 432x288 with 1 Axes>"
      ]
     },
     "metadata": {
      "needs_background": "light"
     },
     "output_type": "display_data"
    }
   ],
   "source": [
    "#Number of training images\n",
    "print('Training images:\\n')\n",
    "print('NORMAL:', len(os.listdir(train_data_dir+'/NORMAL')))\n",
    "print('PNEUMONIA:', len(os.listdir(train_data_dir+'/PNEUMONIA')))\n",
    "print('Total Training images:', len(os.listdir(train_data_dir+'/NORMAL')) + len(os.listdir(train_data_dir+'/PNEUMONIA')))\n",
    "print('*'*49)\n",
    "bar_plot(train_data_dir)"
   ]
  },
  {
   "cell_type": "code",
   "execution_count": 5,
   "metadata": {},
   "outputs": [
    {
     "name": "stdout",
     "output_type": "stream",
     "text": [
      "Test images:\n",
      "\n",
      "NORMAL: 234\n",
      "PNEUMONIA: 390\n",
      "Total Test images: 624\n",
      "*************************************************\n"
     ]
    },
    {
     "data": {
      "image/png": "[encoded data removed]",
      "text/plain": [
       "<Figure size 432x288 with 1 Axes>"
      ]
     },
     "metadata": {
      "needs_background": "light"
     },
     "output_type": "display_data"
    }
   ],
   "source": [
    "#Number of test images\n",
    "print('Test images:\\n')\n",
    "print('NORMAL:', len(os.listdir(test_data_dir+'/NORMAL')))\n",
    "print('PNEUMONIA:', len(os.listdir(test_data_dir+'/PNEUMONIA')))\n",
    "print('Total Test images:', len(os.listdir(test_data_dir+'/NORMAL')) + len(os.listdir(test_data_dir+'/PNEUMONIA')))\n",
    "print('*'*49)\n",
    "bar_plot(test_data_dir)"
   ]
  },
  {
   "cell_type": "code",
   "execution_count": 6,
   "metadata": {},
   "outputs": [
    {
     "name": "stdout",
     "output_type": "stream",
     "text": [
      "Validation images:\n",
      "\n",
      "NORMAL: 8\n",
      "PNEUMONIA: 8\n",
      "Total Validation images: 16\n",
      "***********************************************\n"
     ]
    },
    {
     "data": {
      "image/png": "[encoded data removed]",
      "text/plain": [
       "<Figure size 432x288 with 1 Axes>"
      ]
     },
     "metadata": {
      "needs_background": "light"
     },
     "output_type": "display_data"
    }
   ],
   "source": [
    "#Number of validation images\n",
    "print('Validation images:\\n')\n",
    "print('NORMAL:', len(os.listdir(valid_data_dir+'/NORMAL')))\n",
    "print('PNEUMONIA:', len(os.listdir(valid_data_dir+'/PNEUMONIA')))\n",
    "print('Total Validation images:', len(os.listdir(valid_data_dir+'/NORMAL')) + len(os.listdir(valid_data_dir+'/PNEUMONIA')))\n",
    "print('*'*47)\n",
    "bar_plot(valid_data_dir)\n"
   ]
  },
  {
   "cell_type": "code",
   "execution_count": 7,
   "metadata": {},
   "outputs": [
    {
     "name": "stdout",
     "output_type": "stream",
     "text": [
      "Found 5216 images belonging to 2 classes.\n"
     ]
    }
   ],
   "source": [
    "# Get all the data in the directory data/train and reshape them\n",
    "\n",
    "train_generator = ImageDataGenerator().flow_from_directory(\n",
    "        train_data_dir, \n",
    "        target_size=(64, 64), \n",
    "        batch_size=5216)"
   ]
  },
  {
   "cell_type": "code",
   "execution_count": 8,
   "metadata": {},
   "outputs": [
    {
     "name": "stdout",
     "output_type": "stream",
     "text": [
      "Found 624 images belonging to 2 classes.\n"
     ]
    }
   ],
   "source": [
    "# Get all the data in the directory data/test and reshape them\n",
    "\n",
    "test_generator = ImageDataGenerator().flow_from_directory(\n",
    "        test_data_dir, \n",
    "        target_size=(64, 64), \n",
    "        batch_size=624)"
   ]
  },
  {
   "cell_type": "code",
   "execution_count": 9,
   "metadata": {},
   "outputs": [
    {
     "name": "stdout",
     "output_type": "stream",
     "text": [
      "Found 16 images belonging to 2 classes.\n"
     ]
    }
   ],
   "source": [
    "# Get all the data in the directory data/validation and reshape them\n",
    "\n",
    "val_generator = ImageDataGenerator().flow_from_directory(\n",
    "    valid_data_dir, \n",
    "    target_size=(64, 64), \n",
    "    batch_size=16)"
   ]
  },
  {
   "cell_type": "code",
   "execution_count": 10,
   "metadata": {},
   "outputs": [],
   "source": [
    "#Create our different data sets\n",
    "\n",
    "#Training set\n",
    "X_train, y_train = next(train_generator)\n",
    "\n",
    "#Test set\n",
    "X_test, y_test = next(test_generator)\n",
    "\n",
    "#Validation set\n",
    "X_val, y_val = next(val_generator)"
   ]
  },
  {
   "cell_type": "code",
   "execution_count": 11,
   "metadata": {},
   "outputs": [
    {
     "name": "stdout",
     "output_type": "stream",
     "text": [
      "(5216, 64, 64, 3)\n",
      "(5216, 2)\n",
      "(624, 64, 64, 3)\n",
      "(624, 2)\n",
      "(16, 64, 64, 3)\n",
      "(16, 2)\n"
     ]
    }
   ],
   "source": [
    "#Let's look at the shape of our data\n",
    "\n",
    "print(X_train.shape)\n",
    "print(y_train.shape)\n",
    "print(X_test.shape)\n",
    "print(y_test.shape)\n",
    "print(X_val.shape)\n",
    "print(y_val.shape)"
   ]
  },
  {
   "cell_type": "markdown",
   "metadata": {},
   "source": [
    "#### Let's reshape our data ####"
   ]
  },
  {
   "cell_type": "code",
   "execution_count": 12,
   "metadata": {
    "scrolled": true
   },
   "outputs": [],
   "source": [
    "#X_train"
   ]
  },
  {
   "cell_type": "code",
   "execution_count": 13,
   "metadata": {},
   "outputs": [
    {
     "data": {
      "text/plain": [
       "(5216, 12288)"
      ]
     },
     "execution_count": 13,
     "metadata": {},
     "output_type": "execute_result"
    }
   ],
   "source": [
    "#Reshaping our X_train data\n",
    "X_train_unrow = X_train.reshape(5216, -1)\n",
    "X_train_unrow.shape"
   ]
  },
  {
   "cell_type": "code",
   "execution_count": 14,
   "metadata": {
    "scrolled": true
   },
   "outputs": [
    {
     "data": {
      "text/plain": [
       "(624, 12288)"
      ]
     },
     "execution_count": 14,
     "metadata": {},
     "output_type": "execute_result"
    }
   ],
   "source": [
    "#Reshaping our X_test data\n",
    "X_test_unrow = X_test.reshape(624, -1)\n",
    "X_test_unrow.shape"
   ]
  },
  {
   "cell_type": "code",
   "execution_count": 15,
   "metadata": {},
   "outputs": [
    {
     "data": {
      "text/plain": [
       "array([[1., 0.],\n",
       "       [0., 1.],\n",
       "       [0., 1.],\n",
       "       ...,\n",
       "       [0., 1.],\n",
       "       [1., 0.],\n",
       "       [0., 1.]], dtype=float32)"
      ]
     },
     "execution_count": 15,
     "metadata": {},
     "output_type": "execute_result"
    }
   ],
   "source": [
    "#Taking a look at our y_train data\n",
    "y_train"
   ]
  },
  {
   "cell_type": "code",
   "execution_count": 16,
   "metadata": {},
   "outputs": [
    {
     "data": {
      "text/plain": [
       "{'normal': 0, 'pneumonia': 1}"
      ]
     },
     "execution_count": 16,
     "metadata": {},
     "output_type": "execute_result"
    }
   ],
   "source": [
    "#Let's take a look at which index represents what class\n",
    "train_generator.class_indices"
   ]
  },
  {
   "cell_type": "code",
   "execution_count": 17,
   "metadata": {},
   "outputs": [
    {
     "data": {
      "text/plain": [
       "(1, 5216)"
      ]
     },
     "execution_count": 17,
     "metadata": {},
     "output_type": "execute_result"
    }
   ],
   "source": [
    "y_train_final = y_train.T[[1]]\n",
    "y_train_final.shape"
   ]
  },
  {
   "cell_type": "code",
   "execution_count": 18,
   "metadata": {},
   "outputs": [
    {
     "data": {
      "text/plain": [
       "(5216, 1)"
      ]
     },
     "execution_count": 18,
     "metadata": {},
     "output_type": "execute_result"
    }
   ],
   "source": [
    "y_train_final = y_train_final.reshape(5216, 1)\n",
    "y_train_final.shape"
   ]
  },
  {
   "cell_type": "code",
   "execution_count": 19,
   "metadata": {},
   "outputs": [
    {
     "data": {
      "text/plain": [
       "(624, 1)"
      ]
     },
     "execution_count": 19,
     "metadata": {},
     "output_type": "execute_result"
    }
   ],
   "source": [
    "#Let's reshape our y_test data\n",
    "y_test_final = y_test.T[[1]]\n",
    "y_test_final = y_test_final.reshape(624, 1)\n",
    "y_test_final.shape"
   ]
  },
  {
   "cell_type": "code",
   "execution_count": 20,
   "metadata": {},
   "outputs": [
    {
     "data": {
      "text/plain": [
       "(16, 12288)"
      ]
     },
     "execution_count": 20,
     "metadata": {},
     "output_type": "execute_result"
    }
   ],
   "source": [
    "#Reshaping our X_val and y_val data\n",
    "X_val_final = X_val.reshape(16, -1)\n",
    "X_val_final.shape"
   ]
  },
  {
   "cell_type": "code",
   "execution_count": 21,
   "metadata": {},
   "outputs": [
    {
     "data": {
      "text/plain": [
       "(16, 1)"
      ]
     },
     "execution_count": 21,
     "metadata": {},
     "output_type": "execute_result"
    }
   ],
   "source": [
    "y_val_final = y_val.T[[1]]\n",
    "y_val_final = y_val_final.reshape(16,1)\n",
    "y_val_final.shape"
   ]
  },
  {
   "cell_type": "code",
   "execution_count": 22,
   "metadata": {},
   "outputs": [],
   "source": [
    "#Lastly let's normalize our data\n",
    "X_train_final = X_train_unrow / 255\n",
    "X_test_final = X_test_unrow / 255"
   ]
  },
  {
   "cell_type": "code",
   "execution_count": 23,
   "metadata": {},
   "outputs": [
    {
     "name": "stdout",
     "output_type": "stream",
     "text": [
      "(5216, 12288)\n",
      "(5216, 1)\n",
      "(624, 12288)\n",
      "(624, 1)\n",
      "(16, 12288)\n",
      "(16, 1)\n"
     ]
    }
   ],
   "source": [
    "print(X_train_final.shape)\n",
    "print(y_train_final.shape)\n",
    "print(X_test_final.shape)\n",
    "print(y_test_final.shape)\n",
    "print(X_val_final.shape)\n",
    "print(y_val_final.shape)"
   ]
  },
  {
   "cell_type": "markdown",
   "metadata": {},
   "source": [
    "### Building Our Initial Model ###"
   ]
  },
  {
   "cell_type": "code",
   "execution_count": 24,
   "metadata": {},
   "outputs": [],
   "source": [
    "model_1 = Sequential()\n",
    "model_1.add(Dense(50, activation = 'relu', input_shape = (12288,)))\n",
    "model_1.add(Dense(1, activation = 'sigmoid'))"
   ]
  },
  {
   "cell_type": "code",
   "execution_count": 25,
   "metadata": {},
   "outputs": [],
   "source": [
    "model_1.compile(loss = 'binary_crossentropy', optimizer = 'sgd', metrics = ['acc'])"
   ]
  },
  {
   "cell_type": "code",
   "execution_count": 26,
   "metadata": {},
   "outputs": [
    {
     "name": "stdout",
     "output_type": "stream",
     "text": [
      "Model: \"sequential\"\n",
      "_________________________________________________________________\n",
      "Layer (type)                 Output Shape              Param #   \n",
      "=================================================================\n",
      "dense (Dense)                (None, 50)                614450    \n",
      "_________________________________________________________________\n",
      "dense_1 (Dense)              (None, 1)                 51        \n",
      "=================================================================\n",
      "Total params: 614,501\n",
      "Trainable params: 614,501\n",
      "Non-trainable params: 0\n",
      "_________________________________________________________________\n"
     ]
    }
   ],
   "source": [
    "model_1.summary()"
   ]
  },
  {
   "cell_type": "code",
   "execution_count": 27,
   "metadata": {
    "scrolled": false
   },
   "outputs": [
    {
     "name": "stdout",
     "output_type": "stream",
     "text": [
      "Epoch 1/5\n",
      "105/105 [==============================] - 1s 6ms/step - loss: 0.5317 - acc: 0.7581 - val_loss: 28.8659 - val_acc: 0.6875\n",
      "Epoch 2/5\n",
      "105/105 [==============================] - 1s 5ms/step - loss: 0.3483 - acc: 0.8547 - val_loss: 49.2122 - val_acc: 0.8125\n",
      "Epoch 3/5\n",
      "105/105 [==============================] - 0s 5ms/step - loss: 0.2923 - acc: 0.8767 - val_loss: 497.9591 - val_acc: 0.5000\n",
      "Epoch 4/5\n",
      "105/105 [==============================] - 0s 5ms/step - loss: 0.2191 - acc: 0.9133 - val_loss: 92.4178 - val_acc: 0.8125\n",
      "Epoch 5/5\n",
      "105/105 [==============================] - 0s 5ms/step - loss: 0.1991 - acc: 0.9229 - val_loss: 82.9367 - val_acc: 0.8125\n"
     ]
    }
   ],
   "source": [
    "results_1 = model_1.fit(X_train_final, y_train_final, epochs = 5, batch_size = 50, validation_data= (X_val_final, y_val_final))"
   ]
  },
  {
   "cell_type": "code",
   "execution_count": 28,
   "metadata": {},
   "outputs": [
    {
     "name": "stdout",
     "output_type": "stream",
     "text": [
      "163/163 [==============================] - 0s 2ms/step - loss: 0.1599 - acc: 0.9381\n",
      "Train Loss: 0.15988366305828094\n",
      "Train Acc: 0.9380751252174377\n"
     ]
    }
   ],
   "source": [
    "train_loss, train_acc = model_1.evaluate(X_train_final, y_train_final)\n",
    "print(f'Train Loss: {train_loss}')\n",
    "print(f'Train Acc: {train_acc}')"
   ]
  },
  {
   "cell_type": "code",
   "execution_count": 29,
   "metadata": {},
   "outputs": [
    {
     "name": "stdout",
     "output_type": "stream",
     "text": [
      "20/20 [==============================] - 0s 2ms/step - loss: 0.5758 - acc: 0.7420\n",
      "Test Loss: 0.5757579207420349\n",
      "Test Acc: 0.7419871687889099\n"
     ]
    }
   ],
   "source": [
    "test_loss, test_acc = model_1.evaluate(X_test_final, y_test_final)\n",
    "print(f'Test Loss: {test_loss}')\n",
    "print(f'Test Acc: {test_acc}')"
   ]
  },
  {
   "cell_type": "markdown",
   "metadata": {},
   "source": [
    "#### Loss and Accuracy Curves ####"
   ]
  },
  {
   "cell_type": "code",
   "execution_count": 30,
   "metadata": {},
   "outputs": [],
   "source": [
    "def visualize_training_results(results):\n",
    "    history = results.history\n",
    "    plt.figure()\n",
    "    plt.plot(history['val_loss'])\n",
    "    plt.plot(history['loss'])\n",
    "    plt.legend(['val_loss', 'loss'])\n",
    "    plt.title('Loss')\n",
    "    plt.xlabel('Epochs')\n",
    "    plt.ylabel('Loss')\n",
    "    plt.show()\n",
    "    \n",
    "    plt.figure()\n",
    "    plt.plot(history['val_acc'])\n",
    "    plt.plot(history['acc'])\n",
    "    plt.legend(['val_acc', 'acc'])\n",
    "    plt.title('Accuracy')\n",
    "    plt.xlabel('Epochs')\n",
    "    plt.ylabel('Accuracy')\n",
    "    plt.show()\n",
    "    "
   ]
  },
  {
   "cell_type": "code",
   "execution_count": 31,
   "metadata": {
    "scrolled": false
   },
   "outputs": [
    {
     "data": {
      "image/png": "[encoded data removed]",
      "text/plain": [
       "<Figure size 432x288 with 1 Axes>"
      ]
     },
     "metadata": {
      "needs_background": "light"
     },
     "output_type": "display_data"
    },
    {
     "data": {
      "image/png": "[encoded data removed]",
      "text/plain": [
       "<Figure size 432x288 with 1 Axes>"
      ]
     },
     "metadata": {
      "needs_background": "light"
     },
     "output_type": "display_data"
    }
   ],
   "source": [
    "visualize_training_results(results_1)"
   ]
  },
  {
   "cell_type": "markdown",
   "metadata": {},
   "source": [
    "### Model with More Layers ###"
   ]
  },
  {
   "cell_type": "code",
   "execution_count": 32,
   "metadata": {},
   "outputs": [],
   "source": [
    "model_2 = Sequential()\n",
    "model_2.add(Dense(50, activation = 'relu', input_shape = (12288,)))\n",
    "model_2.add(Dense(35, activation = 'relu'))\n",
    "model_2.add(Dense(25, activation = 'relu'))\n",
    "model_2.add(Dense(15, activation = 'relu'))\n",
    "model_2.add(Dense(1, activation = 'sigmoid'))"
   ]
  },
  {
   "cell_type": "code",
   "execution_count": 33,
   "metadata": {},
   "outputs": [],
   "source": [
    "model_2.compile(loss = 'binary_crossentropy', optimizer = 'sgd', metrics = ['acc'])"
   ]
  },
  {
   "cell_type": "code",
   "execution_count": 34,
   "metadata": {},
   "outputs": [
    {
     "name": "stdout",
     "output_type": "stream",
     "text": [
      "Model: \"sequential_1\"\n",
      "_________________________________________________________________\n",
      "Layer (type)                 Output Shape              Param #   \n",
      "=================================================================\n",
      "dense_2 (Dense)              (None, 50)                614450    \n",
      "_________________________________________________________________\n",
      "dense_3 (Dense)              (None, 35)                1785      \n",
      "_________________________________________________________________\n",
      "dense_4 (Dense)              (None, 25)                900       \n",
      "_________________________________________________________________\n",
      "dense_5 (Dense)              (None, 15)                390       \n",
      "_________________________________________________________________\n",
      "dense_6 (Dense)              (None, 1)                 16        \n",
      "=================================================================\n",
      "Total params: 617,541\n",
      "Trainable params: 617,541\n",
      "Non-trainable params: 0\n",
      "_________________________________________________________________\n"
     ]
    }
   ],
   "source": [
    "model_2.summary()"
   ]
  },
  {
   "cell_type": "code",
   "execution_count": 35,
   "metadata": {},
   "outputs": [
    {
     "name": "stdout",
     "output_type": "stream",
     "text": [
      "Epoch 1/5\n",
      "105/105 [==============================] - 1s 5ms/step - loss: 0.2060 - acc: 0.9160 - val_loss: 24.8174 - val_acc: 0.8750\n",
      "Epoch 2/5\n",
      "105/105 [==============================] - 0s 5ms/step - loss: 0.1870 - acc: 0.9254 - val_loss: 50.1814 - val_acc: 0.8750\n",
      "Epoch 3/5\n",
      "105/105 [==============================] - 1s 5ms/step - loss: 0.1655 - acc: 0.9377 - val_loss: 519.0797 - val_acc: 0.5000\n",
      "Epoch 4/5\n",
      "105/105 [==============================] - 1s 5ms/step - loss: 0.1521 - acc: 0.9423 - val_loss: 69.0538 - val_acc: 0.8125\n",
      "Epoch 5/5\n",
      "105/105 [==============================] - 0s 5ms/step - loss: 0.1440 - acc: 0.9450 - val_loss: 98.4163 - val_acc: 0.8125\n"
     ]
    }
   ],
   "source": [
    "results_2 = model_1.fit(X_train_final, y_train_final, epochs = 5, batch_size = 50, validation_data= (X_val_final, y_val_final))"
   ]
  },
  {
   "cell_type": "code",
   "execution_count": 36,
   "metadata": {},
   "outputs": [
    {
     "name": "stdout",
     "output_type": "stream",
     "text": [
      "163/163 [==============================] - 0s 2ms/step - loss: 0.6826 - acc: 0.7280\n",
      "Test Loss: 0.6826126575469971\n",
      "Test Acc: 0.7279524803161621\n"
     ]
    }
   ],
   "source": [
    "train_loss, train_acc = model_2.evaluate(X_train_final, y_train_final)\n",
    "print(f'Test Loss: {train_loss}')\n",
    "print(f'Test Acc: {train_acc}')"
   ]
  },
  {
   "cell_type": "code",
   "execution_count": 37,
   "metadata": {},
   "outputs": [
    {
     "name": "stdout",
     "output_type": "stream",
     "text": [
      "20/20 [==============================] - 0s 3ms/step - loss: 0.6896 - acc: 0.6186\n",
      "Test Loss: 0.6896061897277832\n",
      "Test Acc: 0.6185897588729858\n"
     ]
    }
   ],
   "source": [
    "test_loss, test_acc = model_2.evaluate(X_test_final, y_test_final)\n",
    "print(f'Test Loss: {test_loss}')\n",
    "print(f'Test Acc: {test_acc}')"
   ]
  },
  {
   "cell_type": "markdown",
   "metadata": {},
   "source": [
    "#### Loss and Accuracy Curves ####"
   ]
  },
  {
   "cell_type": "code",
   "execution_count": 38,
   "metadata": {},
   "outputs": [
    {
     "data": {
      "image/png": "[encoded data removed]",
      "text/plain": [
       "<Figure size 432x288 with 1 Axes>"
      ]
     },
     "metadata": {
      "needs_background": "light"
     },
     "output_type": "display_data"
    },
    {
     "data": {
      "image/png": "[encoded data removed]",
      "text/plain": [
       "<Figure size 432x288 with 1 Axes>"
      ]
     },
     "metadata": {
      "needs_background": "light"
     },
     "output_type": "display_data"
    }
   ],
   "source": [
    "visualize_training_results(results_2)"
   ]
  },
  {
   "cell_type": "markdown",
   "metadata": {},
   "source": [
    "### Model with more epochs ###"
   ]
  },
  {
   "cell_type": "code",
   "execution_count": 39,
   "metadata": {},
   "outputs": [],
   "source": [
    "model_3 = Sequential()\n",
    "model_3.add(Dense(50, activation = 'relu', input_shape = (12288,)))\n",
    "model_3.add(Dense(35, activation = 'relu'))\n",
    "model_3.add(Dense(25, activation = 'relu'))\n",
    "model_3.add(Dense(15, activation = 'relu'))\n",
    "model_3.add(Dense(1, activation = 'sigmoid'))"
   ]
  },
  {
   "cell_type": "code",
   "execution_count": 40,
   "metadata": {},
   "outputs": [],
   "source": [
    "model_3.compile(loss = 'binary_crossentropy', optimizer = 'sgd', metrics = ['acc'])"
   ]
  },
  {
   "cell_type": "code",
   "execution_count": 41,
   "metadata": {},
   "outputs": [
    {
     "name": "stdout",
     "output_type": "stream",
     "text": [
      "Model: \"sequential_2\"\n",
      "_________________________________________________________________\n",
      "Layer (type)                 Output Shape              Param #   \n",
      "=================================================================\n",
      "dense_7 (Dense)              (None, 50)                614450    \n",
      "_________________________________________________________________\n",
      "dense_8 (Dense)              (None, 35)                1785      \n",
      "_________________________________________________________________\n",
      "dense_9 (Dense)              (None, 25)                900       \n",
      "_________________________________________________________________\n",
      "dense_10 (Dense)             (None, 15)                390       \n",
      "_________________________________________________________________\n",
      "dense_11 (Dense)             (None, 1)                 16        \n",
      "=================================================================\n",
      "Total params: 617,541\n",
      "Trainable params: 617,541\n",
      "Non-trainable params: 0\n",
      "_________________________________________________________________\n"
     ]
    }
   ],
   "source": [
    "model_3.summary()"
   ]
  },
  {
   "cell_type": "code",
   "execution_count": 42,
   "metadata": {},
   "outputs": [
    {
     "name": "stdout",
     "output_type": "stream",
     "text": [
      "Epoch 1/10\n",
      "105/105 [==============================] - 1s 8ms/step - loss: 0.5162 - acc: 0.7581 - val_loss: 0.5564 - val_acc: 0.7580\n",
      "Epoch 2/10\n",
      "105/105 [==============================] - 1s 6ms/step - loss: 0.3887 - acc: 0.8322 - val_loss: 0.4073 - val_acc: 0.7981\n",
      "Epoch 3/10\n",
      "105/105 [==============================] - 1s 6ms/step - loss: 0.3153 - acc: 0.8671 - val_loss: 1.9200 - val_acc: 0.6250\n",
      "Epoch 4/10\n",
      "105/105 [==============================] - 1s 6ms/step - loss: 0.2456 - acc: 0.8997 - val_loss: 0.9317 - val_acc: 0.6891\n",
      "Epoch 5/10\n",
      "105/105 [==============================] - 1s 7ms/step - loss: 0.2168 - acc: 0.9130 - val_loss: 1.2115 - val_acc: 0.6619\n",
      "Epoch 6/10\n",
      "105/105 [==============================] - 1s 7ms/step - loss: 0.2029 - acc: 0.9191 - val_loss: 0.8597 - val_acc: 0.7067\n",
      "Epoch 7/10\n",
      "105/105 [==============================] - 1s 7ms/step - loss: 0.1900 - acc: 0.9241 - val_loss: 1.2132 - val_acc: 0.6779\n",
      "Epoch 8/10\n",
      "105/105 [==============================] - 1s 6ms/step - loss: 0.1923 - acc: 0.9216 - val_loss: 0.6247 - val_acc: 0.7660\n",
      "Epoch 9/10\n",
      "105/105 [==============================] - 1s 7ms/step - loss: 0.1726 - acc: 0.9329 - val_loss: 0.9639 - val_acc: 0.6987\n",
      "Epoch 10/10\n",
      "105/105 [==============================] - 1s 7ms/step - loss: 0.1713 - acc: 0.9335 - val_loss: 0.5518 - val_acc: 0.7853\n"
     ]
    }
   ],
   "source": [
    "results_3 = model_3.fit(X_train_final, y_train_final, epochs = 10, batch_size = 50, validation_data= (X_test_final, y_test_final))"
   ]
  },
  {
   "cell_type": "code",
   "execution_count": 43,
   "metadata": {},
   "outputs": [
    {
     "name": "stdout",
     "output_type": "stream",
     "text": [
      "163/163 [==============================] - 0s 3ms/step - loss: 0.1286 - acc: 0.9509\n",
      "Train Loss: 0.12862132489681244\n",
      "Train Acc: 0.9509202241897583\n"
     ]
    }
   ],
   "source": [
    "train_loss, train_acc = model_3.evaluate(X_train_final, y_train_final)\n",
    "print(f'Train Loss: {train_loss}')\n",
    "print(f'Train Acc: {train_acc}')"
   ]
  },
  {
   "cell_type": "code",
   "execution_count": 44,
   "metadata": {
    "scrolled": true
   },
   "outputs": [
    {
     "name": "stdout",
     "output_type": "stream",
     "text": [
      "20/20 [==============================] - 0s 2ms/step - loss: 0.5518 - acc: 0.7853\n",
      "Test Loss: 0.551768958568573\n",
      "Test Acc: 0.7852563858032227\n"
     ]
    }
   ],
   "source": [
    "test_loss, test_acc = model_3.evaluate(X_test_final, y_test_final)\n",
    "print(f'Test Loss: {test_loss}')\n",
    "print(f'Test Acc: {test_acc}')"
   ]
  },
  {
   "cell_type": "markdown",
   "metadata": {},
   "source": [
    "#### Loss and Accuracy Curves ####"
   ]
  },
  {
   "cell_type": "code",
   "execution_count": 45,
   "metadata": {},
   "outputs": [
    {
     "data": {
      "image/png": "[encoded data removed]",
      "text/plain": [
       "<Figure size 432x288 with 1 Axes>"
      ]
     },
     "metadata": {
      "needs_background": "light"
     },
     "output_type": "display_data"
    },
    {
     "data": {
      "image/png": "[encoded data removed]",
      "text/plain": [
       "<Figure size 432x288 with 1 Axes>"
      ]
     },
     "metadata": {
      "needs_background": "light"
     },
     "output_type": "display_data"
    }
   ],
   "source": [
    "visualize_training_results(results_3)"
   ]
  },
  {
   "cell_type": "markdown",
   "metadata": {},
   "source": [
    "### Model with Dropout Regularization ###"
   ]
  },
  {
   "cell_type": "code",
   "execution_count": 46,
   "metadata": {},
   "outputs": [],
   "source": [
    "model_4 = Sequential()\n",
    "model_4.add(Dense(50, activation = 'relu', input_shape = (12288,)))\n",
    "\n",
    "model_4.add(layers.Dropout(0.3))\n",
    "model_4.add(Dense(35, activation = 'relu'))\n",
    "\n",
    "model_4.add(layers.Dropout(0.3))\n",
    "model_4.add(Dense(25, activation = 'relu'))\n",
    "\n",
    "model_4.add(layers.Dropout(0.3))\n",
    "model_4.add(Dense(15, activation = 'relu'))\n",
    "\n",
    "model_4.add(layers.Dropout(0.3))\n",
    "model_4.add(Dense(1, activation = 'sigmoid'))\n",
    "\n",
    "model_4.compile(loss = 'binary_crossentropy', optimizer = 'sgd', metrics = ['acc'])"
   ]
  },
  {
   "cell_type": "code",
   "execution_count": 47,
   "metadata": {
    "scrolled": true
   },
   "outputs": [
    {
     "name": "stdout",
     "output_type": "stream",
     "text": [
      "Model: \"sequential_3\"\n",
      "_________________________________________________________________\n",
      "Layer (type)                 Output Shape              Param #   \n",
      "=================================================================\n",
      "dense_12 (Dense)             (None, 50)                614450    \n",
      "_________________________________________________________________\n",
      "dropout (Dropout)            (None, 50)                0         \n",
      "_________________________________________________________________\n",
      "dense_13 (Dense)             (None, 35)                1785      \n",
      "_________________________________________________________________\n",
      "dropout_1 (Dropout)          (None, 35)                0         \n",
      "_________________________________________________________________\n",
      "dense_14 (Dense)             (None, 25)                900       \n",
      "_________________________________________________________________\n",
      "dropout_2 (Dropout)          (None, 25)                0         \n",
      "_________________________________________________________________\n",
      "dense_15 (Dense)             (None, 15)                390       \n",
      "_________________________________________________________________\n",
      "dropout_3 (Dropout)          (None, 15)                0         \n",
      "_________________________________________________________________\n",
      "dense_16 (Dense)             (None, 1)                 16        \n",
      "=================================================================\n",
      "Total params: 617,541\n",
      "Trainable params: 617,541\n",
      "Non-trainable params: 0\n",
      "_________________________________________________________________\n"
     ]
    }
   ],
   "source": [
    "model_4.summary()"
   ]
  },
  {
   "cell_type": "code",
   "execution_count": 48,
   "metadata": {
    "scrolled": true
   },
   "outputs": [
    {
     "name": "stdout",
     "output_type": "stream",
     "text": [
      "Epoch 1/10\n",
      "105/105 [==============================] - 1s 8ms/step - loss: 0.6113 - acc: 0.6894 - val_loss: 0.6370 - val_acc: 0.6250\n",
      "Epoch 2/10\n",
      "105/105 [==============================] - 1s 7ms/step - loss: 0.5029 - acc: 0.7379 - val_loss: 0.5251 - val_acc: 0.6250\n",
      "Epoch 3/10\n",
      "105/105 [==============================] - 1s 7ms/step - loss: 0.4433 - acc: 0.7462 - val_loss: 0.8650 - val_acc: 0.6250\n",
      "Epoch 4/10\n",
      "105/105 [==============================] - 1s 6ms/step - loss: 0.4148 - acc: 0.7527 - val_loss: 0.8326 - val_acc: 0.6250\n",
      "Epoch 5/10\n",
      "105/105 [==============================] - 1s 6ms/step - loss: 0.3764 - acc: 0.7678 - val_loss: 0.5955 - val_acc: 0.6474\n",
      "Epoch 6/10\n",
      "105/105 [==============================] - 1s 6ms/step - loss: 0.3651 - acc: 0.8037 - val_loss: 0.8151 - val_acc: 0.6250\n",
      "Epoch 7/10\n",
      "105/105 [==============================] - 1s 7ms/step - loss: 0.3850 - acc: 0.8033 - val_loss: 0.7706 - val_acc: 0.7035\n",
      "Epoch 8/10\n",
      "105/105 [==============================] - 1s 6ms/step - loss: 0.3602 - acc: 0.8294 - val_loss: 0.5160 - val_acc: 0.6490\n",
      "Epoch 9/10\n",
      "105/105 [==============================] - 1s 5ms/step - loss: 0.3458 - acc: 0.8566 - val_loss: 0.5098 - val_acc: 0.8205\n",
      "Epoch 10/10\n",
      "105/105 [==============================] - 1s 5ms/step - loss: 0.3238 - acc: 0.8679 - val_loss: 0.7275 - val_acc: 0.7676\n"
     ]
    }
   ],
   "source": [
    "results_4 = model_4.fit(X_train_final, y_train_final, epochs = 10, batch_size = 50, validation_data= (X_test_final, y_test_final))"
   ]
  },
  {
   "cell_type": "code",
   "execution_count": 49,
   "metadata": {},
   "outputs": [
    {
     "name": "stdout",
     "output_type": "stream",
     "text": [
      "163/163 [==============================] - 0s 2ms/step - loss: 0.2205 - acc: 0.9450\n",
      "Train Loss: 0.22049549221992493\n",
      "Train Acc: 0.9449769854545593\n"
     ]
    }
   ],
   "source": [
    "train_loss, train_acc = model_4.evaluate(X_train_final, y_train_final)\n",
    "print(f'Train Loss: {train_loss}')\n",
    "print(f'Train Acc: {train_acc}')"
   ]
  },
  {
   "cell_type": "code",
   "execution_count": 50,
   "metadata": {},
   "outputs": [
    {
     "name": "stdout",
     "output_type": "stream",
     "text": [
      "20/20 [==============================] - 0s 2ms/step - loss: 0.7275 - acc: 0.7676\n",
      "Test Loss: 0.7275002002716064\n",
      "Test Acc: 0.7676281929016113\n"
     ]
    }
   ],
   "source": [
    "test_loss, test_acc = model_4.evaluate(X_test_final, y_test_final)\n",
    "print(f'Test Loss: {test_loss}')\n",
    "print(f'Test Acc: {test_acc}')"
   ]
  },
  {
   "cell_type": "code",
   "execution_count": 51,
   "metadata": {},
   "outputs": [
    {
     "data": {
      "image/png": "[encoded data removed]",
      "text/plain": [
       "<Figure size 432x288 with 1 Axes>"
      ]
     },
     "metadata": {
      "needs_background": "light"
     },
     "output_type": "display_data"
    },
    {
     "data": {
      "image/png": "[encoded data removed]",
      "text/plain": [
       "<Figure size 432x288 with 1 Axes>"
      ]
     },
     "metadata": {
      "needs_background": "light"
     },
     "output_type": "display_data"
    }
   ],
   "source": [
    "visualize_training_results(results_4)"
   ]
  },
  {
   "cell_type": "markdown",
   "metadata": {},
   "source": [
    "### Let's Try a Different Approach and Build a CNN ###"
   ]
  },
  {
   "cell_type": "code",
   "execution_count": 52,
   "metadata": {},
   "outputs": [
    {
     "name": "stdout",
     "output_type": "stream",
     "text": [
      "Found 5216 images belonging to 2 classes.\n",
      "Found 5216 images belonging to 2 classes.\n",
      "Found 16 images belonging to 2 classes.\n"
     ]
    }
   ],
   "source": [
    "# get all the data in the train directory \n",
    "train_generator = ImageDataGenerator(rescale=1./255).flow_from_directory(\n",
    "        train_data_dir, \n",
    "        target_size=(64, 64), \n",
    "        batch_size = 5216, \n",
    "        class_mode='binary')\n",
    "\n",
    "# get all the data in the test directory\n",
    "test_generator = ImageDataGenerator(rescale=1./255).flow_from_directory(\n",
    "        train_data_dir, \n",
    "        target_size=(64, 64), \n",
    "        batch_size = 624,\n",
    "        class_mode='binary') \n",
    "\n",
    "\n",
    "# get all the data in the val directory \n",
    "val_generator = ImageDataGenerator(rescale=1./255).flow_from_directory(\n",
    "        valid_data_dir, \n",
    "        target_size=(64, 64),\n",
    "        batch_size = 16,\n",
    "        class_mode='binary')\n",
    "\n"
   ]
  },
  {
   "cell_type": "code",
   "execution_count": 53,
   "metadata": {},
   "outputs": [],
   "source": [
    "X_train, y_train = next(train_generator)\n",
    "X_test, y_test = next(test_generator)\n",
    "X_val, y_val = next(val_generator)"
   ]
  },
  {
   "cell_type": "code",
   "execution_count": 54,
   "metadata": {},
   "outputs": [],
   "source": [
    "model = models.Sequential()\n",
    "model.add(layers.Conv2D(32, (3, 3), activation='relu',\n",
    "                        input_shape=(64 ,64,  3)))\n",
    "\n",
    "model.add(layers.MaxPooling2D((2, 2)))\n",
    "\n",
    "model.add(layers.Conv2D(32, (4, 4), activation='relu'))\n",
    "model.add(layers.MaxPooling2D((2, 2)))\n",
    "\n",
    "model.add(layers.Conv2D(64, (3, 3), activation='relu'))\n",
    "model.add(layers.MaxPooling2D((2, 2)))\n",
    "\n",
    "model.add(layers.Flatten())\n",
    "\n",
    "model.add(layers.Dense(64, activation='relu'))\n",
    "model.add(layers.Dense(1, activation='sigmoid'))\n",
    "\n",
    "model.compile(loss='binary_crossentropy',\n",
    "              optimizer=\"sgd\",\n",
    "              metrics=['acc'])"
   ]
  },
  {
   "cell_type": "code",
   "execution_count": 55,
   "metadata": {},
   "outputs": [
    {
     "name": "stdout",
     "output_type": "stream",
     "text": [
      "Epoch 1/20\n",
      "163/163 [==============================] - 15s 94ms/step - loss: 0.5793 - acc: 0.7429 - val_loss: 0.8499 - val_acc: 0.5000\n",
      "Epoch 2/20\n",
      "163/163 [==============================] - 15s 93ms/step - loss: 0.5541 - acc: 0.7429 - val_loss: 0.8868 - val_acc: 0.5000\n",
      "Epoch 3/20\n",
      "163/163 [==============================] - 15s 94ms/step - loss: 0.4978 - acc: 0.7600 - val_loss: 0.6859 - val_acc: 0.5625\n",
      "Epoch 4/20\n",
      "163/163 [==============================] - 15s 93ms/step - loss: 0.3971 - acc: 0.8213 - val_loss: 0.7631 - val_acc: 0.6250\n",
      "Epoch 5/20\n",
      "163/163 [==============================] - 15s 93ms/step - loss: 0.2944 - acc: 0.8781 - val_loss: 0.5212 - val_acc: 0.7500\n",
      "Epoch 6/20\n",
      "163/163 [==============================] - 15s 93ms/step - loss: 0.2322 - acc: 0.9086 - val_loss: 0.7361 - val_acc: 0.6875\n",
      "Epoch 7/20\n",
      "163/163 [==============================] - 16s 95ms/step - loss: 0.1933 - acc: 0.9214 - val_loss: 0.4073 - val_acc: 0.8750\n",
      "Epoch 8/20\n",
      "163/163 [==============================] - 15s 94ms/step - loss: 0.1706 - acc: 0.9321 - val_loss: 0.8439 - val_acc: 0.5625\n",
      "Epoch 9/20\n",
      "163/163 [==============================] - 16s 96ms/step - loss: 0.1492 - acc: 0.9419 - val_loss: 0.4464 - val_acc: 0.7500\n",
      "Epoch 10/20\n",
      "163/163 [==============================] - 16s 95ms/step - loss: 0.1383 - acc: 0.9486 - val_loss: 0.3284 - val_acc: 0.8750\n",
      "Epoch 11/20\n",
      "163/163 [==============================] - 16s 96ms/step - loss: 0.1319 - acc: 0.9456 - val_loss: 0.4429 - val_acc: 0.8125\n",
      "Epoch 12/20\n",
      "163/163 [==============================] - 16s 96ms/step - loss: 0.1219 - acc: 0.9530 - val_loss: 0.3833 - val_acc: 0.8125\n",
      "Epoch 13/20\n",
      "163/163 [==============================] - 15s 95ms/step - loss: 0.1176 - acc: 0.9571 - val_loss: 0.2796 - val_acc: 0.8750\n",
      "Epoch 14/20\n",
      "163/163 [==============================] - 16s 96ms/step - loss: 0.1115 - acc: 0.9584 - val_loss: 0.3190 - val_acc: 0.8125\n",
      "Epoch 15/20\n",
      "163/163 [==============================] - 16s 96ms/step - loss: 0.1099 - acc: 0.9590 - val_loss: 0.3072 - val_acc: 0.8750\n",
      "Epoch 16/20\n",
      "163/163 [==============================] - 16s 96ms/step - loss: 0.1084 - acc: 0.9601 - val_loss: 0.7787 - val_acc: 0.6250\n",
      "Epoch 17/20\n",
      "163/163 [==============================] - 16s 96ms/step - loss: 0.1055 - acc: 0.9601 - val_loss: 0.3483 - val_acc: 0.8750\n",
      "Epoch 18/20\n",
      "163/163 [==============================] - 16s 96ms/step - loss: 0.0980 - acc: 0.9632 - val_loss: 0.2189 - val_acc: 0.9375\n",
      "Epoch 19/20\n",
      "163/163 [==============================] - 16s 96ms/step - loss: 0.0949 - acc: 0.9651 - val_loss: 0.1989 - val_acc: 0.9375\n",
      "Epoch 20/20\n",
      "163/163 [==============================] - 15s 93ms/step - loss: 0.0915 - acc: 0.9643 - val_loss: 0.3738 - val_acc: 0.6875\n"
     ]
    }
   ],
   "source": [
    "history = model.fit(X_train, y_train,\n",
    "                    epochs=20,\n",
    "                    batch_size=32,\n",
    "                    validation_data=(X_val, y_val))"
   ]
  },
  {
   "cell_type": "code",
   "execution_count": 56,
   "metadata": {},
   "outputs": [
    {
     "name": "stdout",
     "output_type": "stream",
     "text": [
      "163/163 [==============================] - 3s 18ms/step - loss: 0.0820 - acc: 0.9691\n",
      "Train Loss: 0.08203842490911484\n",
      "Train Acc: 0.9691334366798401\n"
     ]
    }
   ],
   "source": [
    "train_loss, train_acc = model.evaluate(X_train, y_train)\n",
    "print(f'Train Loss: {train_loss}')\n",
    "print(f'Train Acc: {train_acc}')"
   ]
  },
  {
   "cell_type": "code",
   "execution_count": 57,
   "metadata": {},
   "outputs": [
    {
     "name": "stdout",
     "output_type": "stream",
     "text": [
      "20/20 [==============================] - 0s 18ms/step - loss: 0.0756 - acc: 0.9679\n",
      "Test Loss: 0.07561397552490234\n",
      "Test Acc: 0.9679487347602844\n"
     ]
    }
   ],
   "source": [
    "test_loss, test_acc = model.evaluate(X_test, y_test)\n",
    "print(f'Test Loss: {test_loss}')\n",
    "print(f'Test Acc: {test_acc}')"
   ]
  },
  {
   "cell_type": "code",
   "execution_count": 58,
   "metadata": {},
   "outputs": [
    {
     "data": {
      "image/png": "[encoded data removed]",
      "text/plain": [
       "<Figure size 432x288 with 1 Axes>"
      ]
     },
     "metadata": {
      "needs_background": "light"
     },
     "output_type": "display_data"
    },
    {
     "data": {
      "image/png": "[encoded data removed]",
      "text/plain": [
       "<Figure size 432x288 with 1 Axes>"
      ]
     },
     "metadata": {
      "needs_background": "light"
     },
     "output_type": "display_data"
    }
   ],
   "source": [
    "visualize_training_results(history)"
   ]
  },
  {
   "cell_type": "markdown",
   "metadata": {},
   "source": [
    "#### Let's add dropout regularization ####"
   ]
  },
  {
   "cell_type": "code",
   "execution_count": 59,
   "metadata": {},
   "outputs": [],
   "source": [
    "model2 = models.Sequential()\n",
    "model2.add(layers.Conv2D(32, (3, 3), activation='relu',\n",
    "                        input_shape=(64 ,64,  3)))\n",
    "\n",
    "model2.add(layers.MaxPooling2D((2, 2)))\n",
    "\n",
    "\n",
    "model2.add(Dropout(0.4))\n",
    "model2.add(layers.Conv2D(32, (4, 4), activation='relu'))\n",
    "model2.add(layers.MaxPooling2D((2, 2)))\n",
    "\n",
    "model2.add(Dropout(0.4))\n",
    "model2.add(layers.Conv2D(64, (3, 3), activation='relu'))\n",
    "model2.add(layers.MaxPooling2D((2, 2)))\n",
    "\n",
    "\n",
    "model2.add(layers.Flatten())\n",
    "model2.add(layers.Dense(64, activation='relu'))\n",
    "model2.add(Dropout(0.2))\n",
    "model2.add(layers.Dense(1, activation='sigmoid'))\n",
    "\n",
    "model2.compile(loss='binary_crossentropy',\n",
    "              optimizer=\"sgd\",\n",
    "              metrics=['acc'])"
   ]
  },
  {
   "cell_type": "code",
   "execution_count": 60,
   "metadata": {},
   "outputs": [
    {
     "name": "stdout",
     "output_type": "stream",
     "text": [
      "Epoch 1/20\n",
      "163/163 [==============================] - 17s 104ms/step - loss: 0.5691 - acc: 0.7418 - val_loss: 0.7037 - val_acc: 0.5000\n",
      "Epoch 2/20\n",
      "163/163 [==============================] - 17s 102ms/step - loss: 0.5180 - acc: 0.7540 - val_loss: 0.7304 - val_acc: 0.5000\n",
      "Epoch 3/20\n",
      "163/163 [==============================] - 17s 103ms/step - loss: 0.4403 - acc: 0.7954 - val_loss: 0.6323 - val_acc: 0.6250\n",
      "Epoch 4/20\n",
      "163/163 [==============================] - 17s 103ms/step - loss: 0.3723 - acc: 0.8363 - val_loss: 0.6693 - val_acc: 0.6250\n",
      "Epoch 5/20\n",
      "163/163 [==============================] - 17s 104ms/step - loss: 0.3171 - acc: 0.8633 - val_loss: 0.5492 - val_acc: 0.7500\n",
      "Epoch 6/20\n",
      "163/163 [==============================] - 17s 103ms/step - loss: 0.2899 - acc: 0.8790 - val_loss: 0.5678 - val_acc: 0.6875\n",
      "Epoch 7/20\n",
      "163/163 [==============================] - 17s 103ms/step - loss: 0.2608 - acc: 0.8924 - val_loss: 0.5241 - val_acc: 0.8125\n",
      "Epoch 8/20\n",
      "163/163 [==============================] - 17s 103ms/step - loss: 0.2505 - acc: 0.8944 - val_loss: 0.5480 - val_acc: 0.6875\n",
      "Epoch 9/20\n",
      "163/163 [==============================] - 17s 104ms/step - loss: 0.2297 - acc: 0.9062 - val_loss: 0.5265 - val_acc: 0.7500\n",
      "Epoch 10/20\n",
      "163/163 [==============================] - 17s 103ms/step - loss: 0.2158 - acc: 0.9156 - val_loss: 0.5167 - val_acc: 0.7500\n",
      "Epoch 11/20\n",
      "163/163 [==============================] - 17s 104ms/step - loss: 0.2110 - acc: 0.9135 - val_loss: 0.5054 - val_acc: 0.7500\n",
      "Epoch 12/20\n",
      "163/163 [==============================] - 17s 106ms/step - loss: 0.2027 - acc: 0.9208 - val_loss: 0.5027 - val_acc: 0.8125\n",
      "Epoch 13/20\n",
      "163/163 [==============================] - 17s 105ms/step - loss: 0.1955 - acc: 0.9227 - val_loss: 0.5258 - val_acc: 0.7500\n",
      "Epoch 14/20\n",
      "163/163 [==============================] - 17s 105ms/step - loss: 0.1966 - acc: 0.9220 - val_loss: 0.5166 - val_acc: 0.8125\n",
      "Epoch 15/20\n",
      "163/163 [==============================] - 17s 105ms/step - loss: 0.1850 - acc: 0.9273 - val_loss: 0.5241 - val_acc: 0.8125\n",
      "Epoch 16/20\n",
      "163/163 [==============================] - 17s 104ms/step - loss: 0.1912 - acc: 0.9264 - val_loss: 0.5242 - val_acc: 0.8125\n",
      "Epoch 17/20\n",
      "163/163 [==============================] - 17s 105ms/step - loss: 0.1833 - acc: 0.9298 - val_loss: 0.5281 - val_acc: 0.7500\n",
      "Epoch 18/20\n",
      "163/163 [==============================] - 17s 106ms/step - loss: 0.1795 - acc: 0.9306 - val_loss: 0.5354 - val_acc: 0.8125\n",
      "Epoch 19/20\n",
      "163/163 [==============================] - 17s 105ms/step - loss: 0.1727 - acc: 0.9354 - val_loss: 0.5202 - val_acc: 0.8125\n",
      "Epoch 20/20\n",
      "163/163 [==============================] - 18s 107ms/step - loss: 0.1703 - acc: 0.9314 - val_loss: 0.5360 - val_acc: 0.8125\n"
     ]
    }
   ],
   "source": [
    "history = model2.fit(X_train, y_train,\n",
    "                    epochs=20,\n",
    "                    batch_size=32,\n",
    "                    validation_data=(X_val, y_val))"
   ]
  },
  {
   "cell_type": "code",
   "execution_count": 61,
   "metadata": {},
   "outputs": [
    {
     "name": "stdout",
     "output_type": "stream",
     "text": [
      "163/163 [==============================] - 3s 19ms/step - loss: 0.2182 - acc: 0.9289\n",
      "Train Loss: 0.21820880472660065\n",
      "Train Acc: 0.9288727045059204\n"
     ]
    }
   ],
   "source": [
    "train_loss, train_acc = model2.evaluate(X_train, y_train)\n",
    "print(f'Train Loss: {train_loss}')\n",
    "print(f'Train Acc: {train_acc}')"
   ]
  },
  {
   "cell_type": "code",
   "execution_count": 62,
   "metadata": {},
   "outputs": [
    {
     "name": "stdout",
     "output_type": "stream",
     "text": [
      "20/20 [==============================] - 0s 16ms/step - loss: 0.2046 - acc: 0.9471\n",
      "Test Loss: 0.20464099943637848\n",
      "Test Acc: 0.9471153616905212\n"
     ]
    }
   ],
   "source": [
    "test_loss, test_acc = model2.evaluate(X_test, y_test)\n",
    "print(f'Test Loss: {test_loss}')\n",
    "print(f'Test Acc: {test_acc}')"
   ]
  },
  {
   "cell_type": "code",
   "execution_count": 63,
   "metadata": {},
   "outputs": [
    {
     "data": {
      "image/png": "[encoded data removed]",
      "text/plain": [
       "<Figure size 432x288 with 1 Axes>"
      ]
     },
     "metadata": {
      "needs_background": "light"
     },
     "output_type": "display_data"
    },
    {
     "data": {
      "image/png": "[encoded data removed]",
      "text/plain": [
       "<Figure size 432x288 with 1 Axes>"
      ]
     },
     "metadata": {
      "needs_background": "light"
     },
     "output_type": "display_data"
    }
   ],
   "source": [
    "visualize_training_results(history)"
   ]
  },
  {
   "cell_type": "markdown",
   "metadata": {},
   "source": [
    "#### Let's decrease the number of epochs to 10 ####"
   ]
  },
  {
   "cell_type": "code",
   "execution_count": 64,
   "metadata": {},
   "outputs": [],
   "source": [
    "model3 = models.Sequential()\n",
    "model3.add(layers.Conv2D(32, (3, 3), activation='relu',\n",
    "                        input_shape=(64 ,64,  3)))\n",
    "\n",
    "model3.add(layers.MaxPooling2D((2, 2)))\n",
    "\n",
    "\n",
    "model3.add(Dropout(0.4))\n",
    "model3.add(layers.Conv2D(32, (4, 4), activation='relu'))\n",
    "model3.add(layers.MaxPooling2D((2, 2)))\n",
    "\n",
    "model3.add(Dropout(0.4))\n",
    "model3.add(layers.Conv2D(64, (3, 3), activation='relu'))\n",
    "model3.add(layers.MaxPooling2D((2, 2)))\n",
    "\n",
    "\n",
    "model3.add(layers.Flatten())\n",
    "model3.add(layers.Dense(64, activation='relu'))\n",
    "model3.add(Dropout(0.2))\n",
    "model3.add(layers.Dense(1, activation='sigmoid'))\n",
    "\n",
    "model3.compile(loss='binary_crossentropy',\n",
    "              optimizer=\"sgd\",\n",
    "              metrics=['acc'])"
   ]
  },
  {
   "cell_type": "code",
   "execution_count": 65,
   "metadata": {},
   "outputs": [
    {
     "name": "stdout",
     "output_type": "stream",
     "text": [
      "Epoch 1/10\n",
      "163/163 [==============================] - 17s 105ms/step - loss: 0.5774 - acc: 0.7383 - val_loss: 0.7158 - val_acc: 0.5000\n",
      "Epoch 2/10\n",
      "163/163 [==============================] - 17s 107ms/step - loss: 0.5277 - acc: 0.7542 - val_loss: 0.7424 - val_acc: 0.5000\n",
      "Epoch 3/10\n",
      "163/163 [==============================] - 17s 104ms/step - loss: 0.4598 - acc: 0.7901 - val_loss: 0.6369 - val_acc: 0.5625\n",
      "Epoch 4/10\n",
      "163/163 [==============================] - 17s 104ms/step - loss: 0.3935 - acc: 0.8248 - val_loss: 0.6637 - val_acc: 0.6250\n",
      "Epoch 5/10\n",
      "163/163 [==============================] - 20s 123ms/step - loss: 0.3389 - acc: 0.8514 - val_loss: 0.5663 - val_acc: 0.7500\n",
      "Epoch 6/10\n",
      "163/163 [==============================] - 19s 116ms/step - loss: 0.3009 - acc: 0.8719 - val_loss: 0.5880 - val_acc: 0.6250\n",
      "Epoch 7/10\n",
      "163/163 [==============================] - 18s 113ms/step - loss: 0.2720 - acc: 0.8854 - val_loss: 0.5278 - val_acc: 0.8125\n",
      "Epoch 8/10\n",
      "163/163 [==============================] - 17s 104ms/step - loss: 0.2532 - acc: 0.8915 - val_loss: 0.6305 - val_acc: 0.5000\n",
      "Epoch 9/10\n",
      "163/163 [==============================] - 17s 103ms/step - loss: 0.2331 - acc: 0.9016 - val_loss: 0.5511 - val_acc: 0.6875\n",
      "Epoch 10/10\n",
      "163/163 [==============================] - 17s 104ms/step - loss: 0.2209 - acc: 0.9164 - val_loss: 0.5109 - val_acc: 0.7500\n"
     ]
    }
   ],
   "source": [
    "history = model3.fit(X_train, y_train,\n",
    "                    epochs=10,\n",
    "                    batch_size=32,\n",
    "                    validation_data=(X_val, y_val))"
   ]
  },
  {
   "cell_type": "code",
   "execution_count": 66,
   "metadata": {},
   "outputs": [
    {
     "name": "stdout",
     "output_type": "stream",
     "text": [
      "163/163 [==============================] - 3s 19ms/step - loss: 0.2699 - acc: 0.9076\n",
      "Train Loss: 0.2699143588542938\n",
      "Train Acc: 0.9075919985771179\n"
     ]
    }
   ],
   "source": [
    "train_loss, train_acc = model3.evaluate(X_train, y_train)\n",
    "print(f'Train Loss: {train_loss}')\n",
    "print(f'Train Acc: {train_acc}')"
   ]
  },
  {
   "cell_type": "code",
   "execution_count": 67,
   "metadata": {},
   "outputs": [
    {
     "name": "stdout",
     "output_type": "stream",
     "text": [
      "20/20 [==============================] - 0s 21ms/step - loss: 0.2624 - acc: 0.9231\n",
      "Test Loss: 0.26235175132751465\n",
      "Test Acc: 0.9230769276618958\n"
     ]
    }
   ],
   "source": [
    "test_loss, test_acc = model3.evaluate(X_test, y_test)\n",
    "print(f'Test Loss: {test_loss}')\n",
    "print(f'Test Acc: {test_acc}')"
   ]
  },
  {
   "cell_type": "code",
   "execution_count": 68,
   "metadata": {},
   "outputs": [
    {
     "data": {
      "image/png": "[encoded data removed]",
      "text/plain": [
       "<Figure size 432x288 with 1 Axes>"
      ]
     },
     "metadata": {
      "needs_background": "light"
     },
     "output_type": "display_data"
    },
    {
     "data": {
      "image/png": "[encoded data removed]",
      "text/plain": [
       "<Figure size 432x288 with 1 Axes>"
      ]
     },
     "metadata": {
      "needs_background": "light"
     },
     "output_type": "display_data"
    }
   ],
   "source": [
    "visualize_training_results(history)"
   ]
  },
  {
   "cell_type": "code",
   "execution_count": null,
   "metadata": {},
   "outputs": [],
   "source": []
  }
 ],
 "metadata": {
  "kernelspec": {
   "display_name": "Python 3",
   "language": "python",
   "name": "python3"
  },
  "language_info": {
   "codemirror_mode": {
    "name": "ipython",
    "version": 3
   },
   "file_extension": ".py",
   "mimetype": "text/x-python",
   "name": "python",
   "nbconvert_exporter": "python",
   "pygments_lexer": "ipython3",
   "version": "3.8.5"
  }
 },
 "nbformat": 4,
 "nbformat_minor": 4
}
