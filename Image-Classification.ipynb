{
 "cells": [
  {
   "cell_type": "code",
   "execution_count": null,
   "metadata": {},
   "outputs": [],
   "source": []
  },
  {
   "cell_type": "code",
   "execution_count": 1,
   "metadata": {},
   "outputs": [],
   "source": [
    "from keras.preprocessing.image import ImageDataGenerator\n",
    "from keras_preprocessing.image import img_to_array, img_to_array, load_img\n",
    "from keras.models import Sequential\n",
    "from keras.layers import Dense\n",
    "import numpy as np\n",
    "import matplotlib.pyplot as plt\n",
    "import os"
   ]
  },
  {
   "cell_type": "code",
   "execution_count": 2,
   "metadata": {},
   "outputs": [],
   "source": [
    "#Create our directory paths to our images\n",
    "train_data_dir = 'data/train'\n",
    "test_data_dir = 'data/test'\n",
    "valid_data_dir = 'data/validation'"
   ]
  },
  {
   "cell_type": "code",
   "execution_count": 3,
   "metadata": {},
   "outputs": [],
   "source": [
    "#Let's plot the number of images in each classification directory\n",
    "\n",
    "def bar_plot(dir):\n",
    "  x=len(os.listdir(dir+'/NORMAL'))\n",
    "  y=len(os.listdir(dir+'/PNEUMONIA'))\n",
    "  category = ['NORMAL', 'PNEUMONIA']\n",
    "  count = [x, y]\n",
    "  plot = plt.bar(category,count) \n",
    "  plot[0].set_color('orange')\n",
    "  plt.title('Number of values for each category')\n",
    "  plt.show()"
   ]
  },
  {
   "cell_type": "code",
   "execution_count": 4,
   "metadata": {},
   "outputs": [
    {
     "name": "stdout",
     "output_type": "stream",
     "text": [
      "Training images:\n",
      "\n",
      "NORMAL: 1341\n",
      "PNEUMONIA: 3875\n",
      "Total Training images: 5216\n",
      "*************************************************\n"
     ]
    },
    {
     "data": {
      "image/png": "[encoded data removed]",
      "text/plain": [
       "<Figure size 432x288 with 1 Axes>"
      ]
     },
     "metadata": {
      "needs_background": "light"
     },
     "output_type": "display_data"
    }
   ],
   "source": [
    "#Number of training images\n",
    "print('Training images:\\n')\n",
    "print('NORMAL:', len(os.listdir(train_data_dir+'/NORMAL')))\n",
    "print('PNEUMONIA:', len(os.listdir(train_data_dir+'/PNEUMONIA')))\n",
    "print('Total Training images:', len(os.listdir(train_data_dir+'/NORMAL')) + len(os.listdir(train_data_dir+'/PNEUMONIA')))\n",
    "print('*'*49)\n",
    "bar_plot(train_data_dir)"
   ]
  },
  {
   "cell_type": "code",
   "execution_count": 5,
   "metadata": {},
   "outputs": [
    {
     "name": "stdout",
     "output_type": "stream",
     "text": [
      "Test images:\n",
      "\n",
      "NORMAL: 234\n",
      "PNEUMONIA: 390\n",
      "Total Test images: 624\n",
      "*************************************************\n"
     ]
    },
    {
     "data": {
      "image/png": "[encoded data removed]",
      "text/plain": [
       "<Figure size 432x288 with 1 Axes>"
      ]
     },
     "metadata": {
      "needs_background": "light"
     },
     "output_type": "display_data"
    }
   ],
   "source": [
    "#Number of test images\n",
    "print('Test images:\\n')\n",
    "print('NORMAL:', len(os.listdir(test_data_dir+'/NORMAL')))\n",
    "print('PNEUMONIA:', len(os.listdir(test_data_dir+'/PNEUMONIA')))\n",
    "print('Total Test images:', len(os.listdir(test_data_dir+'/NORMAL')) + len(os.listdir(test_data_dir+'/PNEUMONIA')))\n",
    "print('*'*49)\n",
    "bar_plot(test_data_dir)"
   ]
  },
  {
   "cell_type": "code",
   "execution_count": 6,
   "metadata": {},
   "outputs": [
    {
     "name": "stdout",
     "output_type": "stream",
     "text": [
      "Validation images:\n",
      "\n",
      "NORMAL: 8\n",
      "PNEUMONIA: 8\n",
      "Total Validation images: 16\n",
      "***********************************************\n"
     ]
    },
    {
     "data": {
      "image/png": "[encoded data removed]",
      "text/plain": [
       "<Figure size 432x288 with 1 Axes>"
      ]
     },
     "metadata": {
      "needs_background": "light"
     },
     "output_type": "display_data"
    }
   ],
   "source": [
    "#Number of validation images\n",
    "print('Validation images:\\n')\n",
    "print('NORMAL:', len(os.listdir(valid_data_dir+'/NORMAL')))\n",
    "print('PNEUMONIA:', len(os.listdir(valid_data_dir+'/PNEUMONIA')))\n",
    "print('Total Validation images:', len(os.listdir(valid_data_dir+'/NORMAL')) + len(os.listdir(valid_data_dir+'/PNEUMONIA')))\n",
    "print('*'*47)\n",
    "bar_plot(valid_data_dir)\n"
   ]
  },
  {
   "cell_type": "code",
   "execution_count": 7,
   "metadata": {},
   "outputs": [
    {
     "name": "stdout",
     "output_type": "stream",
     "text": [
      "Found 5216 images belonging to 2 classes.\n"
     ]
    }
   ],
   "source": [
    "# Get all the data in the directory data/train and reshape them\n",
    "\n",
    "train_generator = ImageDataGenerator().flow_from_directory(\n",
    "        train_data_dir, \n",
    "        target_size=(64, 64), \n",
    "        batch_size=5216)"
   ]
  },
  {
   "cell_type": "code",
   "execution_count": 8,
   "metadata": {},
   "outputs": [
    {
     "name": "stdout",
     "output_type": "stream",
     "text": [
      "Found 624 images belonging to 2 classes.\n"
     ]
    }
   ],
   "source": [
    "# Get all the data in the directory data/test and reshape them\n",
    "\n",
    "test_generator = ImageDataGenerator().flow_from_directory(\n",
    "        test_data_dir, \n",
    "        target_size=(64, 64), \n",
    "        batch_size=626)"
   ]
  },
  {
   "cell_type": "code",
   "execution_count": 9,
   "metadata": {},
   "outputs": [
    {
     "name": "stdout",
     "output_type": "stream",
     "text": [
      "Found 16 images belonging to 2 classes.\n"
     ]
    }
   ],
   "source": [
    "# Get all the data in the directory data/validation and reshape them\n",
    "\n",
    "val_generator = ImageDataGenerator().flow_from_directory(\n",
    "    valid_data_dir, \n",
    "    target_size=(64, 64), \n",
    "    batch_size=16)"
   ]
  },
  {
   "cell_type": "code",
   "execution_count": 10,
   "metadata": {},
   "outputs": [],
   "source": [
    "#Create our different data sets\n",
    "\n",
    "#Training set\n",
    "X_train, y_train = next(train_generator)\n",
    "\n",
    "#Test set\n",
    "X_test, y_test = next(test_generator)\n",
    "\n",
    "#Validation set\n",
    "X_val, y_val = next(val_generator)"
   ]
  },
  {
   "cell_type": "code",
   "execution_count": 11,
   "metadata": {},
   "outputs": [
    {
     "name": "stdout",
     "output_type": "stream",
     "text": [
      "(5216, 64, 64, 3)\n",
      "(5216, 2)\n",
      "(624, 64, 64, 3)\n",
      "(624, 2)\n"
     ]
    }
   ],
   "source": [
    "#Let's look at the shape of our data\n",
    "\n",
    "print(X_train.shape)\n",
    "print(y_train.shape)\n",
    "print(X_test.shape)\n",
    "print(y_test.shape)"
   ]
  },
  {
   "cell_type": "markdown",
   "metadata": {},
   "source": [
    "#### Let's reshape our data ####"
   ]
  },
  {
   "cell_type": "code",
   "execution_count": 12,
   "metadata": {},
   "outputs": [
    {
     "data": {
      "text/plain": [
       "array([[[[ 50.,  50.,  50.],\n",
       "         [ 61.,  61.,  61.],\n",
       "         [ 62.,  62.,  62.],\n",
       "         ...,\n",
       "         [ 52.,  52.,  52.],\n",
       "         [ 44.,  44.,  44.],\n",
       "         [  9.,   9.,   9.]],\n",
       "\n",
       "        [[ 62.,  62.,  62.],\n",
       "         [ 65.,  65.,  65.],\n",
       "         [ 64.,  64.,  64.],\n",
       "         ...,\n",
       "         [ 55.,  55.,  55.],\n",
       "         [ 45.,  45.,  45.],\n",
       "         [ 33.,  33.,  33.]],\n",
       "\n",
       "        [[ 67.,  67.,  67.],\n",
       "         [ 72.,  72.,  72.],\n",
       "         [ 74.,  74.,  74.],\n",
       "         ...,\n",
       "         [ 56.,  56.,  56.],\n",
       "         [ 54.,  54.,  54.],\n",
       "         [ 31.,  31.,  31.]],\n",
       "\n",
       "        ...,\n",
       "\n",
       "        [[ 24.,  24.,  24.],\n",
       "         [ 17.,  17.,  17.],\n",
       "         [ 49.,  49.,  49.],\n",
       "         ...,\n",
       "         [ 29.,  29.,  29.],\n",
       "         [ 31.,  31.,  31.],\n",
       "         [ 33.,  33.,  33.]],\n",
       "\n",
       "        [[ 24.,  24.,  24.],\n",
       "         [ 17.,  17.,  17.],\n",
       "         [ 51.,  51.,  51.],\n",
       "         ...,\n",
       "         [ 28.,  28.,  28.],\n",
       "         [ 31.,  31.,  31.],\n",
       "         [ 31.,  31.,  31.]],\n",
       "\n",
       "        [[ 24.,  24.,  24.],\n",
       "         [ 18.,  18.,  18.],\n",
       "         [ 49.,  49.,  49.],\n",
       "         ...,\n",
       "         [ 28.,  28.,  28.],\n",
       "         [ 29.,  29.,  29.],\n",
       "         [ 32.,  32.,  32.]]],\n",
       "\n",
       "\n",
       "       [[[  0.,   0.,   0.],\n",
       "         [  0.,   0.,   0.],\n",
       "         [  0.,   0.,   0.],\n",
       "         ...,\n",
       "         [  2.,   2.,   2.],\n",
       "         [  7.,   7.,   7.],\n",
       "         [  2.,   2.,   2.]],\n",
       "\n",
       "        [[  0.,   0.,   0.],\n",
       "         [  0.,   0.,   0.],\n",
       "         [  0.,   0.,   0.],\n",
       "         ...,\n",
       "         [  0.,   0.,   0.],\n",
       "         [ 13.,  13.,  13.],\n",
       "         [  3.,   3.,   3.]],\n",
       "\n",
       "        [[  0.,   0.,   0.],\n",
       "         [  0.,   0.,   0.],\n",
       "         [  0.,   0.,   0.],\n",
       "         ...,\n",
       "         [248., 248., 248.],\n",
       "         [  0.,   0.,   0.],\n",
       "         [  0.,   0.,   0.]],\n",
       "\n",
       "        ...,\n",
       "\n",
       "        [[  5.,   5.,   5.],\n",
       "         [ 12.,  12.,  12.],\n",
       "         [ 14.,  14.,  14.],\n",
       "         ...,\n",
       "         [  0.,   0.,   0.],\n",
       "         [  0.,   0.,   0.],\n",
       "         [  0.,   0.,   0.]],\n",
       "\n",
       "        [[  3.,   3.,   3.],\n",
       "         [  9.,   9.,   9.],\n",
       "         [ 14.,  14.,  14.],\n",
       "         ...,\n",
       "         [  0.,   0.,   0.],\n",
       "         [  0.,   0.,   0.],\n",
       "         [  0.,   0.,   0.]],\n",
       "\n",
       "        [[255., 255., 255.],\n",
       "         [  0.,   0.,   0.],\n",
       "         [  5.,   5.,   5.],\n",
       "         ...,\n",
       "         [  0.,   0.,   0.],\n",
       "         [  0.,   0.,   0.],\n",
       "         [  0.,   0.,   0.]]],\n",
       "\n",
       "\n",
       "       [[[  1.,   1.,   1.],\n",
       "         [  4.,   4.,   4.],\n",
       "         [ 11.,  11.,  11.],\n",
       "         ...,\n",
       "         [  0.,   0.,   0.],\n",
       "         [  0.,   0.,   0.],\n",
       "         [  0.,   0.,   0.]],\n",
       "\n",
       "        [[  1.,   1.,   1.],\n",
       "         [  3.,   3.,   3.],\n",
       "         [ 10.,  10.,  10.],\n",
       "         ...,\n",
       "         [  0.,   0.,   0.],\n",
       "         [  0.,   0.,   0.],\n",
       "         [  0.,   0.,   0.]],\n",
       "\n",
       "        [[  0.,   0.,   0.],\n",
       "         [  2.,   2.,   2.],\n",
       "         [ 13.,  13.,  13.],\n",
       "         ...,\n",
       "         [  0.,   0.,   0.],\n",
       "         [  0.,   0.,   0.],\n",
       "         [  0.,   0.,   0.]],\n",
       "\n",
       "        ...,\n",
       "\n",
       "        [[  0.,   0.,   0.],\n",
       "         [  0.,   0.,   0.],\n",
       "         [  0.,   0.,   0.],\n",
       "         ...,\n",
       "         [  0.,   0.,   0.],\n",
       "         [  0.,   0.,   0.],\n",
       "         [  0.,   0.,   0.]],\n",
       "\n",
       "        [[  0.,   0.,   0.],\n",
       "         [  0.,   0.,   0.],\n",
       "         [  0.,   0.,   0.],\n",
       "         ...,\n",
       "         [  0.,   0.,   0.],\n",
       "         [  0.,   0.,   0.],\n",
       "         [  0.,   0.,   0.]],\n",
       "\n",
       "        [[  0.,   0.,   0.],\n",
       "         [  0.,   0.,   0.],\n",
       "         [  0.,   0.,   0.],\n",
       "         ...,\n",
       "         [  0.,   0.,   0.],\n",
       "         [  0.,   0.,   0.],\n",
       "         [  0.,   0.,   0.]]],\n",
       "\n",
       "\n",
       "       ...,\n",
       "\n",
       "\n",
       "       [[[ 25.,  25.,  25.],\n",
       "         [ 37.,  37.,  37.],\n",
       "         [ 38.,  38.,  38.],\n",
       "         ...,\n",
       "         [121., 121., 121.],\n",
       "         [112., 112., 112.],\n",
       "         [ 64.,  64.,  64.]],\n",
       "\n",
       "        [[ 22.,  22.,  22.],\n",
       "         [ 20.,  20.,  20.],\n",
       "         [ 18.,  18.,  18.],\n",
       "         ...,\n",
       "         [162., 162., 162.],\n",
       "         [154., 154., 154.],\n",
       "         [131., 131., 131.]],\n",
       "\n",
       "        [[ 17.,  17.,  17.],\n",
       "         [ 16.,  16.,  16.],\n",
       "         [ 14.,  14.,  14.],\n",
       "         ...,\n",
       "         [166., 166., 166.],\n",
       "         [174., 174., 174.],\n",
       "         [162., 162., 162.]],\n",
       "\n",
       "        ...,\n",
       "\n",
       "        [[228., 228., 228.],\n",
       "         [184., 184., 184.],\n",
       "         [176., 176., 176.],\n",
       "         ...,\n",
       "         [167., 167., 167.],\n",
       "         [ 58.,  58.,  58.],\n",
       "         [  0.,   0.,   0.]],\n",
       "\n",
       "        [[231., 231., 231.],\n",
       "         [182., 182., 182.],\n",
       "         [168., 168., 168.],\n",
       "         ...,\n",
       "         [165., 165., 165.],\n",
       "         [ 72.,  72.,  72.],\n",
       "         [  0.,   0.,   0.]],\n",
       "\n",
       "        [[226., 226., 226.],\n",
       "         [181., 181., 181.],\n",
       "         [167., 167., 167.],\n",
       "         ...,\n",
       "         [170., 170., 170.],\n",
       "         [ 69.,  69.,  69.],\n",
       "         [  0.,   0.,   0.]]],\n",
       "\n",
       "\n",
       "       [[[ 27.,  27.,  27.],\n",
       "         [ 27.,  27.,  27.],\n",
       "         [ 27.,  27.,  27.],\n",
       "         ...,\n",
       "         [177., 177., 177.],\n",
       "         [182., 182., 182.],\n",
       "         [186., 186., 186.]],\n",
       "\n",
       "        [[ 47.,  47.,  47.],\n",
       "         [ 48.,  48.,  48.],\n",
       "         [ 38.,  38.,  38.],\n",
       "         ...,\n",
       "         [165., 165., 165.],\n",
       "         [162., 162., 162.],\n",
       "         [159., 159., 159.]],\n",
       "\n",
       "        [[ 62.,  62.,  62.],\n",
       "         [ 34.,  34.,  34.],\n",
       "         [ 39.,  39.,  39.],\n",
       "         ...,\n",
       "         [143., 143., 143.],\n",
       "         [142., 142., 142.],\n",
       "         [154., 154., 154.]],\n",
       "\n",
       "        ...,\n",
       "\n",
       "        [[ 24.,  24.,  24.],\n",
       "         [ 22.,  22.,  22.],\n",
       "         [ 55.,  55.,  55.],\n",
       "         ...,\n",
       "         [ 23.,  23.,  23.],\n",
       "         [ 25.,  25.,  25.],\n",
       "         [ 27.,  27.,  27.]],\n",
       "\n",
       "        [[ 25.,  25.,  25.],\n",
       "         [ 23.,  23.,  23.],\n",
       "         [ 55.,  55.,  55.],\n",
       "         ...,\n",
       "         [ 23.,  23.,  23.],\n",
       "         [ 25.,  25.,  25.],\n",
       "         [ 26.,  26.,  26.]],\n",
       "\n",
       "        [[ 25.,  25.,  25.],\n",
       "         [ 23.,  23.,  23.],\n",
       "         [ 58.,  58.,  58.],\n",
       "         ...,\n",
       "         [ 23.,  23.,  23.],\n",
       "         [ 25.,  25.,  25.],\n",
       "         [ 27.,  27.,  27.]]],\n",
       "\n",
       "\n",
       "       [[[ 72.,  72.,  72.],\n",
       "         [ 72.,  72.,  72.],\n",
       "         [ 63.,  63.,  63.],\n",
       "         ...,\n",
       "         [ 16.,  16.,  16.],\n",
       "         [ 19.,  19.,  19.],\n",
       "         [ 24.,  24.,  24.]],\n",
       "\n",
       "        [[ 72.,  72.,  72.],\n",
       "         [ 75.,  75.,  75.],\n",
       "         [ 74.,  74.,  74.],\n",
       "         ...,\n",
       "         [ 10.,  10.,  10.],\n",
       "         [ 19.,  19.,  19.],\n",
       "         [ 19.,  19.,  19.]],\n",
       "\n",
       "        [[ 80.,  80.,  80.],\n",
       "         [ 73.,  73.,  73.],\n",
       "         [ 81.,  81.,  81.],\n",
       "         ...,\n",
       "         [ 15.,  15.,  15.],\n",
       "         [ 16.,  16.,  16.],\n",
       "         [ 21.,  21.,  21.]],\n",
       "\n",
       "        ...,\n",
       "\n",
       "        [[ 11.,  11.,  11.],\n",
       "         [  7.,   7.,   7.],\n",
       "         [  5.,   5.,   5.],\n",
       "         ...,\n",
       "         [ 14.,  14.,  14.],\n",
       "         [ 10.,  10.,  10.],\n",
       "         [ 13.,  13.,  13.]],\n",
       "\n",
       "        [[ 11.,  11.,  11.],\n",
       "         [ 11.,  11.,  11.],\n",
       "         [  3.,   3.,   3.],\n",
       "         ...,\n",
       "         [ 12.,  12.,  12.],\n",
       "         [ 12.,  12.,  12.],\n",
       "         [ 13.,  13.,  13.]],\n",
       "\n",
       "        [[ 10.,  10.,  10.],\n",
       "         [ 10.,  10.,  10.],\n",
       "         [  4.,   4.,   4.],\n",
       "         ...,\n",
       "         [  9.,   9.,   9.],\n",
       "         [ 12.,  12.,  12.],\n",
       "         [ 13.,  13.,  13.]]]], dtype=float32)"
      ]
     },
     "execution_count": 12,
     "metadata": {},
     "output_type": "execute_result"
    }
   ],
   "source": [
    "X_train"
   ]
  },
  {
   "cell_type": "code",
   "execution_count": 32,
   "metadata": {},
   "outputs": [
    {
     "data": {
      "text/plain": [
       "(12288, 5216)"
      ]
     },
     "execution_count": 32,
     "metadata": {},
     "output_type": "execute_result"
    }
   ],
   "source": [
    "X_train_unrow = X_train.reshape(5216, -1).T\n",
    "X_train_unrow.shape"
   ]
  },
  {
   "cell_type": "code",
   "execution_count": 14,
   "metadata": {},
   "outputs": [
    {
     "data": {
      "text/plain": [
       "array([[50., 50., 50., ..., 32., 32., 32.],\n",
       "       [ 0.,  0.,  0., ...,  0.,  0.,  0.],\n",
       "       [ 1.,  1.,  1., ...,  0.,  0.,  0.],\n",
       "       ...,\n",
       "       [25., 25., 25., ...,  0.,  0.,  0.],\n",
       "       [27., 27., 27., ..., 27., 27., 27.],\n",
       "       [72., 72., 72., ..., 13., 13., 13.]], dtype=float32)"
      ]
     },
     "execution_count": 14,
     "metadata": {},
     "output_type": "execute_result"
    }
   ],
   "source": [
    "X_train_unrow"
   ]
  },
  {
   "cell_type": "code",
   "execution_count": 15,
   "metadata": {},
   "outputs": [
    {
     "data": {
      "text/plain": [
       "array([[[[ 33.,  33.,  33.],\n",
       "         [176., 176., 176.],\n",
       "         [161., 161., 161.],\n",
       "         ...,\n",
       "         [224., 224., 224.],\n",
       "         [227., 227., 227.],\n",
       "         [229., 229., 229.]],\n",
       "\n",
       "        [[187., 187., 187.],\n",
       "         [ 33.,  33.,  33.],\n",
       "         [ 42.,  42.,  42.],\n",
       "         ...,\n",
       "         [221., 221., 221.],\n",
       "         [226., 226., 226.],\n",
       "         [228., 228., 228.]],\n",
       "\n",
       "        [[ 34.,  34.,  34.],\n",
       "         [ 41.,  41.,  41.],\n",
       "         [ 41.,  41.,  41.],\n",
       "         ...,\n",
       "         [221., 221., 221.],\n",
       "         [226., 226., 226.],\n",
       "         [229., 229., 229.]],\n",
       "\n",
       "        ...,\n",
       "\n",
       "        [[ 26.,  26.,  26.],\n",
       "         [ 26.,  26.,  26.],\n",
       "         [ 24.,  24.,  24.],\n",
       "         ...,\n",
       "         [ 26.,  26.,  26.],\n",
       "         [ 26.,  26.,  26.],\n",
       "         [ 26.,  26.,  26.]],\n",
       "\n",
       "        [[ 28.,  28.,  28.],\n",
       "         [ 27.,  27.,  27.],\n",
       "         [ 24.,  24.,  24.],\n",
       "         ...,\n",
       "         [ 26.,  26.,  26.],\n",
       "         [ 26.,  26.,  26.],\n",
       "         [ 26.,  26.,  26.]],\n",
       "\n",
       "        [[ 27.,  27.,  27.],\n",
       "         [ 26.,  26.,  26.],\n",
       "         [ 23.,  23.,  23.],\n",
       "         ...,\n",
       "         [ 27.,  27.,  27.],\n",
       "         [ 27.,  27.,  27.],\n",
       "         [ 27.,  27.,  27.]]],\n",
       "\n",
       "\n",
       "       [[[ 72.,  72.,  72.],\n",
       "         [ 36.,  36.,  36.],\n",
       "         [ 39.,  39.,  39.],\n",
       "         ...,\n",
       "         [ 44.,  44.,  44.],\n",
       "         [ 45.,  45.,  45.],\n",
       "         [ 39.,  39.,  39.]],\n",
       "\n",
       "        [[ 67.,  67.,  67.],\n",
       "         [ 38.,  38.,  38.],\n",
       "         [ 43.,  43.,  43.],\n",
       "         ...,\n",
       "         [ 52.,  52.,  52.],\n",
       "         [ 48.,  48.,  48.],\n",
       "         [ 42.,  42.,  42.]],\n",
       "\n",
       "        [[ 64.,  64.,  64.],\n",
       "         [ 38.,  38.,  38.],\n",
       "         [ 51.,  51.,  51.],\n",
       "         ...,\n",
       "         [ 58.,  58.,  58.],\n",
       "         [ 55.,  55.,  55.],\n",
       "         [ 48.,  48.,  48.]],\n",
       "\n",
       "        ...,\n",
       "\n",
       "        [[  6.,   6.,   6.],\n",
       "         [ 44.,  44.,  44.],\n",
       "         [ 61.,  61.,  61.],\n",
       "         ...,\n",
       "         [  9.,   9.,   9.],\n",
       "         [ 14.,  14.,  14.],\n",
       "         [ 14.,  14.,  14.]],\n",
       "\n",
       "        [[  6.,   6.,   6.],\n",
       "         [ 45.,  45.,  45.],\n",
       "         [ 66.,  66.,  66.],\n",
       "         ...,\n",
       "         [  9.,   9.,   9.],\n",
       "         [ 12.,  12.,  12.],\n",
       "         [ 14.,  14.,  14.]],\n",
       "\n",
       "        [[  5.,   5.,   5.],\n",
       "         [ 43.,  43.,  43.],\n",
       "         [ 66.,  66.,  66.],\n",
       "         ...,\n",
       "         [  9.,   9.,   9.],\n",
       "         [ 14.,  14.,  14.],\n",
       "         [ 15.,  15.,  15.]]],\n",
       "\n",
       "\n",
       "       [[[  0.,   0.,   0.],\n",
       "         [  0.,   0.,   0.],\n",
       "         [ 17.,  17.,  17.],\n",
       "         ...,\n",
       "         [ 40.,  40.,  40.],\n",
       "         [ 31.,  31.,  31.],\n",
       "         [ 30.,  30.,  30.]],\n",
       "\n",
       "        [[  0.,   0.,   0.],\n",
       "         [  0.,   0.,   0.],\n",
       "         [  0.,   0.,   0.],\n",
       "         ...,\n",
       "         [ 41.,  41.,  41.],\n",
       "         [ 35.,  35.,  35.],\n",
       "         [ 28.,  28.,  28.]],\n",
       "\n",
       "        [[  0.,   0.,   0.],\n",
       "         [  0.,   0.,   0.],\n",
       "         [  0.,   0.,   0.],\n",
       "         ...,\n",
       "         [ 42.,  42.,  42.],\n",
       "         [ 34.,  34.,  34.],\n",
       "         [ 19.,  19.,  19.]],\n",
       "\n",
       "        ...,\n",
       "\n",
       "        [[  0.,   0.,   0.],\n",
       "         [  0.,   0.,   0.],\n",
       "         [  0.,   0.,   0.],\n",
       "         ...,\n",
       "         [  0.,   0.,   0.],\n",
       "         [  0.,   0.,   0.],\n",
       "         [  0.,   0.,   0.]],\n",
       "\n",
       "        [[  0.,   0.,   0.],\n",
       "         [  0.,   0.,   0.],\n",
       "         [  0.,   0.,   0.],\n",
       "         ...,\n",
       "         [  0.,   0.,   0.],\n",
       "         [  0.,   0.,   0.],\n",
       "         [  0.,   0.,   0.]],\n",
       "\n",
       "        [[  0.,   0.,   0.],\n",
       "         [  0.,   0.,   0.],\n",
       "         [  0.,   0.,   0.],\n",
       "         ...,\n",
       "         [  0.,   0.,   0.],\n",
       "         [  0.,   0.,   0.],\n",
       "         [  0.,   0.,   0.]]],\n",
       "\n",
       "\n",
       "       ...,\n",
       "\n",
       "\n",
       "       [[[137., 137., 137.],\n",
       "         [134., 134., 134.],\n",
       "         [136., 136., 136.],\n",
       "         ...,\n",
       "         [127., 127., 127.],\n",
       "         [134., 134., 134.],\n",
       "         [131., 131., 131.]],\n",
       "\n",
       "        [[134., 134., 134.],\n",
       "         [147., 147., 147.],\n",
       "         [138., 138., 138.],\n",
       "         ...,\n",
       "         [161., 161., 161.],\n",
       "         [137., 137., 137.],\n",
       "         [255., 255., 255.]],\n",
       "\n",
       "        [[140., 140., 140.],\n",
       "         [168., 168., 168.],\n",
       "         [148., 148., 148.],\n",
       "         ...,\n",
       "         [ 74.,  74.,  74.],\n",
       "         [240., 240., 240.],\n",
       "         [255., 255., 255.]],\n",
       "\n",
       "        ...,\n",
       "\n",
       "        [[  0.,   0.,   0.],\n",
       "         [  0.,   0.,   0.],\n",
       "         [  0.,   0.,   0.],\n",
       "         ...,\n",
       "         [  0.,   0.,   0.],\n",
       "         [255., 255., 255.],\n",
       "         [255., 255., 255.]],\n",
       "\n",
       "        [[  0.,   0.,   0.],\n",
       "         [  0.,   0.,   0.],\n",
       "         [  0.,   0.,   0.],\n",
       "         ...,\n",
       "         [250., 250., 250.],\n",
       "         [  0.,   0.,   0.],\n",
       "         [253., 253., 253.]],\n",
       "\n",
       "        [[  0.,   0.,   0.],\n",
       "         [  0.,   0.,   0.],\n",
       "         [  0.,   0.,   0.],\n",
       "         ...,\n",
       "         [  0.,   0.,   0.],\n",
       "         [  0.,   0.,   0.],\n",
       "         [  0.,   0.,   0.]]],\n",
       "\n",
       "\n",
       "       [[[ 33.,  33.,  33.],\n",
       "         [ 30.,  30.,  30.],\n",
       "         [ 27.,  27.,  27.],\n",
       "         ...,\n",
       "         [ 36.,  36.,  36.],\n",
       "         [ 39.,  39.,  39.],\n",
       "         [ 36.,  36.,  36.]],\n",
       "\n",
       "        [[ 32.,  32.,  32.],\n",
       "         [ 30.,  30.,  30.],\n",
       "         [ 25.,  25.,  25.],\n",
       "         ...,\n",
       "         [ 35.,  35.,  35.],\n",
       "         [ 39.,  39.,  39.],\n",
       "         [ 35.,  35.,  35.]],\n",
       "\n",
       "        [[ 24.,  24.,  24.],\n",
       "         [ 45.,  45.,  45.],\n",
       "         [ 56.,  56.,  56.],\n",
       "         ...,\n",
       "         [ 31.,  31.,  31.],\n",
       "         [ 35.,  35.,  35.],\n",
       "         [ 34.,  34.,  34.]],\n",
       "\n",
       "        ...,\n",
       "\n",
       "        [[ 32.,  32.,  32.],\n",
       "         [ 30.,  30.,  30.],\n",
       "         [ 31.,  31.,  31.],\n",
       "         ...,\n",
       "         [ 44.,  44.,  44.],\n",
       "         [ 37.,  37.,  37.],\n",
       "         [ 41.,  41.,  41.]],\n",
       "\n",
       "        [[ 31.,  31.,  31.],\n",
       "         [ 32.,  32.,  32.],\n",
       "         [ 31.,  31.,  31.],\n",
       "         ...,\n",
       "         [ 38.,  38.,  38.],\n",
       "         [ 40.,  40.,  40.],\n",
       "         [ 47.,  47.,  47.]],\n",
       "\n",
       "        [[ 27.,  27.,  27.],\n",
       "         [ 31.,  31.,  31.],\n",
       "         [ 30.,  30.,  30.],\n",
       "         ...,\n",
       "         [ 39.,  39.,  39.],\n",
       "         [ 38.,  38.,  38.],\n",
       "         [ 40.,  40.,  40.]]],\n",
       "\n",
       "\n",
       "       [[[100., 100., 100.],\n",
       "         [167., 167., 167.],\n",
       "         [ 42.,  42.,  42.],\n",
       "         ...,\n",
       "         [ 52.,  52.,  52.],\n",
       "         [ 53.,  53.,  53.],\n",
       "         [162., 162., 162.]],\n",
       "\n",
       "        [[ 20.,  20.,  20.],\n",
       "         [ 27.,  27.,  27.],\n",
       "         [ 47.,  47.,  47.],\n",
       "         ...,\n",
       "         [ 45.,  45.,  45.],\n",
       "         [ 61.,  61.,  61.],\n",
       "         [ 50.,  50.,  50.]],\n",
       "\n",
       "        [[ 41.,  41.,  41.],\n",
       "         [ 36.,  36.,  36.],\n",
       "         [ 53.,  53.,  53.],\n",
       "         ...,\n",
       "         [ 40.,  40.,  40.],\n",
       "         [ 43.,  43.,  43.],\n",
       "         [ 61.,  61.,  61.]],\n",
       "\n",
       "        ...,\n",
       "\n",
       "        [[ 22.,  22.,  22.],\n",
       "         [ 22.,  22.,  22.],\n",
       "         [ 18.,  18.,  18.],\n",
       "         ...,\n",
       "         [ 17.,  17.,  17.],\n",
       "         [ 18.,  18.,  18.],\n",
       "         [ 19.,  19.,  19.]],\n",
       "\n",
       "        [[ 22.,  22.,  22.],\n",
       "         [ 20.,  20.,  20.],\n",
       "         [ 17.,  17.,  17.],\n",
       "         ...,\n",
       "         [ 18.,  18.,  18.],\n",
       "         [ 19.,  19.,  19.],\n",
       "         [ 18.,  18.,  18.]],\n",
       "\n",
       "        [[ 23.,  23.,  23.],\n",
       "         [ 21.,  21.,  21.],\n",
       "         [ 17.,  17.,  17.],\n",
       "         ...,\n",
       "         [ 17.,  17.,  17.],\n",
       "         [ 19.,  19.,  19.],\n",
       "         [ 18.,  18.,  18.]]]], dtype=float32)"
      ]
     },
     "execution_count": 15,
     "metadata": {},
     "output_type": "execute_result"
    }
   ],
   "source": [
    "X_test"
   ]
  },
  {
   "cell_type": "code",
   "execution_count": 33,
   "metadata": {
    "scrolled": true
   },
   "outputs": [
    {
     "data": {
      "text/plain": [
       "(12288, 624)"
      ]
     },
     "execution_count": 33,
     "metadata": {},
     "output_type": "execute_result"
    }
   ],
   "source": [
    "X_test_unrow = X_test.reshape(624, -1).T\n",
    "X_test_unrow.shape"
   ]
  },
  {
   "cell_type": "code",
   "execution_count": 17,
   "metadata": {},
   "outputs": [],
   "source": [
    "#X_test_unrow"
   ]
  },
  {
   "cell_type": "code",
   "execution_count": 18,
   "metadata": {},
   "outputs": [
    {
     "data": {
      "text/plain": [
       "array([[0., 1.],\n",
       "       [0., 1.],\n",
       "       [0., 1.],\n",
       "       ...,\n",
       "       [0., 1.],\n",
       "       [0., 1.],\n",
       "       [1., 0.]], dtype=float32)"
      ]
     },
     "execution_count": 18,
     "metadata": {},
     "output_type": "execute_result"
    }
   ],
   "source": [
    "#Taking a look at our y_train data\n",
    "y_train"
   ]
  },
  {
   "cell_type": "code",
   "execution_count": 19,
   "metadata": {},
   "outputs": [
    {
     "data": {
      "text/plain": [
       "{'normal': 0, 'pneumonia': 1}"
      ]
     },
     "execution_count": 19,
     "metadata": {},
     "output_type": "execute_result"
    }
   ],
   "source": [
    "#Let's take a look at which index represents what class\n",
    "train_generator.class_indices"
   ]
  },
  {
   "cell_type": "code",
   "execution_count": 20,
   "metadata": {},
   "outputs": [],
   "source": [
    "y_train_final = y_train.T[[1]]\n",
    "#y_train_final[:20]"
   ]
  },
  {
   "cell_type": "code",
   "execution_count": 21,
   "metadata": {},
   "outputs": [
    {
     "data": {
      "text/plain": [
       "(1, 5216)"
      ]
     },
     "execution_count": 21,
     "metadata": {},
     "output_type": "execute_result"
    }
   ],
   "source": [
    "y_train_final.shape"
   ]
  },
  {
   "cell_type": "code",
   "execution_count": 22,
   "metadata": {},
   "outputs": [],
   "source": [
    "#Let's take a look at our y_test data\n",
    "#y_test"
   ]
  },
  {
   "cell_type": "code",
   "execution_count": 23,
   "metadata": {},
   "outputs": [],
   "source": [
    "y_test_final = y_test.T[[1]]\n",
    "#y_test_final[:20]"
   ]
  },
  {
   "cell_type": "code",
   "execution_count": 24,
   "metadata": {},
   "outputs": [
    {
     "data": {
      "text/plain": [
       "(1, 624)"
      ]
     },
     "execution_count": 24,
     "metadata": {},
     "output_type": "execute_result"
    }
   ],
   "source": [
    "y_test_final.shape"
   ]
  },
  {
   "cell_type": "markdown",
   "metadata": {},
   "source": [
    "#### Let's take a look at a pneumonia image vs a normal image ####"
   ]
  },
  {
   "cell_type": "code",
   "execution_count": 25,
   "metadata": {},
   "outputs": [],
   "source": [
    "#plt.imshow(X_train_unrow[0])\n",
    "#plt.axis('off')\n",
    "#plt.title('Normal X-Ray')\n",
    "#plt.show()"
   ]
  },
  {
   "cell_type": "code",
   "execution_count": 26,
   "metadata": {},
   "outputs": [],
   "source": [
    "#Lastly let's normalize our data\n",
    "X_train_final = X_train_unrow / 255\n",
    "X_test_final = X_test_unrow / 255\n"
   ]
  },
  {
   "cell_type": "code",
   "execution_count": 34,
   "metadata": {},
   "outputs": [
    {
     "name": "stdout",
     "output_type": "stream",
     "text": [
      "(5216, 12288)\n",
      "(624, 12288)\n",
      "(1, 5216)\n",
      "(1, 624)\n",
      "(16, 64, 64, 3)\n",
      "(16, 2)\n"
     ]
    }
   ],
   "source": [
    "print(X_train_final.shape)\n",
    "print(X_test_final.shape)\n",
    "print(y_train_final.shape)\n",
    "print(y_test_final.shape)\n",
    "print(X_val.shape)\n",
    "print(y_val.shape)"
   ]
  },
  {
   "cell_type": "markdown",
   "metadata": {},
   "source": [
    "### Building Our Model ###"
   ]
  },
  {
   "cell_type": "code",
   "execution_count": 28,
   "metadata": {},
   "outputs": [],
   "source": [
    "model_1 = Sequential()\n",
    "model_1.add(Dense(50, activation = 'tanh', input_shape = (12288,)))\n",
    "model_1.add(Dense(25, activation = 'softmax'))"
   ]
  },
  {
   "cell_type": "code",
   "execution_count": 29,
   "metadata": {},
   "outputs": [],
   "source": [
    "model_1.compile(loss = 'categorical_crossentropy', optimizer = 'sgd', metrics = ['acc'])"
   ]
  },
  {
   "cell_type": "code",
   "execution_count": 30,
   "metadata": {},
   "outputs": [
    {
     "name": "stdout",
     "output_type": "stream",
     "text": [
      "Model: \"sequential\"\n",
      "_________________________________________________________________\n",
      "Layer (type)                 Output Shape              Param #   \n",
      "=================================================================\n",
      "dense (Dense)                (None, 50)                614450    \n",
      "_________________________________________________________________\n",
      "dense_1 (Dense)              (None, 25)                1275      \n",
      "=================================================================\n",
      "Total params: 615,725\n",
      "Trainable params: 615,725\n",
      "Non-trainable params: 0\n",
      "_________________________________________________________________\n"
     ]
    }
   ],
   "source": [
    "model_1.summary()"
   ]
  },
  {
   "cell_type": "code",
   "execution_count": 35,
   "metadata": {
    "scrolled": false
   },
   "outputs": [
    {
     "ename": "ValueError",
     "evalue": "Data cardinality is ambiguous:\n  x sizes: 5216\n  y sizes: 1\nPlease provide data which shares the same first dimension.",
     "output_type": "error",
     "traceback": [
      "\u001b[1;31m---------------------------------------------------------------------------\u001b[0m",
      "\u001b[1;31mValueError\u001b[0m                                Traceback (most recent call last)",
      "\u001b[1;32m<ipython-input-35-8289239c0162>\u001b[0m in \u001b[0;36m<module>\u001b[1;34m\u001b[0m\n\u001b[1;32m----> 1\u001b[1;33m \u001b[0mresults_1\u001b[0m \u001b[1;33m=\u001b[0m \u001b[0mmodel_1\u001b[0m\u001b[1;33m.\u001b[0m\u001b[0mfit\u001b[0m\u001b[1;33m(\u001b[0m\u001b[0mX_train_final\u001b[0m\u001b[1;33m,\u001b[0m \u001b[0my_train_final\u001b[0m\u001b[1;33m,\u001b[0m \u001b[0mepochs\u001b[0m \u001b[1;33m=\u001b[0m \u001b[1;36m5\u001b[0m\u001b[1;33m,\u001b[0m \u001b[0mbatch_size\u001b[0m \u001b[1;33m=\u001b[0m \u001b[1;36m50\u001b[0m\u001b[1;33m,\u001b[0m \u001b[0mvalidation_data\u001b[0m\u001b[1;33m=\u001b[0m \u001b[1;33m(\u001b[0m\u001b[0mX_val\u001b[0m\u001b[1;33m,\u001b[0m \u001b[0my_val\u001b[0m\u001b[1;33m)\u001b[0m\u001b[1;33m)\u001b[0m\u001b[1;33m\u001b[0m\u001b[1;33m\u001b[0m\u001b[0m\n\u001b[0m",
      "\u001b[1;32m~\\anaconda3\\envs\\learn-env\\lib\\site-packages\\tensorflow\\python\\keras\\engine\\training.py\u001b[0m in \u001b[0;36m_method_wrapper\u001b[1;34m(self, *args, **kwargs)\u001b[0m\n\u001b[0;32m    106\u001b[0m   \u001b[1;32mdef\u001b[0m \u001b[0m_method_wrapper\u001b[0m\u001b[1;33m(\u001b[0m\u001b[0mself\u001b[0m\u001b[1;33m,\u001b[0m \u001b[1;33m*\u001b[0m\u001b[0margs\u001b[0m\u001b[1;33m,\u001b[0m \u001b[1;33m**\u001b[0m\u001b[0mkwargs\u001b[0m\u001b[1;33m)\u001b[0m\u001b[1;33m:\u001b[0m\u001b[1;33m\u001b[0m\u001b[1;33m\u001b[0m\u001b[0m\n\u001b[0;32m    107\u001b[0m     \u001b[1;32mif\u001b[0m \u001b[1;32mnot\u001b[0m \u001b[0mself\u001b[0m\u001b[1;33m.\u001b[0m\u001b[0m_in_multi_worker_mode\u001b[0m\u001b[1;33m(\u001b[0m\u001b[1;33m)\u001b[0m\u001b[1;33m:\u001b[0m  \u001b[1;31m# pylint: disable=protected-access\u001b[0m\u001b[1;33m\u001b[0m\u001b[1;33m\u001b[0m\u001b[0m\n\u001b[1;32m--> 108\u001b[1;33m       \u001b[1;32mreturn\u001b[0m \u001b[0mmethod\u001b[0m\u001b[1;33m(\u001b[0m\u001b[0mself\u001b[0m\u001b[1;33m,\u001b[0m \u001b[1;33m*\u001b[0m\u001b[0margs\u001b[0m\u001b[1;33m,\u001b[0m \u001b[1;33m**\u001b[0m\u001b[0mkwargs\u001b[0m\u001b[1;33m)\u001b[0m\u001b[1;33m\u001b[0m\u001b[1;33m\u001b[0m\u001b[0m\n\u001b[0m\u001b[0;32m    109\u001b[0m \u001b[1;33m\u001b[0m\u001b[0m\n\u001b[0;32m    110\u001b[0m     \u001b[1;31m# Running inside `run_distribute_coordinator` already.\u001b[0m\u001b[1;33m\u001b[0m\u001b[1;33m\u001b[0m\u001b[1;33m\u001b[0m\u001b[0m\n",
      "\u001b[1;32m~\\anaconda3\\envs\\learn-env\\lib\\site-packages\\tensorflow\\python\\keras\\engine\\training.py\u001b[0m in \u001b[0;36mfit\u001b[1;34m(self, x, y, batch_size, epochs, verbose, callbacks, validation_split, validation_data, shuffle, class_weight, sample_weight, initial_epoch, steps_per_epoch, validation_steps, validation_batch_size, validation_freq, max_queue_size, workers, use_multiprocessing)\u001b[0m\n\u001b[0;32m   1047\u001b[0m          \u001b[0mtraining_utils\u001b[0m\u001b[1;33m.\u001b[0m\u001b[0mRespectCompiledTrainableState\u001b[0m\u001b[1;33m(\u001b[0m\u001b[0mself\u001b[0m\u001b[1;33m)\u001b[0m\u001b[1;33m:\u001b[0m\u001b[1;33m\u001b[0m\u001b[1;33m\u001b[0m\u001b[0m\n\u001b[0;32m   1048\u001b[0m       \u001b[1;31m# Creates a `tf.data.Dataset` and handles batch and epoch iteration.\u001b[0m\u001b[1;33m\u001b[0m\u001b[1;33m\u001b[0m\u001b[1;33m\u001b[0m\u001b[0m\n\u001b[1;32m-> 1049\u001b[1;33m       data_handler = data_adapter.DataHandler(\n\u001b[0m\u001b[0;32m   1050\u001b[0m           \u001b[0mx\u001b[0m\u001b[1;33m=\u001b[0m\u001b[0mx\u001b[0m\u001b[1;33m,\u001b[0m\u001b[1;33m\u001b[0m\u001b[1;33m\u001b[0m\u001b[0m\n\u001b[0;32m   1051\u001b[0m           \u001b[0my\u001b[0m\u001b[1;33m=\u001b[0m\u001b[0my\u001b[0m\u001b[1;33m,\u001b[0m\u001b[1;33m\u001b[0m\u001b[1;33m\u001b[0m\u001b[0m\n",
      "\u001b[1;32m~\\anaconda3\\envs\\learn-env\\lib\\site-packages\\tensorflow\\python\\keras\\engine\\data_adapter.py\u001b[0m in \u001b[0;36m__init__\u001b[1;34m(self, x, y, sample_weight, batch_size, steps_per_epoch, initial_epoch, epochs, shuffle, class_weight, max_queue_size, workers, use_multiprocessing, model, steps_per_execution)\u001b[0m\n\u001b[0;32m   1103\u001b[0m \u001b[1;33m\u001b[0m\u001b[0m\n\u001b[0;32m   1104\u001b[0m     \u001b[0madapter_cls\u001b[0m \u001b[1;33m=\u001b[0m \u001b[0mselect_data_adapter\u001b[0m\u001b[1;33m(\u001b[0m\u001b[0mx\u001b[0m\u001b[1;33m,\u001b[0m \u001b[0my\u001b[0m\u001b[1;33m)\u001b[0m\u001b[1;33m\u001b[0m\u001b[1;33m\u001b[0m\u001b[0m\n\u001b[1;32m-> 1105\u001b[1;33m     self._adapter = adapter_cls(\n\u001b[0m\u001b[0;32m   1106\u001b[0m         \u001b[0mx\u001b[0m\u001b[1;33m,\u001b[0m\u001b[1;33m\u001b[0m\u001b[1;33m\u001b[0m\u001b[0m\n\u001b[0;32m   1107\u001b[0m         \u001b[0my\u001b[0m\u001b[1;33m,\u001b[0m\u001b[1;33m\u001b[0m\u001b[1;33m\u001b[0m\u001b[0m\n",
      "\u001b[1;32m~\\anaconda3\\envs\\learn-env\\lib\\site-packages\\tensorflow\\python\\keras\\engine\\data_adapter.py\u001b[0m in \u001b[0;36m__init__\u001b[1;34m(self, x, y, sample_weights, sample_weight_modes, batch_size, epochs, steps, shuffle, **kwargs)\u001b[0m\n\u001b[0;32m    280\u001b[0m             label, \", \".join(str(i.shape[0]) for i in nest.flatten(data)))\n\u001b[0;32m    281\u001b[0m       \u001b[0mmsg\u001b[0m \u001b[1;33m+=\u001b[0m \u001b[1;34m\"Please provide data which shares the same first dimension.\"\u001b[0m\u001b[1;33m\u001b[0m\u001b[1;33m\u001b[0m\u001b[0m\n\u001b[1;32m--> 282\u001b[1;33m       \u001b[1;32mraise\u001b[0m \u001b[0mValueError\u001b[0m\u001b[1;33m(\u001b[0m\u001b[0mmsg\u001b[0m\u001b[1;33m)\u001b[0m\u001b[1;33m\u001b[0m\u001b[1;33m\u001b[0m\u001b[0m\n\u001b[0m\u001b[0;32m    283\u001b[0m     \u001b[0mnum_samples\u001b[0m \u001b[1;33m=\u001b[0m \u001b[0mnum_samples\u001b[0m\u001b[1;33m.\u001b[0m\u001b[0mpop\u001b[0m\u001b[1;33m(\u001b[0m\u001b[1;33m)\u001b[0m\u001b[1;33m\u001b[0m\u001b[1;33m\u001b[0m\u001b[0m\n\u001b[0;32m    284\u001b[0m \u001b[1;33m\u001b[0m\u001b[0m\n",
      "\u001b[1;31mValueError\u001b[0m: Data cardinality is ambiguous:\n  x sizes: 5216\n  y sizes: 1\nPlease provide data which shares the same first dimension."
     ]
    }
   ],
   "source": [
    "results_1 = model_1.fit(X_train_final, y_train_final, epochs = 5, batch_size = 50, validation_data= (X_val, y_val))"
   ]
  },
  {
   "cell_type": "code",
   "execution_count": null,
   "metadata": {},
   "outputs": [],
   "source": []
  }
 ],
 "metadata": {
  "kernelspec": {
   "display_name": "Python 3",
   "language": "python",
   "name": "python3"
  },
  "language_info": {
   "codemirror_mode": {
    "name": "ipython",
    "version": 3
   },
   "file_extension": ".py",
   "mimetype": "text/x-python",
   "name": "python",
   "nbconvert_exporter": "python",
   "pygments_lexer": "ipython3",
   "version": "3.8.5"
  }
 },
 "nbformat": 4,
 "nbformat_minor": 4
}
