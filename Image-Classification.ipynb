{
 "cells": [
  {
   "cell_type": "code",
   "execution_count": null,
   "metadata": {},
   "outputs": [],
   "source": []
  },
  {
   "cell_type": "code",
   "execution_count": 1,
   "metadata": {},
   "outputs": [],
   "source": [
    "from keras.preprocessing.image import ImageDataGenerator\n",
    "from keras_preprocessing.image import img_to_array, img_to_array, load_img\n",
    "from keras.models import Sequential\n",
    "from keras.layers import Dense\n",
    "import numpy as np\n",
    "import matplotlib.pyplot as plt\n",
    "import os"
   ]
  },
  {
   "cell_type": "code",
   "execution_count": 2,
   "metadata": {},
   "outputs": [],
   "source": [
    "#Create our directory paths to our images\n",
    "train_data_dir = 'data/train'\n",
    "test_data_dir = 'data/test'\n",
    "valid_data_dir = 'data/validation'"
   ]
  },
  {
   "cell_type": "code",
   "execution_count": 3,
   "metadata": {},
   "outputs": [],
   "source": [
    "#Let's plot the number of images in each classification directory\n",
    "\n",
    "def bar_plot(dir):\n",
    "  x=len(os.listdir(dir+'/NORMAL'))\n",
    "  y=len(os.listdir(dir+'/PNEUMONIA'))\n",
    "  category = ['NORMAL', 'PNEUMONIA']\n",
    "  count = [x, y]\n",
    "  plot = plt.bar(category,count) \n",
    "  plot[0].set_color('orange')\n",
    "  plt.title('Number of values for each category')\n",
    "  plt.show()"
   ]
  },
  {
   "cell_type": "code",
   "execution_count": 4,
   "metadata": {},
   "outputs": [
    {
     "name": "stdout",
     "output_type": "stream",
     "text": [
      "Training images:\n",
      "\n",
      "NORMAL: 1341\n",
      "PNEUMONIA: 3875\n",
      "Total Training images: 5216\n",
      "*************************************************\n"
     ]
    },
    {
     "data": {
      "image/png": "[encoded data removed]",
      "text/plain": [
       "<Figure size 432x288 with 1 Axes>"
      ]
     },
     "metadata": {
      "needs_background": "light"
     },
     "output_type": "display_data"
    }
   ],
   "source": [
    "#Number of training images\n",
    "print('Training images:\\n')\n",
    "print('NORMAL:', len(os.listdir(train_data_dir+'/NORMAL')))\n",
    "print('PNEUMONIA:', len(os.listdir(train_data_dir+'/PNEUMONIA')))\n",
    "print('Total Training images:', len(os.listdir(train_data_dir+'/NORMAL')) + len(os.listdir(train_data_dir+'/PNEUMONIA')))\n",
    "print('*'*49)\n",
    "bar_plot(train_data_dir)"
   ]
  },
  {
   "cell_type": "code",
   "execution_count": 5,
   "metadata": {},
   "outputs": [
    {
     "name": "stdout",
     "output_type": "stream",
     "text": [
      "Test images:\n",
      "\n",
      "NORMAL: 234\n",
      "PNEUMONIA: 390\n",
      "Total Test images: 624\n",
      "*************************************************\n"
     ]
    },
    {
     "data": {
      "image/png": "[encoded data removed]",
      "text/plain": [
       "<Figure size 432x288 with 1 Axes>"
      ]
     },
     "metadata": {
      "needs_background": "light"
     },
     "output_type": "display_data"
    }
   ],
   "source": [
    "#Number of test images\n",
    "print('Test images:\\n')\n",
    "print('NORMAL:', len(os.listdir(test_data_dir+'/NORMAL')))\n",
    "print('PNEUMONIA:', len(os.listdir(test_data_dir+'/PNEUMONIA')))\n",
    "print('Total Test images:', len(os.listdir(test_data_dir+'/NORMAL')) + len(os.listdir(test_data_dir+'/PNEUMONIA')))\n",
    "print('*'*49)\n",
    "bar_plot(test_data_dir)"
   ]
  },
  {
   "cell_type": "code",
   "execution_count": 6,
   "metadata": {},
   "outputs": [
    {
     "name": "stdout",
     "output_type": "stream",
     "text": [
      "Validation images:\n",
      "\n",
      "NORMAL: 8\n",
      "PNEUMONIA: 8\n",
      "Total Validation images: 16\n",
      "***********************************************\n"
     ]
    },
    {
     "data": {
      "image/png": "[encoded data removed]",
      "text/plain": [
       "<Figure size 432x288 with 1 Axes>"
      ]
     },
     "metadata": {
      "needs_background": "light"
     },
     "output_type": "display_data"
    }
   ],
   "source": [
    "#Number of validation images\n",
    "print('Validation images:\\n')\n",
    "print('NORMAL:', len(os.listdir(valid_data_dir+'/NORMAL')))\n",
    "print('PNEUMONIA:', len(os.listdir(valid_data_dir+'/PNEUMONIA')))\n",
    "print('Total Validation images:', len(os.listdir(valid_data_dir+'/NORMAL')) + len(os.listdir(valid_data_dir+'/PNEUMONIA')))\n",
    "print('*'*47)\n",
    "bar_plot(valid_data_dir)\n"
   ]
  },
  {
   "cell_type": "code",
   "execution_count": 7,
   "metadata": {},
   "outputs": [
    {
     "name": "stdout",
     "output_type": "stream",
     "text": [
      "Found 5216 images belonging to 2 classes.\n"
     ]
    }
   ],
   "source": [
    "# Get all the data in the directory data/train and reshape them\n",
    "\n",
    "train_generator = ImageDataGenerator().flow_from_directory(\n",
    "        train_data_dir, \n",
    "        target_size=(64, 64), \n",
    "        batch_size=5216)"
   ]
  },
  {
   "cell_type": "code",
   "execution_count": 8,
   "metadata": {},
   "outputs": [
    {
     "name": "stdout",
     "output_type": "stream",
     "text": [
      "Found 624 images belonging to 2 classes.\n"
     ]
    }
   ],
   "source": [
    "# Get all the data in the directory data/test and reshape them\n",
    "\n",
    "test_generator = ImageDataGenerator().flow_from_directory(\n",
    "        test_data_dir, \n",
    "        target_size=(64, 64), \n",
    "        batch_size=624)"
   ]
  },
  {
   "cell_type": "code",
   "execution_count": 9,
   "metadata": {},
   "outputs": [
    {
     "name": "stdout",
     "output_type": "stream",
     "text": [
      "Found 16 images belonging to 2 classes.\n"
     ]
    }
   ],
   "source": [
    "# Get all the data in the directory data/validation and reshape them\n",
    "\n",
    "val_generator = ImageDataGenerator().flow_from_directory(\n",
    "    valid_data_dir, \n",
    "    target_size=(64, 64), \n",
    "    batch_size=16)"
   ]
  },
  {
   "cell_type": "code",
   "execution_count": 10,
   "metadata": {},
   "outputs": [],
   "source": [
    "#Create our different data sets\n",
    "\n",
    "#Training set\n",
    "X_train, y_train = next(train_generator)\n",
    "\n",
    "#Test set\n",
    "X_test, y_test = next(test_generator)\n",
    "\n",
    "#Validation set\n",
    "X_val, y_val = next(val_generator)"
   ]
  },
  {
   "cell_type": "code",
   "execution_count": 11,
   "metadata": {},
   "outputs": [
    {
     "name": "stdout",
     "output_type": "stream",
     "text": [
      "(5216, 64, 64, 3)\n",
      "(5216, 2)\n",
      "(624, 64, 64, 3)\n",
      "(624, 2)\n"
     ]
    }
   ],
   "source": [
    "#Let's look at the shape of our data\n",
    "\n",
    "print(X_train.shape)\n",
    "print(y_train.shape)\n",
    "print(X_test.shape)\n",
    "print(y_test.shape)"
   ]
  },
  {
   "cell_type": "markdown",
   "metadata": {},
   "source": [
    "#### Let's reshape our data ####"
   ]
  },
  {
   "cell_type": "code",
   "execution_count": 12,
   "metadata": {
    "scrolled": true
   },
   "outputs": [
    {
     "data": {
      "text/plain": [
       "array([[[[ 29.,  29.,  29.],\n",
       "         [ 29.,  29.,  29.],\n",
       "         [ 30.,  30.,  30.],\n",
       "         ...,\n",
       "         [ 24.,  24.,  24.],\n",
       "         [102., 102., 102.],\n",
       "         [ 18.,  18.,  18.]],\n",
       "\n",
       "        [[192., 192., 192.],\n",
       "         [ 52.,  52.,  52.],\n",
       "         [ 45.,  45.,  45.],\n",
       "         ...,\n",
       "         [ 27.,  27.,  27.],\n",
       "         [ 45.,  45.,  45.],\n",
       "         [ 32.,  32.,  32.]],\n",
       "\n",
       "        [[193., 193., 193.],\n",
       "         [191., 191., 191.],\n",
       "         [ 28.,  28.,  28.],\n",
       "         ...,\n",
       "         [ 15.,  15.,  15.],\n",
       "         [176., 176., 176.],\n",
       "         [ 87.,  87.,  87.]],\n",
       "\n",
       "        ...,\n",
       "\n",
       "        [[ 38.,  38.,  38.],\n",
       "         [ 39.,  39.,  39.],\n",
       "         [ 37.,  37.,  37.],\n",
       "         ...,\n",
       "         [ 42.,  42.,  42.],\n",
       "         [ 42.,  42.,  42.],\n",
       "         [ 45.,  45.,  45.]],\n",
       "\n",
       "        [[ 38.,  38.,  38.],\n",
       "         [ 39.,  39.,  39.],\n",
       "         [ 38.,  38.,  38.],\n",
       "         ...,\n",
       "         [ 42.,  42.,  42.],\n",
       "         [ 43.,  43.,  43.],\n",
       "         [ 42.,  42.,  42.]],\n",
       "\n",
       "        [[ 37.,  37.,  37.],\n",
       "         [ 39.,  39.,  39.],\n",
       "         [ 37.,  37.,  37.],\n",
       "         ...,\n",
       "         [ 43.,  43.,  43.],\n",
       "         [ 43.,  43.,  43.],\n",
       "         [ 45.,  45.,  45.]]],\n",
       "\n",
       "\n",
       "       [[[  0.,   0.,   0.],\n",
       "         [  0.,   0.,   0.],\n",
       "         [  0.,   0.,   0.],\n",
       "         ...,\n",
       "         [ 17.,  17.,  17.],\n",
       "         [  5.,   5.,   5.],\n",
       "         [  0.,   0.,   0.]],\n",
       "\n",
       "        [[  0.,   0.,   0.],\n",
       "         [  0.,   0.,   0.],\n",
       "         [  0.,   0.,   0.],\n",
       "         ...,\n",
       "         [ 14.,  14.,  14.],\n",
       "         [  2.,   2.,   2.],\n",
       "         [  0.,   0.,   0.]],\n",
       "\n",
       "        [[  0.,   0.,   0.],\n",
       "         [  0.,   0.,   0.],\n",
       "         [  0.,   0.,   0.],\n",
       "         ...,\n",
       "         [ 10.,  10.,  10.],\n",
       "         [  0.,   0.,   0.],\n",
       "         [  0.,   0.,   0.]],\n",
       "\n",
       "        ...,\n",
       "\n",
       "        [[  0.,   0.,   0.],\n",
       "         [  0.,   0.,   0.],\n",
       "         [  0.,   0.,   0.],\n",
       "         ...,\n",
       "         [  0.,   0.,   0.],\n",
       "         [  0.,   0.,   0.],\n",
       "         [  0.,   0.,   0.]],\n",
       "\n",
       "        [[  0.,   0.,   0.],\n",
       "         [  0.,   0.,   0.],\n",
       "         [  0.,   0.,   0.],\n",
       "         ...,\n",
       "         [  0.,   0.,   0.],\n",
       "         [  0.,   0.,   0.],\n",
       "         [  0.,   0.,   0.]],\n",
       "\n",
       "        [[  0.,   0.,   0.],\n",
       "         [  0.,   0.,   0.],\n",
       "         [  0.,   0.,   0.],\n",
       "         ...,\n",
       "         [  0.,   0.,   0.],\n",
       "         [  0.,   0.,   0.],\n",
       "         [  0.,   0.,   0.]]],\n",
       "\n",
       "\n",
       "       [[[  0.,   0.,   0.],\n",
       "         [  0.,   0.,   0.],\n",
       "         [ 24.,  24.,  24.],\n",
       "         ...,\n",
       "         [ 56.,  56.,  56.],\n",
       "         [ 43.,  43.,  43.],\n",
       "         [ 25.,  25.,  25.]],\n",
       "\n",
       "        [[  0.,   0.,   0.],\n",
       "         [  0.,   0.,   0.],\n",
       "         [ 19.,  19.,  19.],\n",
       "         ...,\n",
       "         [ 48.,  48.,  48.],\n",
       "         [ 34.,  34.,  34.],\n",
       "         [ 15.,  15.,  15.]],\n",
       "\n",
       "        [[  0.,   0.,   0.],\n",
       "         [  0.,   0.,   0.],\n",
       "         [ 13.,  13.,  13.],\n",
       "         ...,\n",
       "         [ 44.,  44.,  44.],\n",
       "         [ 30.,  30.,  30.],\n",
       "         [  9.,   9.,   9.]],\n",
       "\n",
       "        ...,\n",
       "\n",
       "        [[  0.,   0.,   0.],\n",
       "         [  0.,   0.,   0.],\n",
       "         [  0.,   0.,   0.],\n",
       "         ...,\n",
       "         [  0.,   0.,   0.],\n",
       "         [  0.,   0.,   0.],\n",
       "         [  0.,   0.,   0.]],\n",
       "\n",
       "        [[  0.,   0.,   0.],\n",
       "         [  0.,   0.,   0.],\n",
       "         [  0.,   0.,   0.],\n",
       "         ...,\n",
       "         [  0.,   0.,   0.],\n",
       "         [  0.,   0.,   0.],\n",
       "         [  0.,   0.,   0.]],\n",
       "\n",
       "        [[  0.,   0.,   0.],\n",
       "         [  0.,   0.,   0.],\n",
       "         [  0.,   0.,   0.],\n",
       "         ...,\n",
       "         [  0.,   0.,   0.],\n",
       "         [  0.,   0.,   0.],\n",
       "         [  0.,   0.,   0.]]],\n",
       "\n",
       "\n",
       "       ...,\n",
       "\n",
       "\n",
       "       [[[  4.,   4.,   4.],\n",
       "         [  4.,   4.,   4.],\n",
       "         [  4.,   4.,   4.],\n",
       "         ...,\n",
       "         [  6.,   6.,   6.],\n",
       "         [  7.,   7.,   7.],\n",
       "         [  6.,   6.,   6.]],\n",
       "\n",
       "        [[  2.,   2.,   2.],\n",
       "         [  3.,   3.,   3.],\n",
       "         [  3.,   3.,   3.],\n",
       "         ...,\n",
       "         [  5.,   5.,   5.],\n",
       "         [  4.,   4.,   4.],\n",
       "         [  6.,   6.,   6.]],\n",
       "\n",
       "        [[  2.,   2.,   2.],\n",
       "         [  1.,   1.,   1.],\n",
       "         [  1.,   1.,   1.],\n",
       "         ...,\n",
       "         [  6.,   6.,   6.],\n",
       "         [  5.,   5.,   5.],\n",
       "         [  5.,   5.,   5.]],\n",
       "\n",
       "        ...,\n",
       "\n",
       "        [[  2.,   2.,   2.],\n",
       "         [  3.,   3.,   3.],\n",
       "         [  4.,   4.,   4.],\n",
       "         ...,\n",
       "         [  5.,   5.,   5.],\n",
       "         [  6.,   6.,   6.],\n",
       "         [  6.,   6.,   6.]],\n",
       "\n",
       "        [[  2.,   2.,   2.],\n",
       "         [  2.,   2.,   2.],\n",
       "         [  6.,   6.,   6.],\n",
       "         ...,\n",
       "         [  5.,   5.,   5.],\n",
       "         [  5.,   5.,   5.],\n",
       "         [  5.,   5.,   5.]],\n",
       "\n",
       "        [[  3.,   3.,   3.],\n",
       "         [  4.,   4.,   4.],\n",
       "         [  4.,   4.,   4.],\n",
       "         ...,\n",
       "         [  4.,   4.,   4.],\n",
       "         [  5.,   5.,   5.],\n",
       "         [  5.,   5.,   5.]]],\n",
       "\n",
       "\n",
       "       [[[ 60.,  60.,  60.],\n",
       "         [ 18.,  18.,  18.],\n",
       "         [ 17.,  17.,  17.],\n",
       "         ...,\n",
       "         [185., 185., 185.],\n",
       "         [195., 195., 195.],\n",
       "         [202., 202., 202.]],\n",
       "\n",
       "        [[ 46.,  46.,  46.],\n",
       "         [ 13.,  13.,  13.],\n",
       "         [ 16.,  16.,  16.],\n",
       "         ...,\n",
       "         [157., 157., 157.],\n",
       "         [194., 194., 194.],\n",
       "         [204., 204., 204.]],\n",
       "\n",
       "        [[ 24.,  24.,  24.],\n",
       "         [ 14.,  14.,  14.],\n",
       "         [ 15.,  15.,  15.],\n",
       "         ...,\n",
       "         [166., 166., 166.],\n",
       "         [190., 190., 190.],\n",
       "         [205., 205., 205.]],\n",
       "\n",
       "        ...,\n",
       "\n",
       "        [[ 22.,  22.,  22.],\n",
       "         [ 22.,  22.,  22.],\n",
       "         [ 21.,  21.,  21.],\n",
       "         ...,\n",
       "         [ 34.,  34.,  34.],\n",
       "         [ 27.,  27.,  27.],\n",
       "         [ 16.,  16.,  16.]],\n",
       "\n",
       "        [[ 23.,  23.,  23.],\n",
       "         [ 22.,  22.,  22.],\n",
       "         [ 22.,  22.,  22.],\n",
       "         ...,\n",
       "         [ 23.,  23.,  23.],\n",
       "         [ 21.,  21.,  21.],\n",
       "         [ 12.,  12.,  12.]],\n",
       "\n",
       "        [[ 22.,  22.,  22.],\n",
       "         [ 22.,  22.,  22.],\n",
       "         [ 21.,  21.,  21.],\n",
       "         ...,\n",
       "         [ 14.,  14.,  14.],\n",
       "         [ 18.,  18.,  18.],\n",
       "         [ 14.,  14.,  14.]]],\n",
       "\n",
       "\n",
       "       [[[ 44.,  44.,  44.],\n",
       "         [ 62.,  62.,  62.],\n",
       "         [ 70.,  70.,  70.],\n",
       "         ...,\n",
       "         [ 71.,  71.,  71.],\n",
       "         [ 47.,  47.,  47.],\n",
       "         [ 40.,  40.,  40.]],\n",
       "\n",
       "        [[ 42.,  42.,  42.],\n",
       "         [ 59.,  59.,  59.],\n",
       "         [ 67.,  67.,  67.],\n",
       "         ...,\n",
       "         [ 63.,  63.,  63.],\n",
       "         [ 47.,  47.,  47.],\n",
       "         [ 36.,  36.,  36.]],\n",
       "\n",
       "        [[ 40.,  40.,  40.],\n",
       "         [ 58.,  58.,  58.],\n",
       "         [ 65.,  65.,  65.],\n",
       "         ...,\n",
       "         [ 63.,  63.,  63.],\n",
       "         [ 44.,  44.,  44.],\n",
       "         [ 38.,  38.,  38.]],\n",
       "\n",
       "        ...,\n",
       "\n",
       "        [[ 19.,  19.,  19.],\n",
       "         [ 15.,  15.,  15.],\n",
       "         [ 13.,  13.,  13.],\n",
       "         ...,\n",
       "         [ 19.,  19.,  19.],\n",
       "         [ 21.,  21.,  21.],\n",
       "         [ 20.,  20.,  20.]],\n",
       "\n",
       "        [[ 19.,  19.,  19.],\n",
       "         [ 18.,  18.,  18.],\n",
       "         [ 16.,  16.,  16.],\n",
       "         ...,\n",
       "         [ 20.,  20.,  20.],\n",
       "         [ 20.,  20.,  20.],\n",
       "         [ 19.,  19.,  19.]],\n",
       "\n",
       "        [[ 19.,  19.,  19.],\n",
       "         [ 13.,  13.,  13.],\n",
       "         [ 14.,  14.,  14.],\n",
       "         ...,\n",
       "         [ 19.,  19.,  19.],\n",
       "         [ 23.,  23.,  23.],\n",
       "         [ 19.,  19.,  19.]]]], dtype=float32)"
      ]
     },
     "execution_count": 12,
     "metadata": {},
     "output_type": "execute_result"
    }
   ],
   "source": [
    "X_train"
   ]
  },
  {
   "cell_type": "code",
   "execution_count": 13,
   "metadata": {},
   "outputs": [
    {
     "data": {
      "text/plain": [
       "(5216, 12288)"
      ]
     },
     "execution_count": 13,
     "metadata": {},
     "output_type": "execute_result"
    }
   ],
   "source": [
    "X_train_unrow = X_train.reshape(5216, -1)\n",
    "X_train_unrow.shape"
   ]
  },
  {
   "cell_type": "code",
   "execution_count": 14,
   "metadata": {},
   "outputs": [
    {
     "data": {
      "text/plain": [
       "array([[29., 29., 29., ..., 45., 45., 45.],\n",
       "       [ 0.,  0.,  0., ...,  0.,  0.,  0.],\n",
       "       [ 0.,  0.,  0., ...,  0.,  0.,  0.],\n",
       "       ...,\n",
       "       [ 4.,  4.,  4., ...,  5.,  5.,  5.],\n",
       "       [60., 60., 60., ..., 14., 14., 14.],\n",
       "       [44., 44., 44., ..., 19., 19., 19.]], dtype=float32)"
      ]
     },
     "execution_count": 14,
     "metadata": {},
     "output_type": "execute_result"
    }
   ],
   "source": [
    "X_train_unrow"
   ]
  },
  {
   "cell_type": "code",
   "execution_count": 15,
   "metadata": {},
   "outputs": [
    {
     "data": {
      "text/plain": [
       "array([[[[110., 110., 110.],\n",
       "         [ 93.,  93.,  93.],\n",
       "         [ 75.,  75.,  75.],\n",
       "         ...,\n",
       "         [ 69.,  69.,  69.],\n",
       "         [ 63.,  63.,  63.],\n",
       "         [ 52.,  52.,  52.]],\n",
       "\n",
       "        [[110., 110., 110.],\n",
       "         [ 88.,  88.,  88.],\n",
       "         [ 58.,  58.,  58.],\n",
       "         ...,\n",
       "         [ 68.,  68.,  68.],\n",
       "         [ 58.,  58.,  58.],\n",
       "         [ 52.,  52.,  52.]],\n",
       "\n",
       "        [[132., 132., 132.],\n",
       "         [ 80.,  80.,  80.],\n",
       "         [ 71.,  71.,  71.],\n",
       "         ...,\n",
       "         [ 71.,  71.,  71.],\n",
       "         [ 62.,  62.,  62.],\n",
       "         [ 46.,  46.,  46.]],\n",
       "\n",
       "        ...,\n",
       "\n",
       "        [[  0.,   0.,   0.],\n",
       "         [  0.,   0.,   0.],\n",
       "         [  0.,   0.,   0.],\n",
       "         ...,\n",
       "         [  0.,   0.,   0.],\n",
       "         [  0.,   0.,   0.],\n",
       "         [  0.,   0.,   0.]],\n",
       "\n",
       "        [[  0.,   0.,   0.],\n",
       "         [  0.,   0.,   0.],\n",
       "         [  0.,   0.,   0.],\n",
       "         ...,\n",
       "         [  0.,   0.,   0.],\n",
       "         [  0.,   0.,   0.],\n",
       "         [  0.,   0.,   0.]],\n",
       "\n",
       "        [[  0.,   0.,   0.],\n",
       "         [  0.,   0.,   0.],\n",
       "         [  0.,   0.,   0.],\n",
       "         ...,\n",
       "         [  0.,   0.,   0.],\n",
       "         [  0.,   0.,   0.],\n",
       "         [  0.,   0.,   0.]]],\n",
       "\n",
       "\n",
       "       [[[176., 176., 176.],\n",
       "         [173., 173., 173.],\n",
       "         [162., 162., 162.],\n",
       "         ...,\n",
       "         [ 42.,  42.,  42.],\n",
       "         [ 44.,  44.,  44.],\n",
       "         [ 46.,  46.,  46.]],\n",
       "\n",
       "        [[177., 177., 177.],\n",
       "         [179., 179., 179.],\n",
       "         [169., 169., 169.],\n",
       "         ...,\n",
       "         [ 46.,  46.,  46.],\n",
       "         [ 50.,  50.,  50.],\n",
       "         [ 51.,  51.,  51.]],\n",
       "\n",
       "        [[184., 184., 184.],\n",
       "         [176., 176., 176.],\n",
       "         [162., 162., 162.],\n",
       "         ...,\n",
       "         [ 52.,  52.,  52.],\n",
       "         [ 55.,  55.,  55.],\n",
       "         [ 54.,  54.,  54.]],\n",
       "\n",
       "        ...,\n",
       "\n",
       "        [[ 55.,  55.,  55.],\n",
       "         [141., 141., 141.],\n",
       "         [157., 157., 157.],\n",
       "         ...,\n",
       "         [ 11.,  11.,  11.],\n",
       "         [ 12.,  12.,  12.],\n",
       "         [ 48.,  48.,  48.]],\n",
       "\n",
       "        [[ 60.,  60.,  60.],\n",
       "         [159., 159., 159.],\n",
       "         [160., 160., 160.],\n",
       "         ...,\n",
       "         [ 10.,  10.,  10.],\n",
       "         [ 12.,  12.,  12.],\n",
       "         [ 47.,  47.,  47.]],\n",
       "\n",
       "        [[ 65.,  65.,  65.],\n",
       "         [156., 156., 156.],\n",
       "         [135., 135., 135.],\n",
       "         ...,\n",
       "         [ 11.,  11.,  11.],\n",
       "         [ 15.,  15.,  15.],\n",
       "         [ 55.,  55.,  55.]]],\n",
       "\n",
       "\n",
       "       [[[  0.,   0.,   0.],\n",
       "         [  0.,   0.,   0.],\n",
       "         [  0.,   0.,   0.],\n",
       "         ...,\n",
       "         [ 36.,  36.,  36.],\n",
       "         [  0.,   0.,   0.],\n",
       "         [  0.,   0.,   0.]],\n",
       "\n",
       "        [[  0.,   0.,   0.],\n",
       "         [  0.,   0.,   0.],\n",
       "         [  0.,   0.,   0.],\n",
       "         ...,\n",
       "         [ 50.,  50.,  50.],\n",
       "         [  0.,   0.,   0.],\n",
       "         [  0.,   0.,   0.]],\n",
       "\n",
       "        [[  0.,   0.,   0.],\n",
       "         [  0.,   0.,   0.],\n",
       "         [  0.,   0.,   0.],\n",
       "         ...,\n",
       "         [ 62.,  62.,  62.],\n",
       "         [  0.,   0.,   0.],\n",
       "         [  0.,   0.,   0.]],\n",
       "\n",
       "        ...,\n",
       "\n",
       "        [[  0.,   0.,   0.],\n",
       "         [  0.,   0.,   0.],\n",
       "         [ 63.,  63.,  63.],\n",
       "         ...,\n",
       "         [  0.,   0.,   0.],\n",
       "         [  0.,   0.,   0.],\n",
       "         [  0.,   0.,   0.]],\n",
       "\n",
       "        [[  0.,   0.,   0.],\n",
       "         [  0.,   0.,   0.],\n",
       "         [ 68.,  68.,  68.],\n",
       "         ...,\n",
       "         [  0.,   0.,   0.],\n",
       "         [  0.,   0.,   0.],\n",
       "         [  0.,   0.,   0.]],\n",
       "\n",
       "        [[  0.,   0.,   0.],\n",
       "         [  0.,   0.,   0.],\n",
       "         [ 72.,  72.,  72.],\n",
       "         ...,\n",
       "         [  0.,   0.,   0.],\n",
       "         [  0.,   0.,   0.],\n",
       "         [  0.,   0.,   0.]]],\n",
       "\n",
       "\n",
       "       ...,\n",
       "\n",
       "\n",
       "       [[[ 18.,  18.,  18.],\n",
       "         [ 15.,  15.,  15.],\n",
       "         [ 23.,  23.,  23.],\n",
       "         ...,\n",
       "         [ 17.,  17.,  17.],\n",
       "         [ 22.,  22.,  22.],\n",
       "         [ 23.,  23.,  23.]],\n",
       "\n",
       "        [[ 17.,  17.,  17.],\n",
       "         [ 17.,  17.,  17.],\n",
       "         [ 18.,  18.,  18.],\n",
       "         ...,\n",
       "         [  9.,   9.,   9.],\n",
       "         [ 13.,  13.,  13.],\n",
       "         [ 26.,  26.,  26.]],\n",
       "\n",
       "        [[ 18.,  18.,  18.],\n",
       "         [ 20.,  20.,  20.],\n",
       "         [ 22.,  22.,  22.],\n",
       "         ...,\n",
       "         [ 38.,  38.,  38.],\n",
       "         [  6.,   6.,   6.],\n",
       "         [ 18.,  18.,  18.]],\n",
       "\n",
       "        ...,\n",
       "\n",
       "        [[ 15.,  15.,  15.],\n",
       "         [ 13.,  13.,  13.],\n",
       "         [ 13.,  13.,  13.],\n",
       "         ...,\n",
       "         [ 23.,  23.,  23.],\n",
       "         [ 22.,  22.,  22.],\n",
       "         [ 21.,  21.,  21.]],\n",
       "\n",
       "        [[ 13.,  13.,  13.],\n",
       "         [ 15.,  15.,  15.],\n",
       "         [ 14.,  14.,  14.],\n",
       "         ...,\n",
       "         [ 20.,  20.,  20.],\n",
       "         [ 20.,  20.,  20.],\n",
       "         [ 19.,  19.,  19.]],\n",
       "\n",
       "        [[ 21.,  21.,  21.],\n",
       "         [ 18.,  18.,  18.],\n",
       "         [ 21.,  21.,  21.],\n",
       "         ...,\n",
       "         [ 22.,  22.,  22.],\n",
       "         [ 21.,  21.,  21.],\n",
       "         [ 24.,  24.,  24.]]],\n",
       "\n",
       "\n",
       "       [[[  0.,   0.,   0.],\n",
       "         [  0.,   0.,   0.],\n",
       "         [  8.,   8.,   8.],\n",
       "         ...,\n",
       "         [  0.,   0.,   0.],\n",
       "         [  0.,   0.,   0.],\n",
       "         [  0.,   0.,   0.]],\n",
       "\n",
       "        [[  0.,   0.,   0.],\n",
       "         [  0.,   0.,   0.],\n",
       "         [  7.,   7.,   7.],\n",
       "         ...,\n",
       "         [  0.,   0.,   0.],\n",
       "         [  0.,   0.,   0.],\n",
       "         [  0.,   0.,   0.]],\n",
       "\n",
       "        [[  0.,   0.,   0.],\n",
       "         [  0.,   0.,   0.],\n",
       "         [  7.,   7.,   7.],\n",
       "         ...,\n",
       "         [  0.,   0.,   0.],\n",
       "         [  0.,   0.,   0.],\n",
       "         [  0.,   0.,   0.]],\n",
       "\n",
       "        ...,\n",
       "\n",
       "        [[  0.,   0.,   0.],\n",
       "         [  0.,   0.,   0.],\n",
       "         [  0.,   0.,   0.],\n",
       "         ...,\n",
       "         [  5.,   5.,   5.],\n",
       "         [  0.,   0.,   0.],\n",
       "         [  0.,   0.,   0.]],\n",
       "\n",
       "        [[  0.,   0.,   0.],\n",
       "         [  0.,   0.,   0.],\n",
       "         [  0.,   0.,   0.],\n",
       "         ...,\n",
       "         [  5.,   5.,   5.],\n",
       "         [  0.,   0.,   0.],\n",
       "         [  0.,   0.,   0.]],\n",
       "\n",
       "        [[  0.,   0.,   0.],\n",
       "         [  0.,   0.,   0.],\n",
       "         [  0.,   0.,   0.],\n",
       "         ...,\n",
       "         [  0.,   0.,   0.],\n",
       "         [  0.,   0.,   0.],\n",
       "         [  0.,   0.,   0.]]],\n",
       "\n",
       "\n",
       "       [[[ 26.,  26.,  26.],\n",
       "         [ 24.,  24.,  24.],\n",
       "         [ 20.,  20.,  20.],\n",
       "         ...,\n",
       "         [ 40.,  40.,  40.],\n",
       "         [ 11.,  11.,  11.],\n",
       "         [ 16.,  16.,  16.]],\n",
       "\n",
       "        [[ 25.,  25.,  25.],\n",
       "         [ 22.,  22.,  22.],\n",
       "         [ 19.,  19.,  19.],\n",
       "         ...,\n",
       "         [  5.,   5.,   5.],\n",
       "         [  9.,   9.,   9.],\n",
       "         [ 16.,  16.,  16.]],\n",
       "\n",
       "        [[ 28.,  28.,  28.],\n",
       "         [ 23.,  23.,  23.],\n",
       "         [ 18.,  18.,  18.],\n",
       "         ...,\n",
       "         [  6.,   6.,   6.],\n",
       "         [  9.,   9.,   9.],\n",
       "         [ 13.,  13.,  13.]],\n",
       "\n",
       "        ...,\n",
       "\n",
       "        [[ 22.,  22.,  22.],\n",
       "         [ 22.,  22.,  22.],\n",
       "         [ 16.,  16.,  16.],\n",
       "         ...,\n",
       "         [ 19.,  19.,  19.],\n",
       "         [ 24.,  24.,  24.],\n",
       "         [ 26.,  26.,  26.]],\n",
       "\n",
       "        [[ 27.,  27.,  27.],\n",
       "         [ 21.,  21.,  21.],\n",
       "         [ 15.,  15.,  15.],\n",
       "         ...,\n",
       "         [ 21.,  21.,  21.],\n",
       "         [ 24.,  24.,  24.],\n",
       "         [ 25.,  25.,  25.]],\n",
       "\n",
       "        [[ 26.,  26.,  26.],\n",
       "         [ 22.,  22.,  22.],\n",
       "         [ 17.,  17.,  17.],\n",
       "         ...,\n",
       "         [ 20.,  20.,  20.],\n",
       "         [ 23.,  23.,  23.],\n",
       "         [ 26.,  26.,  26.]]]], dtype=float32)"
      ]
     },
     "execution_count": 15,
     "metadata": {},
     "output_type": "execute_result"
    }
   ],
   "source": [
    "X_test"
   ]
  },
  {
   "cell_type": "code",
   "execution_count": 16,
   "metadata": {
    "scrolled": true
   },
   "outputs": [
    {
     "data": {
      "text/plain": [
       "(624, 12288)"
      ]
     },
     "execution_count": 16,
     "metadata": {},
     "output_type": "execute_result"
    }
   ],
   "source": [
    "X_test_unrow = X_test.reshape(624, -1)\n",
    "X_test_unrow.shape"
   ]
  },
  {
   "cell_type": "code",
   "execution_count": 17,
   "metadata": {},
   "outputs": [],
   "source": [
    "#X_test_unrow"
   ]
  },
  {
   "cell_type": "code",
   "execution_count": 18,
   "metadata": {},
   "outputs": [
    {
     "data": {
      "text/plain": [
       "array([[0., 1.],\n",
       "       [0., 1.],\n",
       "       [1., 0.],\n",
       "       ...,\n",
       "       [1., 0.],\n",
       "       [0., 1.],\n",
       "       [1., 0.]], dtype=float32)"
      ]
     },
     "execution_count": 18,
     "metadata": {},
     "output_type": "execute_result"
    }
   ],
   "source": [
    "#Taking a look at our y_train data\n",
    "y_train"
   ]
  },
  {
   "cell_type": "code",
   "execution_count": 19,
   "metadata": {},
   "outputs": [
    {
     "data": {
      "text/plain": [
       "{'normal': 0, 'pneumonia': 1}"
      ]
     },
     "execution_count": 19,
     "metadata": {},
     "output_type": "execute_result"
    }
   ],
   "source": [
    "#Let's take a look at which index represents what class\n",
    "train_generator.class_indices"
   ]
  },
  {
   "cell_type": "code",
   "execution_count": 20,
   "metadata": {},
   "outputs": [
    {
     "data": {
      "text/plain": [
       "(1, 5216)"
      ]
     },
     "execution_count": 20,
     "metadata": {},
     "output_type": "execute_result"
    }
   ],
   "source": [
    "y_train_final = y_train.T[[1]]\n",
    "#y_train_final[:20]\n",
    "y_train_final.shape"
   ]
  },
  {
   "cell_type": "code",
   "execution_count": 21,
   "metadata": {},
   "outputs": [],
   "source": [
    "y_train_final = y_train_final.reshape(5216, 1)"
   ]
  },
  {
   "cell_type": "code",
   "execution_count": 22,
   "metadata": {},
   "outputs": [],
   "source": [
    "#y_train_final = y_train.reshape(2, -1)"
   ]
  },
  {
   "cell_type": "code",
   "execution_count": 23,
   "metadata": {},
   "outputs": [
    {
     "data": {
      "text/plain": [
       "(5216, 1)"
      ]
     },
     "execution_count": 23,
     "metadata": {},
     "output_type": "execute_result"
    }
   ],
   "source": [
    "y_train_final.shape"
   ]
  },
  {
   "cell_type": "code",
   "execution_count": 24,
   "metadata": {},
   "outputs": [
    {
     "data": {
      "text/plain": [
       "array([[1.],\n",
       "       [1.],\n",
       "       [0.],\n",
       "       ...,\n",
       "       [0.],\n",
       "       [1.],\n",
       "       [0.]], dtype=float32)"
      ]
     },
     "execution_count": 24,
     "metadata": {},
     "output_type": "execute_result"
    }
   ],
   "source": [
    "y_train_final"
   ]
  },
  {
   "cell_type": "code",
   "execution_count": 25,
   "metadata": {},
   "outputs": [],
   "source": [
    "#Let's take a look at our y_test data\n",
    "#y_test"
   ]
  },
  {
   "cell_type": "code",
   "execution_count": 26,
   "metadata": {},
   "outputs": [],
   "source": [
    "y_test_final = y_test.T[[1]]\n",
    "#y_test_final[:20]"
   ]
  },
  {
   "cell_type": "code",
   "execution_count": 27,
   "metadata": {},
   "outputs": [
    {
     "data": {
      "text/plain": [
       "(1, 624)"
      ]
     },
     "execution_count": 27,
     "metadata": {},
     "output_type": "execute_result"
    }
   ],
   "source": [
    "y_test_final.shape"
   ]
  },
  {
   "cell_type": "code",
   "execution_count": 28,
   "metadata": {},
   "outputs": [],
   "source": [
    "y_test_final = y_test_final.reshape(624, 1)"
   ]
  },
  {
   "cell_type": "code",
   "execution_count": 29,
   "metadata": {},
   "outputs": [
    {
     "data": {
      "text/plain": [
       "(624, 1)"
      ]
     },
     "execution_count": 29,
     "metadata": {},
     "output_type": "execute_result"
    }
   ],
   "source": [
    "y_test_final.shape"
   ]
  },
  {
   "cell_type": "markdown",
   "metadata": {},
   "source": [
    "#### Let's take a look at a pneumonia image vs a normal image ####"
   ]
  },
  {
   "cell_type": "code",
   "execution_count": 30,
   "metadata": {},
   "outputs": [],
   "source": [
    "#plt.imshow(X_train_unrow[0])\n",
    "#plt.axis('off')\n",
    "#plt.title('Normal X-Ray')\n",
    "#plt.show()"
   ]
  },
  {
   "cell_type": "code",
   "execution_count": 31,
   "metadata": {},
   "outputs": [],
   "source": [
    "#Lastly let's normalize our data\n",
    "X_train_final = X_train_unrow / 255\n",
    "X_test_final = X_test_unrow / 255\n"
   ]
  },
  {
   "cell_type": "code",
   "execution_count": 32,
   "metadata": {},
   "outputs": [
    {
     "name": "stdout",
     "output_type": "stream",
     "text": [
      "(5216, 12288)\n",
      "(624, 12288)\n",
      "(5216, 1)\n",
      "(624, 1)\n"
     ]
    }
   ],
   "source": [
    "print(X_train_final.shape)\n",
    "print(X_test_final.shape)\n",
    "print(y_train_final.shape)\n",
    "print(y_test_final.shape)\n",
    "#print(X_val.shape)\n",
    "#print(y_val.shape)"
   ]
  },
  {
   "cell_type": "markdown",
   "metadata": {},
   "source": [
    "### Building Our Initial Model ###"
   ]
  },
  {
   "cell_type": "code",
   "execution_count": 33,
   "metadata": {},
   "outputs": [],
   "source": [
    "model_1 = Sequential()\n",
    "model_1.add(Dense(50, activation = 'relu', input_shape = (12288,)))\n",
    "model_1.add(Dense(1, activation = 'sigmoid'))"
   ]
  },
  {
   "cell_type": "code",
   "execution_count": 34,
   "metadata": {},
   "outputs": [],
   "source": [
    "model_1.compile(loss = 'binary_crossentropy', optimizer = 'sgd', metrics = ['acc'])"
   ]
  },
  {
   "cell_type": "code",
   "execution_count": 35,
   "metadata": {},
   "outputs": [
    {
     "name": "stdout",
     "output_type": "stream",
     "text": [
      "Model: \"sequential\"\n",
      "_________________________________________________________________\n",
      "Layer (type)                 Output Shape              Param #   \n",
      "=================================================================\n",
      "dense (Dense)                (None, 50)                614450    \n",
      "_________________________________________________________________\n",
      "dense_1 (Dense)              (None, 1)                 51        \n",
      "=================================================================\n",
      "Total params: 614,501\n",
      "Trainable params: 614,501\n",
      "Non-trainable params: 0\n",
      "_________________________________________________________________\n"
     ]
    }
   ],
   "source": [
    "model_1.summary()"
   ]
  },
  {
   "cell_type": "code",
   "execution_count": 36,
   "metadata": {
    "scrolled": false
   },
   "outputs": [
    {
     "name": "stdout",
     "output_type": "stream",
     "text": [
      "Epoch 1/5\n",
      "105/105 [==============================] - 1s 6ms/step - loss: 0.4814 - acc: 0.8043 - val_loss: 0.8705 - val_acc: 0.6250\n",
      "Epoch 2/5\n",
      "105/105 [==============================] - 1s 5ms/step - loss: 0.3177 - acc: 0.8658 - val_loss: 0.4822 - val_acc: 0.7436\n",
      "Epoch 3/5\n",
      "105/105 [==============================] - 1s 5ms/step - loss: 0.2414 - acc: 0.9057 - val_loss: 1.0638 - val_acc: 0.6410\n",
      "Epoch 4/5\n",
      "105/105 [==============================] - 1s 5ms/step - loss: 0.2176 - acc: 0.9112 - val_loss: 1.6716 - val_acc: 0.6282\n",
      "Epoch 5/5\n",
      "105/105 [==============================] - 1s 5ms/step - loss: 0.2063 - acc: 0.9181 - val_loss: 1.5313 - val_acc: 0.6362\n"
     ]
    }
   ],
   "source": [
    "results_1 = model_1.fit(X_train_final, y_train_final, epochs = 5, batch_size = 50, validation_data= (X_test_final, y_test_final))"
   ]
  },
  {
   "cell_type": "markdown",
   "metadata": {},
   "source": [
    "#### Loss and Accuracy Curves ####"
   ]
  },
  {
   "cell_type": "code",
   "execution_count": 37,
   "metadata": {},
   "outputs": [],
   "source": [
    "def visualize_training_results(results):\n",
    "    history = results.history\n",
    "    plt.figure()\n",
    "    plt.plot(history['val_loss'])\n",
    "    plt.plot(history['loss'])\n",
    "    plt.legend(['val_loss', 'loss'])\n",
    "    plt.title('Loss')\n",
    "    plt.xlabel('Epochs')\n",
    "    plt.ylabel('Loss')\n",
    "    plt.show()\n",
    "    \n",
    "    plt.figure()\n",
    "    plt.plot(history['val_acc'])\n",
    "    plt.plot(history['acc'])\n",
    "    plt.legend(['val_acc', 'acc'])\n",
    "    plt.title('Accuracy')\n",
    "    plt.xlabel('Epochs')\n",
    "    plt.ylabel('Accuracy')\n",
    "    plt.show()\n",
    "    "
   ]
  },
  {
   "cell_type": "code",
   "execution_count": 38,
   "metadata": {
    "scrolled": false
   },
   "outputs": [
    {
     "data": {
      "image/png": "[encoded data removed]",
      "text/plain": [
       "<Figure size 432x288 with 1 Axes>"
      ]
     },
     "metadata": {
      "needs_background": "light"
     },
     "output_type": "display_data"
    },
    {
     "data": {
      "image/png": "[encoded data removed]",
      "text/plain": [
       "<Figure size 432x288 with 1 Axes>"
      ]
     },
     "metadata": {
      "needs_background": "light"
     },
     "output_type": "display_data"
    }
   ],
   "source": [
    "visualize_training_results(results_1)"
   ]
  },
  {
   "cell_type": "markdown",
   "metadata": {},
   "source": [
    "### Model with More Layers ###"
   ]
  },
  {
   "cell_type": "code",
   "execution_count": 44,
   "metadata": {},
   "outputs": [],
   "source": [
    "model_2 = Sequential()\n",
    "model_2.add(Dense(50, activation = 'relu', input_shape = (12288,)))\n",
    "model_2.add(Dense(35, activation = 'relu'))\n",
    "model_2.add(Dense(25, activation = 'relu'))\n",
    "model_2.add(Dense(15, activation = 'relu'))\n",
    "model_2.add(Dense(1, activation = 'sigmoid'))"
   ]
  },
  {
   "cell_type": "code",
   "execution_count": 45,
   "metadata": {},
   "outputs": [],
   "source": [
    "model_2.compile(loss = 'binary_crossentropy', optimizer = 'sgd', metrics = ['acc'])"
   ]
  },
  {
   "cell_type": "code",
   "execution_count": 46,
   "metadata": {},
   "outputs": [
    {
     "name": "stdout",
     "output_type": "stream",
     "text": [
      "Model: \"sequential_2\"\n",
      "_________________________________________________________________\n",
      "Layer (type)                 Output Shape              Param #   \n",
      "=================================================================\n",
      "dense_7 (Dense)              (None, 50)                614450    \n",
      "_________________________________________________________________\n",
      "dense_8 (Dense)              (None, 35)                1785      \n",
      "_________________________________________________________________\n",
      "dense_9 (Dense)              (None, 25)                900       \n",
      "_________________________________________________________________\n",
      "dense_10 (Dense)             (None, 15)                390       \n",
      "_________________________________________________________________\n",
      "dense_11 (Dense)             (None, 1)                 16        \n",
      "=================================================================\n",
      "Total params: 617,541\n",
      "Trainable params: 617,541\n",
      "Non-trainable params: 0\n",
      "_________________________________________________________________\n"
     ]
    }
   ],
   "source": [
    "model_2.summary()"
   ]
  },
  {
   "cell_type": "code",
   "execution_count": 47,
   "metadata": {},
   "outputs": [
    {
     "name": "stdout",
     "output_type": "stream",
     "text": [
      "Epoch 1/5\n",
      "105/105 [==============================] - 1s 5ms/step - loss: 0.1383 - acc: 0.9480 - val_loss: 0.4730 - val_acc: 0.7933\n",
      "Epoch 2/5\n",
      "105/105 [==============================] - 1s 6ms/step - loss: 0.1315 - acc: 0.9505 - val_loss: 0.6164 - val_acc: 0.7756\n",
      "Epoch 3/5\n",
      "105/105 [==============================] - 1s 5ms/step - loss: 0.1380 - acc: 0.9502 - val_loss: 0.6965 - val_acc: 0.7596\n",
      "Epoch 4/5\n",
      "105/105 [==============================] - 1s 5ms/step - loss: 0.1337 - acc: 0.9471 - val_loss: 1.0839 - val_acc: 0.7051\n",
      "Epoch 5/5\n",
      "105/105 [==============================] - 1s 5ms/step - loss: 0.1268 - acc: 0.9505 - val_loss: 1.3360 - val_acc: 0.6827\n"
     ]
    }
   ],
   "source": [
    "results_2 = model_1.fit(X_train_final, y_train_final, epochs = 5, batch_size = 50, validation_data= (X_test_final, y_test_final))"
   ]
  },
  {
   "cell_type": "code",
   "execution_count": 43,
   "metadata": {},
   "outputs": [
    {
     "data": {
      "image/png": "[encoded data removed]",
      "text/plain": [
       "<Figure size 432x288 with 1 Axes>"
      ]
     },
     "metadata": {
      "needs_background": "light"
     },
     "output_type": "display_data"
    },
    {
     "data": {
      "image/png": "[encoded data removed]",
      "text/plain": [
       "<Figure size 432x288 with 1 Axes>"
      ]
     },
     "metadata": {
      "needs_background": "light"
     },
     "output_type": "display_data"
    }
   ],
   "source": [
    "visualize_training_results(results_2)"
   ]
  },
  {
   "cell_type": "markdown",
   "metadata": {},
   "source": [
    "### Model with more epochs ###"
   ]
  },
  {
   "cell_type": "code",
   "execution_count": 48,
   "metadata": {},
   "outputs": [],
   "source": [
    "model_3 = Sequential()\n",
    "model_3.add(Dense(50, activation = 'relu', input_shape = (12288,)))\n",
    "model_3.add(Dense(35, activation = 'relu'))\n",
    "model_3.add(Dense(25, activation = 'relu'))\n",
    "model_3.add(Dense(15, activation = 'relu'))\n",
    "model_3.add(Dense(1, activation = 'sigmoid'))"
   ]
  },
  {
   "cell_type": "code",
   "execution_count": 49,
   "metadata": {},
   "outputs": [],
   "source": [
    "model_3.compile(loss = 'binary_crossentropy', optimizer = 'sgd', metrics = ['acc'])"
   ]
  },
  {
   "cell_type": "code",
   "execution_count": 54,
   "metadata": {},
   "outputs": [
    {
     "name": "stdout",
     "output_type": "stream",
     "text": [
      "Model: \"sequential_3\"\n",
      "_________________________________________________________________\n",
      "Layer (type)                 Output Shape              Param #   \n",
      "=================================================================\n",
      "dense_12 (Dense)             (None, 50)                614450    \n",
      "_________________________________________________________________\n",
      "dense_13 (Dense)             (None, 35)                1785      \n",
      "_________________________________________________________________\n",
      "dense_14 (Dense)             (None, 25)                900       \n",
      "_________________________________________________________________\n",
      "dense_15 (Dense)             (None, 15)                390       \n",
      "_________________________________________________________________\n",
      "dense_16 (Dense)             (None, 1)                 16        \n",
      "=================================================================\n",
      "Total params: 617,541\n",
      "Trainable params: 617,541\n",
      "Non-trainable params: 0\n",
      "_________________________________________________________________\n"
     ]
    }
   ],
   "source": [
    "model_3.summary()"
   ]
  },
  {
   "cell_type": "code",
   "execution_count": 55,
   "metadata": {},
   "outputs": [
    {
     "name": "stdout",
     "output_type": "stream",
     "text": [
      "Epoch 1/10\n",
      "105/105 [==============================] - 1s 6ms/step - loss: 0.5274 - acc: 0.7521 - val_loss: 0.5762 - val_acc: 0.6266\n",
      "Epoch 2/10\n",
      "105/105 [==============================] - 1s 6ms/step - loss: 0.4394 - acc: 0.7979 - val_loss: 0.9025 - val_acc: 0.6250\n",
      "Epoch 3/10\n",
      "105/105 [==============================] - 1s 5ms/step - loss: 0.3506 - acc: 0.8499 - val_loss: 0.4469 - val_acc: 0.7724\n",
      "Epoch 4/10\n",
      "105/105 [==============================] - 1s 5ms/step - loss: 0.2740 - acc: 0.8878 - val_loss: 0.3560 - val_acc: 0.8349\n",
      "Epoch 5/10\n",
      "105/105 [==============================] - 1s 5ms/step - loss: 0.2363 - acc: 0.9068 - val_loss: 0.8073 - val_acc: 0.6955\n",
      "Epoch 6/10\n",
      "105/105 [==============================] - 1s 5ms/step - loss: 0.2205 - acc: 0.9107 - val_loss: 0.3772 - val_acc: 0.8221\n",
      "Epoch 7/10\n",
      "105/105 [==============================] - 1s 6ms/step - loss: 0.1874 - acc: 0.9250 - val_loss: 1.3844 - val_acc: 0.6474\n",
      "Epoch 8/10\n",
      "105/105 [==============================] - 1s 5ms/step - loss: 0.1818 - acc: 0.9237 - val_loss: 0.6599 - val_acc: 0.7596\n",
      "Epoch 9/10\n",
      "105/105 [==============================] - 1s 5ms/step - loss: 0.1872 - acc: 0.9266 - val_loss: 0.3828 - val_acc: 0.8237\n",
      "Epoch 10/10\n",
      "105/105 [==============================] - 1s 6ms/step - loss: 0.1520 - acc: 0.9411 - val_loss: 1.3928 - val_acc: 0.6699\n"
     ]
    }
   ],
   "source": [
    "results_3 = model_3.fit(X_train_final, y_train_final, epochs = 10, batch_size = 50, validation_data= (X_test_final, y_test_final))"
   ]
  },
  {
   "cell_type": "code",
   "execution_count": 56,
   "metadata": {},
   "outputs": [
    {
     "data": {
      "image/png": "[encoded data removed]",
      "text/plain": [
       "<Figure size 432x288 with 1 Axes>"
      ]
     },
     "metadata": {
      "needs_background": "light"
     },
     "output_type": "display_data"
    },
    {
     "data": {
      "image/png": "[encoded data removed]",
      "text/plain": [
       "<Figure size 432x288 with 1 Axes>"
      ]
     },
     "metadata": {
      "needs_background": "light"
     },
     "output_type": "display_data"
    }
   ],
   "source": [
    "visualize_training_results(results_3)"
   ]
  },
  {
   "cell_type": "code",
   "execution_count": null,
   "metadata": {},
   "outputs": [],
   "source": []
  },
  {
   "cell_type": "code",
   "execution_count": null,
   "metadata": {},
   "outputs": [],
   "source": []
  }
 ],
 "metadata": {
  "kernelspec": {
   "display_name": "Python 3",
   "language": "python",
   "name": "python3"
  },
  "language_info": {
   "codemirror_mode": {
    "name": "ipython",
    "version": 3
   },
   "file_extension": ".py",
   "mimetype": "text/x-python",
   "name": "python",
   "nbconvert_exporter": "python",
   "pygments_lexer": "ipython3",
   "version": "3.8.5"
  }
 },
 "nbformat": 4,
 "nbformat_minor": 4
}
