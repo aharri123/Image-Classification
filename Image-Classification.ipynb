{
 "cells": [
  {
   "cell_type": "code",
   "execution_count": null,
   "metadata": {},
   "outputs": [],
   "source": []
  },
  {
   "cell_type": "code",
   "execution_count": 1,
   "metadata": {},
   "outputs": [],
   "source": [
    "from keras.preprocessing.image import ImageDataGenerator\n",
    "from keras_preprocessing.image import img_to_array, img_to_array, load_img\n",
    "import numpy as np\n",
    "import matplotlib.pyplot as plt\n",
    "import os"
   ]
  },
  {
   "cell_type": "code",
   "execution_count": 2,
   "metadata": {},
   "outputs": [],
   "source": [
    "#Create our directory paths to our images\n",
    "train_data_dir = 'data/train'\n",
    "test_data_dir = 'data/test'\n",
    "valid_data_dir = 'data/validation'"
   ]
  },
  {
   "cell_type": "code",
   "execution_count": 3,
   "metadata": {},
   "outputs": [],
   "source": [
    "#Let's plot the number of images in each classification directory\n",
    "\n",
    "def bar_plot(dir):\n",
    "  x=len(os.listdir(dir+'/NORMAL'))\n",
    "  y=len(os.listdir(dir+'/PNEUMONIA'))\n",
    "  category = ['NORMAL', 'PNEUMONIA']\n",
    "  count = [x, y]\n",
    "  plot = plt.bar(category,count) \n",
    "  plot[0].set_color('orange')\n",
    "  plt.title('Number of values for each category')\n",
    "  plt.show()"
   ]
  },
  {
   "cell_type": "code",
   "execution_count": 4,
   "metadata": {},
   "outputs": [
    {
     "name": "stdout",
     "output_type": "stream",
     "text": [
      "Training images:\n",
      "\n",
      "NORMAL: 1341\n",
      "PNEUMONIA: 3875\n",
      "Total Training images: 5216\n",
      "*************************************************\n"
     ]
    },
    {
     "data": {
      "image/png": "[encoded data removed]",
      "text/plain": [
       "<Figure size 432x288 with 1 Axes>"
      ]
     },
     "metadata": {
      "needs_background": "light"
     },
     "output_type": "display_data"
    }
   ],
   "source": [
    "#Number of training images\n",
    "print('Training images:\\n')\n",
    "print('NORMAL:', len(os.listdir(train_data_dir+'/NORMAL')))\n",
    "print('PNEUMONIA:', len(os.listdir(train_data_dir+'/PNEUMONIA')))\n",
    "print('Total Training images:', len(os.listdir(train_data_dir+'/NORMAL')) + len(os.listdir(train_data_dir+'/PNEUMONIA')))\n",
    "print('*'*49)\n",
    "bar_plot(train_data_dir)"
   ]
  },
  {
   "cell_type": "code",
   "execution_count": 5,
   "metadata": {},
   "outputs": [
    {
     "name": "stdout",
     "output_type": "stream",
     "text": [
      "Test images:\n",
      "\n",
      "NORMAL: 234\n",
      "PNEUMONIA: 390\n",
      "Total Test images: 624\n",
      "*************************************************\n"
     ]
    },
    {
     "data": {
      "image/png": "[encoded data removed]",
      "text/plain": [
       "<Figure size 432x288 with 1 Axes>"
      ]
     },
     "metadata": {
      "needs_background": "light"
     },
     "output_type": "display_data"
    }
   ],
   "source": [
    "#Number of test images\n",
    "print('Test images:\\n')\n",
    "print('NORMAL:', len(os.listdir(test_data_dir+'/NORMAL')))\n",
    "print('PNEUMONIA:', len(os.listdir(test_data_dir+'/PNEUMONIA')))\n",
    "print('Total Test images:', len(os.listdir(test_data_dir+'/NORMAL')) + len(os.listdir(test_data_dir+'/PNEUMONIA')))\n",
    "print('*'*49)\n",
    "bar_plot(test_data_dir)"
   ]
  },
  {
   "cell_type": "code",
   "execution_count": 6,
   "metadata": {},
   "outputs": [
    {
     "name": "stdout",
     "output_type": "stream",
     "text": [
      "Validation images:\n",
      "\n",
      "NORMAL: 8\n",
      "PNEUMONIA: 8\n",
      "Total Validation images: 16\n",
      "***********************************************\n"
     ]
    },
    {
     "data": {
      "image/png": "[encoded data removed]",
      "text/plain": [
       "<Figure size 432x288 with 1 Axes>"
      ]
     },
     "metadata": {
      "needs_background": "light"
     },
     "output_type": "display_data"
    }
   ],
   "source": [
    "#Number of validation images\n",
    "print('Validation images:\\n')\n",
    "print('NORMAL:', len(os.listdir(valid_data_dir+'/NORMAL')))\n",
    "print('PNEUMONIA:', len(os.listdir(valid_data_dir+'/PNEUMONIA')))\n",
    "print('Total Validation images:', len(os.listdir(valid_data_dir+'/NORMAL')) + len(os.listdir(valid_data_dir+'/PNEUMONIA')))\n",
    "print('*'*47)\n",
    "bar_plot(valid_data_dir)\n"
   ]
  },
  {
   "cell_type": "code",
   "execution_count": 7,
   "metadata": {},
   "outputs": [
    {
     "name": "stdout",
     "output_type": "stream",
     "text": [
      "Found 5216 images belonging to 2 classes.\n"
     ]
    }
   ],
   "source": [
    "# Get all the data in the directory data/train and reshape them\n",
    "\n",
    "train_generator = ImageDataGenerator().flow_from_directory(\n",
    "        train_data_dir, \n",
    "        target_size=(64, 64), \n",
    "        batch_size=5216)"
   ]
  },
  {
   "cell_type": "code",
   "execution_count": 8,
   "metadata": {},
   "outputs": [
    {
     "name": "stdout",
     "output_type": "stream",
     "text": [
      "Found 624 images belonging to 2 classes.\n"
     ]
    }
   ],
   "source": [
    "# Get all the data in the directory data/test and reshape them\n",
    "\n",
    "test_generator = ImageDataGenerator().flow_from_directory(\n",
    "        test_data_dir, \n",
    "        target_size=(64, 64), \n",
    "        batch_size=626)"
   ]
  },
  {
   "cell_type": "code",
   "execution_count": 9,
   "metadata": {},
   "outputs": [
    {
     "name": "stdout",
     "output_type": "stream",
     "text": [
      "Found 16 images belonging to 2 classes.\n"
     ]
    }
   ],
   "source": [
    "# Get all the data in the directory data/validation and reshape them\n",
    "\n",
    "val_generator = ImageDataGenerator().flow_from_directory(\n",
    "    valid_data_dir, \n",
    "    target_size=(64, 64), \n",
    "    batch_size=16)"
   ]
  },
  {
   "cell_type": "code",
   "execution_count": 10,
   "metadata": {},
   "outputs": [],
   "source": [
    "#Create our different data sets\n",
    "\n",
    "#Training set\n",
    "X_train, y_train = next(train_generator)\n",
    "\n",
    "#Test set\n",
    "X_test, y_test = next(test_generator)\n",
    "\n",
    "#Validation set\n",
    "X_val, y_val = next(val_generator)"
   ]
  },
  {
   "cell_type": "code",
   "execution_count": 11,
   "metadata": {},
   "outputs": [
    {
     "name": "stdout",
     "output_type": "stream",
     "text": [
      "(5216, 64, 64, 3)\n",
      "(5216, 2)\n",
      "(624, 64, 64, 3)\n",
      "(624, 2)\n"
     ]
    }
   ],
   "source": [
    "#Let's look at the shape of our data\n",
    "\n",
    "print(X_train.shape)\n",
    "print(y_train.shape)\n",
    "print(X_test.shape)\n",
    "print(y_test.shape)"
   ]
  },
  {
   "cell_type": "markdown",
   "metadata": {},
   "source": [
    "#### Let's reshape our data ####"
   ]
  },
  {
   "cell_type": "code",
   "execution_count": 12,
   "metadata": {},
   "outputs": [
    {
     "data": {
      "text/plain": [
       "array([[[[143., 143., 143.],\n",
       "         [ 27.,  27.,  27.],\n",
       "         [ 40.,  40.,  40.],\n",
       "         ...,\n",
       "         [ 42.,  42.,  42.],\n",
       "         [ 27.,  27.,  27.],\n",
       "         [ 45.,  45.,  45.]],\n",
       "\n",
       "        [[ 32.,  32.,  32.],\n",
       "         [109., 109., 109.],\n",
       "         [ 33.,  33.,  33.],\n",
       "         ...,\n",
       "         [ 44.,  44.,  44.],\n",
       "         [ 34.,  34.,  34.],\n",
       "         [101., 101., 101.]],\n",
       "\n",
       "        [[ 36.,  36.,  36.],\n",
       "         [156., 156., 156.],\n",
       "         [ 46.,  46.,  46.],\n",
       "         ...,\n",
       "         [ 45.,  45.,  45.],\n",
       "         [ 38.,  38.,  38.],\n",
       "         [ 38.,  38.,  38.]],\n",
       "\n",
       "        ...,\n",
       "\n",
       "        [[ 42.,  42.,  42.],\n",
       "         [ 41.,  41.,  41.],\n",
       "         [ 41.,  41.,  41.],\n",
       "         ...,\n",
       "         [ 35.,  35.,  35.],\n",
       "         [ 37.,  37.,  37.],\n",
       "         [ 37.,  37.,  37.]],\n",
       "\n",
       "        [[ 42.,  42.,  42.],\n",
       "         [ 42.,  42.,  42.],\n",
       "         [ 40.,  40.,  40.],\n",
       "         ...,\n",
       "         [ 36.,  36.,  36.],\n",
       "         [ 37.,  37.,  37.],\n",
       "         [ 37.,  37.,  37.]],\n",
       "\n",
       "        [[ 42.,  42.,  42.],\n",
       "         [ 41.,  41.,  41.],\n",
       "         [ 41.,  41.,  41.],\n",
       "         ...,\n",
       "         [ 36.,  36.,  36.],\n",
       "         [ 37.,  37.,  37.],\n",
       "         [ 37.,  37.,  37.]]],\n",
       "\n",
       "\n",
       "       [[[  0.,   0.,   0.],\n",
       "         [ 21.,  21.,  21.],\n",
       "         [ 42.,  42.,  42.],\n",
       "         ...,\n",
       "         [ 76.,  76.,  76.],\n",
       "         [ 60.,  60.,  60.],\n",
       "         [ 38.,  38.,  38.]],\n",
       "\n",
       "        [[  0.,   0.,   0.],\n",
       "         [ 17.,  17.,  17.],\n",
       "         [ 41.,  41.,  41.],\n",
       "         ...,\n",
       "         [ 73.,  73.,  73.],\n",
       "         [ 51.,  51.,  51.],\n",
       "         [ 36.,  36.,  36.]],\n",
       "\n",
       "        [[  0.,   0.,   0.],\n",
       "         [  9.,   9.,   9.],\n",
       "         [ 34.,  34.,  34.],\n",
       "         ...,\n",
       "         [ 75.,  75.,  75.],\n",
       "         [ 52.,  52.,  52.],\n",
       "         [ 29.,  29.,  29.]],\n",
       "\n",
       "        ...,\n",
       "\n",
       "        [[  0.,   0.,   0.],\n",
       "         [  0.,   0.,   0.],\n",
       "         [  0.,   0.,   0.],\n",
       "         ...,\n",
       "         [  0.,   0.,   0.],\n",
       "         [  0.,   0.,   0.],\n",
       "         [  0.,   0.,   0.]],\n",
       "\n",
       "        [[  0.,   0.,   0.],\n",
       "         [  0.,   0.,   0.],\n",
       "         [  0.,   0.,   0.],\n",
       "         ...,\n",
       "         [  0.,   0.,   0.],\n",
       "         [  0.,   0.,   0.],\n",
       "         [  0.,   0.,   0.]],\n",
       "\n",
       "        [[  0.,   0.,   0.],\n",
       "         [  0.,   0.,   0.],\n",
       "         [  0.,   0.,   0.],\n",
       "         ...,\n",
       "         [  0.,   0.,   0.],\n",
       "         [  0.,   0.,   0.],\n",
       "         [  0.,   0.,   0.]]],\n",
       "\n",
       "\n",
       "       [[[ 60.,  60.,  60.],\n",
       "         [ 18.,  18.,  18.],\n",
       "         [ 17.,  17.,  17.],\n",
       "         ...,\n",
       "         [185., 185., 185.],\n",
       "         [195., 195., 195.],\n",
       "         [202., 202., 202.]],\n",
       "\n",
       "        [[ 46.,  46.,  46.],\n",
       "         [ 13.,  13.,  13.],\n",
       "         [ 16.,  16.,  16.],\n",
       "         ...,\n",
       "         [157., 157., 157.],\n",
       "         [194., 194., 194.],\n",
       "         [204., 204., 204.]],\n",
       "\n",
       "        [[ 24.,  24.,  24.],\n",
       "         [ 14.,  14.,  14.],\n",
       "         [ 15.,  15.,  15.],\n",
       "         ...,\n",
       "         [166., 166., 166.],\n",
       "         [190., 190., 190.],\n",
       "         [205., 205., 205.]],\n",
       "\n",
       "        ...,\n",
       "\n",
       "        [[ 22.,  22.,  22.],\n",
       "         [ 22.,  22.,  22.],\n",
       "         [ 21.,  21.,  21.],\n",
       "         ...,\n",
       "         [ 34.,  34.,  34.],\n",
       "         [ 27.,  27.,  27.],\n",
       "         [ 16.,  16.,  16.]],\n",
       "\n",
       "        [[ 23.,  23.,  23.],\n",
       "         [ 22.,  22.,  22.],\n",
       "         [ 22.,  22.,  22.],\n",
       "         ...,\n",
       "         [ 23.,  23.,  23.],\n",
       "         [ 21.,  21.,  21.],\n",
       "         [ 12.,  12.,  12.]],\n",
       "\n",
       "        [[ 22.,  22.,  22.],\n",
       "         [ 22.,  22.,  22.],\n",
       "         [ 21.,  21.,  21.],\n",
       "         ...,\n",
       "         [ 14.,  14.,  14.],\n",
       "         [ 18.,  18.,  18.],\n",
       "         [ 14.,  14.,  14.]]],\n",
       "\n",
       "\n",
       "       ...,\n",
       "\n",
       "\n",
       "       [[[ 45.,  45.,  45.],\n",
       "         [ 46.,  46.,  46.],\n",
       "         [ 48.,  48.,  48.],\n",
       "         ...,\n",
       "         [ 53.,  53.,  53.],\n",
       "         [ 47.,  47.,  47.],\n",
       "         [ 37.,  37.,  37.]],\n",
       "\n",
       "        [[ 52.,  52.,  52.],\n",
       "         [ 52.,  52.,  52.],\n",
       "         [255., 255., 255.],\n",
       "         ...,\n",
       "         [ 61.,  61.,  61.],\n",
       "         [ 53.,  53.,  53.],\n",
       "         [ 53.,  53.,  53.]],\n",
       "\n",
       "        [[ 65.,  65.,  65.],\n",
       "         [ 72.,  72.,  72.],\n",
       "         [ 75.,  75.,  75.],\n",
       "         ...,\n",
       "         [ 64.,  64.,  64.],\n",
       "         [ 63.,  63.,  63.],\n",
       "         [ 56.,  56.,  56.]],\n",
       "\n",
       "        ...,\n",
       "\n",
       "        [[ 24.,  24.,  24.],\n",
       "         [ 51.,  51.,  51.],\n",
       "         [ 71.,  71.,  71.],\n",
       "         ...,\n",
       "         [ 59.,  59.,  59.],\n",
       "         [ 37.,  37.,  37.],\n",
       "         [  2.,   2.,   2.]],\n",
       "\n",
       "        [[ 22.,  22.,  22.],\n",
       "         [ 49.,  49.,  49.],\n",
       "         [ 69.,  69.,  69.],\n",
       "         ...,\n",
       "         [ 57.,  57.,  57.],\n",
       "         [ 32.,  32.,  32.],\n",
       "         [  0.,   0.,   0.]],\n",
       "\n",
       "        [[ 25.,  25.,  25.],\n",
       "         [ 49.,  49.,  49.],\n",
       "         [ 68.,  68.,  68.],\n",
       "         ...,\n",
       "         [ 57.,  57.,  57.],\n",
       "         [ 33.,  33.,  33.],\n",
       "         [  0.,   0.,   0.]]],\n",
       "\n",
       "\n",
       "       [[[102., 102., 102.],\n",
       "         [106., 106., 106.],\n",
       "         [110., 110., 110.],\n",
       "         ...,\n",
       "         [ 70.,  70.,  70.],\n",
       "         [168., 168., 168.],\n",
       "         [ 67.,  67.,  67.]],\n",
       "\n",
       "        [[116., 116., 116.],\n",
       "         [121., 121., 121.],\n",
       "         [126., 126., 126.],\n",
       "         ...,\n",
       "         [ 83.,  83.,  83.],\n",
       "         [ 81.,  81.,  81.],\n",
       "         [ 79.,  79.,  79.]],\n",
       "\n",
       "        [[132., 132., 132.],\n",
       "         [139., 139., 139.],\n",
       "         [142., 142., 142.],\n",
       "         ...,\n",
       "         [103., 103., 103.],\n",
       "         [103., 103., 103.],\n",
       "         [ 88.,  88.,  88.]],\n",
       "\n",
       "        ...,\n",
       "\n",
       "        [[ 38.,  38.,  38.],\n",
       "         [ 27.,  27.,  27.],\n",
       "         [109., 109., 109.],\n",
       "         ...,\n",
       "         [ 39.,  39.,  39.],\n",
       "         [ 41.,  41.,  41.],\n",
       "         [ 42.,  42.,  42.]],\n",
       "\n",
       "        [[ 39.,  39.,  39.],\n",
       "         [ 21.,  21.,  21.],\n",
       "         [110., 110., 110.],\n",
       "         ...,\n",
       "         [ 39.,  39.,  39.],\n",
       "         [ 40.,  40.,  40.],\n",
       "         [ 41.,  41.,  41.]],\n",
       "\n",
       "        [[ 38.,  38.,  38.],\n",
       "         [ 24.,  24.,  24.],\n",
       "         [116., 116., 116.],\n",
       "         ...,\n",
       "         [ 40.,  40.,  40.],\n",
       "         [ 41.,  41.,  41.],\n",
       "         [ 42.,  42.,  42.]]],\n",
       "\n",
       "\n",
       "       [[[ 65.,  65.,  65.],\n",
       "         [ 47.,  47.,  47.],\n",
       "         [ 52.,  52.,  52.],\n",
       "         ...,\n",
       "         [171., 171., 171.],\n",
       "         [165., 165., 165.],\n",
       "         [174., 174., 174.]],\n",
       "\n",
       "        [[ 65.,  65.,  65.],\n",
       "         [ 67.,  67.,  67.],\n",
       "         [ 57.,  57.,  57.],\n",
       "         ...,\n",
       "         [162., 162., 162.],\n",
       "         [160., 160., 160.],\n",
       "         [178., 178., 178.]],\n",
       "\n",
       "        [[ 69.,  69.,  69.],\n",
       "         [ 71.,  71.,  71.],\n",
       "         [ 74.,  74.,  74.],\n",
       "         ...,\n",
       "         [150., 150., 150.],\n",
       "         [155., 155., 155.],\n",
       "         [148., 148., 148.]],\n",
       "\n",
       "        ...,\n",
       "\n",
       "        [[ 16.,  16.,  16.],\n",
       "         [  8.,   8.,   8.],\n",
       "         [ 65.,  65.,  65.],\n",
       "         ...,\n",
       "         [ 65.,  65.,  65.],\n",
       "         [ 11.,  11.,  11.],\n",
       "         [  9.,   9.,   9.]],\n",
       "\n",
       "        [[ 17.,  17.,  17.],\n",
       "         [  9.,   9.,   9.],\n",
       "         [ 67.,  67.,  67.],\n",
       "         ...,\n",
       "         [ 58.,  58.,  58.],\n",
       "         [ 11.,  11.,  11.],\n",
       "         [ 12.,  12.,  12.]],\n",
       "\n",
       "        [[ 16.,  16.,  16.],\n",
       "         [  9.,   9.,   9.],\n",
       "         [ 67.,  67.,  67.],\n",
       "         ...,\n",
       "         [ 51.,  51.,  51.],\n",
       "         [ 10.,  10.,  10.],\n",
       "         [ 12.,  12.,  12.]]]], dtype=float32)"
      ]
     },
     "execution_count": 12,
     "metadata": {},
     "output_type": "execute_result"
    }
   ],
   "source": [
    "X_train"
   ]
  },
  {
   "cell_type": "code",
   "execution_count": 13,
   "metadata": {},
   "outputs": [
    {
     "data": {
      "text/plain": [
       "(12288, 5216)"
      ]
     },
     "execution_count": 13,
     "metadata": {},
     "output_type": "execute_result"
    }
   ],
   "source": [
    "X_train_unrow = X_train.reshape(5216, -1).T\n",
    "X_train_unrow.shape"
   ]
  },
  {
   "cell_type": "code",
   "execution_count": 14,
   "metadata": {},
   "outputs": [
    {
     "data": {
      "text/plain": [
       "array([[143.,   0.,  60., ...,  45., 102.,  65.],\n",
       "       [143.,   0.,  60., ...,  45., 102.,  65.],\n",
       "       [143.,   0.,  60., ...,  45., 102.,  65.],\n",
       "       ...,\n",
       "       [ 37.,   0.,  14., ...,   0.,  42.,  12.],\n",
       "       [ 37.,   0.,  14., ...,   0.,  42.,  12.],\n",
       "       [ 37.,   0.,  14., ...,   0.,  42.,  12.]], dtype=float32)"
      ]
     },
     "execution_count": 14,
     "metadata": {},
     "output_type": "execute_result"
    }
   ],
   "source": [
    "X_train_unrow"
   ]
  },
  {
   "cell_type": "code",
   "execution_count": 15,
   "metadata": {},
   "outputs": [
    {
     "data": {
      "text/plain": [
       "array([[[[ 65.,  65.,  65.],\n",
       "         [ 73.,  73.,  73.],\n",
       "         [147., 147., 147.],\n",
       "         ...,\n",
       "         [ 51.,  51.,  51.],\n",
       "         [ 40.,  40.,  40.],\n",
       "         [ 21.,  21.,  21.]],\n",
       "\n",
       "        [[ 63.,  63.,  63.],\n",
       "         [ 86.,  86.,  86.],\n",
       "         [136., 136., 136.],\n",
       "         ...,\n",
       "         [ 57.,  57.,  57.],\n",
       "         [ 33.,  33.,  33.],\n",
       "         [242., 242., 242.]],\n",
       "\n",
       "        [[ 63.,  63.,  63.],\n",
       "         [ 84.,  84.,  84.],\n",
       "         [ 83.,  83.,  83.],\n",
       "         ...,\n",
       "         [ 47.,  47.,  47.],\n",
       "         [ 34.,  34.,  34.],\n",
       "         [  3.,   3.,   3.]],\n",
       "\n",
       "        ...,\n",
       "\n",
       "        [[  9.,   9.,   9.],\n",
       "         [ 16.,  16.,  16.],\n",
       "         [ 24.,  24.,  24.],\n",
       "         ...,\n",
       "         [  0.,   0.,   0.],\n",
       "         [  0.,   0.,   0.],\n",
       "         [  0.,   0.,   0.]],\n",
       "\n",
       "        [[ 12.,  12.,  12.],\n",
       "         [ 10.,  10.,  10.],\n",
       "         [ 30.,  30.,  30.],\n",
       "         ...,\n",
       "         [  0.,   0.,   0.],\n",
       "         [  0.,   0.,   0.],\n",
       "         [  0.,   0.,   0.]],\n",
       "\n",
       "        [[  0.,   0.,   0.],\n",
       "         [  1.,   1.,   1.],\n",
       "         [ 10.,  10.,  10.],\n",
       "         ...,\n",
       "         [  0.,   0.,   0.],\n",
       "         [  0.,   0.,   0.],\n",
       "         [  0.,   0.,   0.]]],\n",
       "\n",
       "\n",
       "       [[[ 35.,  35.,  35.],\n",
       "         [ 75.,  75.,  75.],\n",
       "         [ 90.,  90.,  90.],\n",
       "         ...,\n",
       "         [ 17.,  17.,  17.],\n",
       "         [ 14.,  14.,  14.],\n",
       "         [  9.,   9.,   9.]],\n",
       "\n",
       "        [[ 40.,  40.,  40.],\n",
       "         [ 73.,  73.,  73.],\n",
       "         [250., 250., 250.],\n",
       "         ...,\n",
       "         [ 22.,  22.,  22.],\n",
       "         [ 12.,  12.,  12.],\n",
       "         [  5.,   5.,   5.]],\n",
       "\n",
       "        [[ 36.,  36.,  36.],\n",
       "         [ 69.,  69.,  69.],\n",
       "         [ 94.,  94.,  94.],\n",
       "         ...,\n",
       "         [ 25.,  25.,  25.],\n",
       "         [ 12.,  12.,  12.],\n",
       "         [  7.,   7.,   7.]],\n",
       "\n",
       "        ...,\n",
       "\n",
       "        [[  0.,   0.,   0.],\n",
       "         [  0.,   0.,   0.],\n",
       "         [ 10.,  10.,  10.],\n",
       "         ...,\n",
       "         [  6.,   6.,   6.],\n",
       "         [  0.,   0.,   0.],\n",
       "         [  0.,   0.,   0.]],\n",
       "\n",
       "        [[  0.,   0.,   0.],\n",
       "         [  0.,   0.,   0.],\n",
       "         [ 10.,  10.,  10.],\n",
       "         ...,\n",
       "         [  6.,   6.,   6.],\n",
       "         [  0.,   0.,   0.],\n",
       "         [  0.,   0.,   0.]],\n",
       "\n",
       "        [[  0.,   0.,   0.],\n",
       "         [  0.,   0.,   0.],\n",
       "         [ 10.,  10.,  10.],\n",
       "         ...,\n",
       "         [  5.,   5.,   5.],\n",
       "         [  0.,   0.,   0.],\n",
       "         [  0.,   0.,   0.]]],\n",
       "\n",
       "\n",
       "       [[[ 95.,  95.,  95.],\n",
       "         [120., 120., 120.],\n",
       "         [100., 100., 100.],\n",
       "         ...,\n",
       "         [170., 170., 170.],\n",
       "         [196., 196., 196.],\n",
       "         [205., 205., 205.]],\n",
       "\n",
       "        [[157., 157., 157.],\n",
       "         [127., 127., 127.],\n",
       "         [114., 114., 114.],\n",
       "         ...,\n",
       "         [150., 150., 150.],\n",
       "         [182., 182., 182.],\n",
       "         [201., 201., 201.]],\n",
       "\n",
       "        [[125., 125., 125.],\n",
       "         [137., 137., 137.],\n",
       "         [ 80.,  80.,  80.],\n",
       "         ...,\n",
       "         [155., 155., 155.],\n",
       "         [186., 186., 186.],\n",
       "         [189., 189., 189.]],\n",
       "\n",
       "        ...,\n",
       "\n",
       "        [[ 16.,  16.,  16.],\n",
       "         [ 16.,  16.,  16.],\n",
       "         [ 14.,  14.,  14.],\n",
       "         ...,\n",
       "         [ 19.,  19.,  19.],\n",
       "         [ 19.,  19.,  19.],\n",
       "         [ 19.,  19.,  19.]],\n",
       "\n",
       "        [[ 16.,  16.,  16.],\n",
       "         [ 15.,  15.,  15.],\n",
       "         [ 14.,  14.,  14.],\n",
       "         ...,\n",
       "         [ 19.,  19.,  19.],\n",
       "         [ 19.,  19.,  19.],\n",
       "         [ 20.,  20.,  20.]],\n",
       "\n",
       "        [[ 17.,  17.,  17.],\n",
       "         [ 15.,  15.,  15.],\n",
       "         [ 14.,  14.,  14.],\n",
       "         ...,\n",
       "         [ 19.,  19.,  19.],\n",
       "         [ 19.,  19.,  19.],\n",
       "         [ 20.,  20.,  20.]]],\n",
       "\n",
       "\n",
       "       ...,\n",
       "\n",
       "\n",
       "       [[[ 39.,  39.,  39.],\n",
       "         [ 57.,  57.,  57.],\n",
       "         [ 69.,  69.,  69.],\n",
       "         ...,\n",
       "         [145., 145., 145.],\n",
       "         [148., 148., 148.],\n",
       "         [153., 153., 153.]],\n",
       "\n",
       "        [[ 48.,  48.,  48.],\n",
       "         [ 65.,  65.,  65.],\n",
       "         [ 67.,  67.,  67.],\n",
       "         ...,\n",
       "         [142., 142., 142.],\n",
       "         [142., 142., 142.],\n",
       "         [156., 156., 156.]],\n",
       "\n",
       "        [[ 42.,  42.,  42.],\n",
       "         [ 65.,  65.,  65.],\n",
       "         [ 81.,  81.,  81.],\n",
       "         ...,\n",
       "         [145., 145., 145.],\n",
       "         [144., 144., 144.],\n",
       "         [136., 136., 136.]],\n",
       "\n",
       "        ...,\n",
       "\n",
       "        [[ 15.,  15.,  15.],\n",
       "         [ 11.,  11.,  11.],\n",
       "         [ 42.,  42.,  42.],\n",
       "         ...,\n",
       "         [ 18.,  18.,  18.],\n",
       "         [ 22.,  22.,  22.],\n",
       "         [ 22.,  22.,  22.]],\n",
       "\n",
       "        [[ 14.,  14.,  14.],\n",
       "         [  9.,   9.,   9.],\n",
       "         [ 43.,  43.,  43.],\n",
       "         ...,\n",
       "         [ 16.,  16.,  16.],\n",
       "         [ 21.,  21.,  21.],\n",
       "         [ 23.,  23.,  23.]],\n",
       "\n",
       "        [[ 14.,  14.,  14.],\n",
       "         [  9.,   9.,   9.],\n",
       "         [ 48.,  48.,  48.],\n",
       "         ...,\n",
       "         [ 17.,  17.,  17.],\n",
       "         [ 21.,  21.,  21.],\n",
       "         [ 23.,  23.,  23.]]],\n",
       "\n",
       "\n",
       "       [[[ 90.,  90.,  90.],\n",
       "         [ 94.,  94.,  94.],\n",
       "         [ 98.,  98.,  98.],\n",
       "         ...,\n",
       "         [106., 106., 106.],\n",
       "         [105., 105., 105.],\n",
       "         [109., 109., 109.]],\n",
       "\n",
       "        [[ 99.,  99.,  99.],\n",
       "         [102., 102., 102.],\n",
       "         [104., 104., 104.],\n",
       "         ...,\n",
       "         [121., 121., 121.],\n",
       "         [119., 119., 119.],\n",
       "         [122., 122., 122.]],\n",
       "\n",
       "        [[107., 107., 107.],\n",
       "         [104., 104., 104.],\n",
       "         [141., 141., 141.],\n",
       "         ...,\n",
       "         [121., 121., 121.],\n",
       "         [124., 124., 124.],\n",
       "         [145., 145., 145.]],\n",
       "\n",
       "        ...,\n",
       "\n",
       "        [[204., 204., 204.],\n",
       "         [ 39.,  39.,  39.],\n",
       "         [ 21.,  21.,  21.],\n",
       "         ...,\n",
       "         [ 14.,  14.,  14.],\n",
       "         [ 21.,  21.,  21.],\n",
       "         [ 24.,  24.,  24.]],\n",
       "\n",
       "        [[207., 207., 207.],\n",
       "         [ 42.,  42.,  42.],\n",
       "         [ 20.,  20.,  20.],\n",
       "         ...,\n",
       "         [ 12.,  12.,  12.],\n",
       "         [ 22.,  22.,  22.],\n",
       "         [ 23.,  23.,  23.]],\n",
       "\n",
       "        [[204., 204., 204.],\n",
       "         [ 47.,  47.,  47.],\n",
       "         [ 20.,  20.,  20.],\n",
       "         ...,\n",
       "         [ 10.,  10.,  10.],\n",
       "         [ 22.,  22.,  22.],\n",
       "         [ 23.,  23.,  23.]]],\n",
       "\n",
       "\n",
       "       [[[ 20.,  20.,  20.],\n",
       "         [ 21.,  21.,  21.],\n",
       "         [ 35.,  35.,  35.],\n",
       "         ...,\n",
       "         [ 23.,  23.,  23.],\n",
       "         [  5.,   5.,   5.],\n",
       "         [  0.,   0.,   0.]],\n",
       "\n",
       "        [[ 30.,  30.,  30.],\n",
       "         [ 36.,  36.,  36.],\n",
       "         [ 42.,  42.,  42.],\n",
       "         ...,\n",
       "         [ 45.,  45.,  45.],\n",
       "         [ 30.,  30.,  30.],\n",
       "         [  7.,   7.,   7.]],\n",
       "\n",
       "        [[ 28.,  28.,  28.],\n",
       "         [ 37.,  37.,  37.],\n",
       "         [ 44.,  44.,  44.],\n",
       "         ...,\n",
       "         [ 39.,  39.,  39.],\n",
       "         [ 31.,  31.,  31.],\n",
       "         [ 27.,  27.,  27.]],\n",
       "\n",
       "        ...,\n",
       "\n",
       "        [[ 17.,  17.,  17.],\n",
       "         [ 23.,  23.,  23.],\n",
       "         [ 17.,  17.,  17.],\n",
       "         ...,\n",
       "         [ 17.,  17.,  17.],\n",
       "         [ 21.,  21.,  21.],\n",
       "         [ 49.,  49.,  49.]],\n",
       "\n",
       "        [[ 17.,  17.,  17.],\n",
       "         [ 25.,  25.,  25.],\n",
       "         [ 16.,  16.,  16.],\n",
       "         ...,\n",
       "         [ 17.,  17.,  17.],\n",
       "         [ 21.,  21.,  21.],\n",
       "         [ 50.,  50.,  50.]],\n",
       "\n",
       "        [[ 15.,  15.,  15.],\n",
       "         [ 14.,  14.,  14.],\n",
       "         [ 15.,  15.,  15.],\n",
       "         ...,\n",
       "         [ 18.,  18.,  18.],\n",
       "         [ 23.,  23.,  23.],\n",
       "         [ 51.,  51.,  51.]]]], dtype=float32)"
      ]
     },
     "execution_count": 15,
     "metadata": {},
     "output_type": "execute_result"
    }
   ],
   "source": [
    "X_test"
   ]
  },
  {
   "cell_type": "code",
   "execution_count": 16,
   "metadata": {
    "scrolled": true
   },
   "outputs": [
    {
     "data": {
      "text/plain": [
       "(12288, 624)"
      ]
     },
     "execution_count": 16,
     "metadata": {},
     "output_type": "execute_result"
    }
   ],
   "source": [
    "X_test_unrow = X_test.reshape(624, -1).T\n",
    "X_test_unrow.shape"
   ]
  },
  {
   "cell_type": "code",
   "execution_count": 17,
   "metadata": {},
   "outputs": [
    {
     "data": {
      "text/plain": [
       "array([[65., 35., 95., ..., 39., 90., 20.],\n",
       "       [65., 35., 95., ..., 39., 90., 20.],\n",
       "       [65., 35., 95., ..., 39., 90., 20.],\n",
       "       ...,\n",
       "       [ 0.,  0., 20., ..., 23., 23., 51.],\n",
       "       [ 0.,  0., 20., ..., 23., 23., 51.],\n",
       "       [ 0.,  0., 20., ..., 23., 23., 51.]], dtype=float32)"
      ]
     },
     "execution_count": 17,
     "metadata": {},
     "output_type": "execute_result"
    }
   ],
   "source": [
    "X_test_unrow"
   ]
  },
  {
   "cell_type": "code",
   "execution_count": 18,
   "metadata": {},
   "outputs": [
    {
     "data": {
      "text/plain": [
       "array([[0., 1.],\n",
       "       [1., 0.],\n",
       "       [0., 1.],\n",
       "       ...,\n",
       "       [0., 1.],\n",
       "       [0., 1.],\n",
       "       [0., 1.]], dtype=float32)"
      ]
     },
     "execution_count": 18,
     "metadata": {},
     "output_type": "execute_result"
    }
   ],
   "source": [
    "#Taking a look at our y_train data\n",
    "y_train"
   ]
  },
  {
   "cell_type": "code",
   "execution_count": 19,
   "metadata": {},
   "outputs": [
    {
     "data": {
      "text/plain": [
       "{'normal': 0, 'pneumonia': 1}"
      ]
     },
     "execution_count": 19,
     "metadata": {},
     "output_type": "execute_result"
    }
   ],
   "source": [
    "#Let's take a look at which index represents what class\n",
    "train_generator.class_indices"
   ]
  },
  {
   "cell_type": "code",
   "execution_count": 38,
   "metadata": {},
   "outputs": [
    {
     "data": {
      "text/plain": [
       "array([[1., 0., 1., ..., 1., 1., 1.]], dtype=float32)"
      ]
     },
     "execution_count": 38,
     "metadata": {},
     "output_type": "execute_result"
    }
   ],
   "source": [
    "y_train_final = y_train.T[[1]]\n",
    "y_train_final[:20]"
   ]
  },
  {
   "cell_type": "code",
   "execution_count": 21,
   "metadata": {},
   "outputs": [
    {
     "data": {
      "text/plain": [
       "(1, 5216)"
      ]
     },
     "execution_count": 21,
     "metadata": {},
     "output_type": "execute_result"
    }
   ],
   "source": [
    "y_train_final.shape"
   ]
  },
  {
   "cell_type": "code",
   "execution_count": 22,
   "metadata": {},
   "outputs": [
    {
     "data": {
      "text/plain": [
       "array([[0., 1.],\n",
       "       [0., 1.],\n",
       "       [0., 1.],\n",
       "       ...,\n",
       "       [0., 1.],\n",
       "       [0., 1.],\n",
       "       [0., 1.]], dtype=float32)"
      ]
     },
     "execution_count": 22,
     "metadata": {},
     "output_type": "execute_result"
    }
   ],
   "source": [
    "#Let's take a look at our y_test data\n",
    "y_test"
   ]
  },
  {
   "cell_type": "code",
   "execution_count": 23,
   "metadata": {},
   "outputs": [
    {
     "data": {
      "text/plain": [
       "array([[1., 1., 1., 1., 1., 1., 1., 0., 1., 0., 1., 1., 0., 0., 0., 1.,\n",
       "        0., 1., 1., 0., 0., 0., 0., 0., 1., 1., 0., 0., 1., 0., 1., 1.,\n",
       "        0., 1., 1., 0., 1., 1., 1., 1., 1., 0., 1., 1., 0., 0., 1., 0.,\n",
       "        0., 0., 1., 0., 1., 0., 0., 1., 0., 1., 1., 1., 0., 1., 1., 1.,\n",
       "        1., 0., 0., 1., 0., 1., 1., 1., 1., 0., 0., 1., 1., 0., 0., 0.,\n",
       "        1., 0., 1., 1., 0., 0., 0., 1., 1., 1., 0., 1., 1., 1., 1., 1.,\n",
       "        0., 0., 0., 1., 0., 1., 1., 1., 1., 1., 1., 1., 0., 0., 1., 1.,\n",
       "        0., 1., 1., 1., 0., 0., 1., 1., 1., 1., 1., 0., 0., 0., 1., 1.,\n",
       "        1., 1., 0., 0., 0., 1., 1., 0., 1., 1., 1., 0., 1., 0., 1., 0.,\n",
       "        0., 1., 1., 1., 0., 0., 1., 0., 0., 1., 1., 0., 1., 1., 1., 1.,\n",
       "        1., 0., 0., 0., 1., 0., 1., 1., 0., 1., 1., 1., 1., 0., 1., 1.,\n",
       "        1., 0., 1., 1., 1., 1., 0., 1., 1., 0., 0., 0., 0., 0., 1., 1.,\n",
       "        1., 0., 1., 1., 1., 1., 1., 0., 1., 0., 0., 0., 1., 0., 0., 1.,\n",
       "        1., 1., 1., 1., 0., 0., 1., 0., 1., 1., 1., 0., 1., 0., 0., 1.,\n",
       "        0., 1., 1., 1., 0., 1., 0., 1., 0., 1., 0., 1., 1., 0., 1., 0.,\n",
       "        1., 0., 1., 1., 1., 1., 0., 0., 1., 1., 1., 1., 1., 1., 1., 0.,\n",
       "        1., 1., 1., 1., 1., 1., 1., 1., 0., 1., 1., 0., 1., 1., 0., 1.,\n",
       "        1., 1., 0., 0., 1., 1., 1., 1., 0., 0., 0., 1., 0., 0., 0., 1.,\n",
       "        0., 1., 1., 1., 0., 0., 0., 1., 0., 1., 0., 1., 1., 0., 1., 0.,\n",
       "        1., 1., 1., 1., 1., 1., 1., 0., 1., 1., 0., 0., 1., 1., 1., 0.,\n",
       "        1., 1., 0., 1., 1., 0., 1., 1., 0., 1., 1., 1., 0., 0., 1., 1.,\n",
       "        1., 0., 1., 1., 0., 1., 1., 0., 1., 0., 1., 1., 1., 1., 1., 1.,\n",
       "        0., 0., 0., 0., 0., 0., 1., 0., 0., 0., 1., 1., 1., 1., 1., 1.,\n",
       "        1., 1., 0., 0., 1., 1., 1., 1., 0., 1., 1., 1., 1., 1., 1., 0.,\n",
       "        1., 1., 0., 1., 1., 1., 1., 0., 0., 0., 1., 0., 1., 1., 1., 0.,\n",
       "        0., 1., 1., 1., 1., 1., 1., 1., 1., 0., 1., 0., 0., 1., 1., 0.,\n",
       "        1., 0., 1., 0., 1., 1., 0., 1., 1., 0., 1., 1., 1., 1., 1., 1.,\n",
       "        0., 1., 1., 1., 0., 1., 1., 1., 0., 1., 0., 1., 1., 0., 1., 1.,\n",
       "        1., 1., 1., 1., 0., 0., 1., 0., 1., 1., 0., 1., 1., 1., 1., 1.,\n",
       "        0., 0., 1., 1., 0., 0., 1., 1., 0., 0., 1., 1., 1., 1., 0., 1.,\n",
       "        1., 1., 0., 1., 1., 1., 0., 1., 0., 1., 1., 0., 1., 0., 1., 1.,\n",
       "        0., 1., 1., 1., 0., 1., 1., 1., 1., 1., 1., 1., 0., 0., 1., 1.,\n",
       "        0., 1., 1., 1., 1., 1., 0., 1., 1., 0., 0., 1., 0., 0., 0., 0.,\n",
       "        0., 1., 1., 1., 0., 1., 1., 1., 1., 1., 0., 1., 0., 0., 1., 1.,\n",
       "        1., 1., 0., 0., 0., 0., 0., 1., 1., 0., 1., 1., 0., 0., 0., 0.,\n",
       "        1., 1., 0., 0., 1., 0., 1., 0., 1., 0., 1., 1., 1., 0., 1., 0.,\n",
       "        0., 1., 1., 1., 1., 0., 1., 1., 1., 0., 0., 0., 1., 0., 0., 1.,\n",
       "        1., 1., 1., 0., 0., 0., 1., 1., 1., 0., 0., 1., 1., 1., 1., 0.,\n",
       "        1., 1., 1., 1., 1., 1., 1., 0., 1., 1., 0., 0., 0., 1., 1., 1.]],\n",
       "      dtype=float32)"
      ]
     },
     "execution_count": 23,
     "metadata": {},
     "output_type": "execute_result"
    }
   ],
   "source": [
    "y_test_final = y_test.T[[1]]\n",
    "y_test_final[:20]"
   ]
  },
  {
   "cell_type": "code",
   "execution_count": 24,
   "metadata": {},
   "outputs": [
    {
     "data": {
      "text/plain": [
       "(1, 624)"
      ]
     },
     "execution_count": 24,
     "metadata": {},
     "output_type": "execute_result"
    }
   ],
   "source": [
    "y_test_final.shape"
   ]
  },
  {
   "cell_type": "markdown",
   "metadata": {},
   "source": [
    "#### Let's take a look at a pneumonia image vs a normal image ####"
   ]
  },
  {
   "cell_type": "code",
   "execution_count": 41,
   "metadata": {},
   "outputs": [],
   "source": [
    "#plt.imshow(X_train_unrow[0])\n",
    "#plt.axis('off')\n",
    "#plt.title('Normal X-Ray')\n",
    "#plt.show()"
   ]
  },
  {
   "cell_type": "code",
   "execution_count": 43,
   "metadata": {},
   "outputs": [],
   "source": [
    "#Lastly let's normalize our data\n",
    "X_train_final = X_train_unrow / 255\n",
    "X_test_final = X_test_unrow / 255"
   ]
  },
  {
   "cell_type": "code",
   "execution_count": null,
   "metadata": {},
   "outputs": [],
   "source": []
  },
  {
   "cell_type": "code",
   "execution_count": null,
   "metadata": {},
   "outputs": [],
   "source": []
  }
 ],
 "metadata": {
  "kernelspec": {
   "display_name": "Python 3",
   "language": "python",
   "name": "python3"
  },
  "language_info": {
   "codemirror_mode": {
    "name": "ipython",
    "version": 3
   },
   "file_extension": ".py",
   "mimetype": "text/x-python",
   "name": "python",
   "nbconvert_exporter": "python",
   "pygments_lexer": "ipython3",
   "version": "3.8.5"
  }
 },
 "nbformat": 4,
 "nbformat_minor": 4
}
